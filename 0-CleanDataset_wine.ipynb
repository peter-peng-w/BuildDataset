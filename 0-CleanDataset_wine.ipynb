{
    "cells": [
        {
            "cell_type": "code",
            "execution_count": 1,
            "source": [
                "!which python"
            ],
            "outputs": [
                {
                    "output_type": "stream",
                    "name": "stdout",
                    "text": [
                        "/u/pw7nc/anaconda3/bin/python\n"
                    ]
                }
            ],
            "metadata": {}
        },
        {
            "cell_type": "code",
            "execution_count": 2,
            "source": [
                "import os\n",
                "import json\n",
                "import pickle\n",
                "import pandas as pd\n",
                "import numpy as np\n",
                "from nltk.tokenize import sent_tokenize, word_tokenize, wordpunct_tokenize"
            ],
            "outputs": [],
            "metadata": {}
        },
        {
            "cell_type": "markdown",
            "source": [
                "# Load Dataset"
            ],
            "metadata": {}
        },
        {
            "cell_type": "code",
            "execution_count": 3,
            "source": [
                "df_data_file = \"/u/pw7nc/experiments/Dataset/wine/df.pickle\"\n",
                "unpickled_df = pd.read_pickle(df_data_file)"
            ],
            "outputs": [],
            "metadata": {}
        },
        {
            "cell_type": "code",
            "execution_count": 4,
            "source": [
                "unpickled_df"
            ],
            "outputs": [
                {
                    "output_type": "execute_result",
                    "data": {
                        "text/plain": [
                            "         userid   itemid rating  \\\n",
                            "0             1    18856     96   \n",
                            "1             1     3495     93   \n",
                            "2             1    40451     92   \n",
                            "3             1    26767    N/A   \n",
                            "4             1    31665    N/A   \n",
                            "...         ...      ...    ...   \n",
                            "2025990  152917    16814     94   \n",
                            "2025991  152917   168156     91   \n",
                            "2025992  152917   216895     85   \n",
                            "2025993  152917   712760     89   \n",
                            "2025994  152917  1167263    N/A   \n",
                            "\n",
                            "                                                    review  \\\n",
                            "0         Olive, horse sweat, dirty saddle, and smoke. ...   \n",
                            "1         A remarkably floral nose with violet and cham...   \n",
                            "2         Fantastic wine! Blackberry, smoke, olive, ste...   \n",
                            "3         Perfect cork. Perfect fill. Somewhat alluring...   \n",
                            "4         OMFG, this wine just does not quit. I need to...   \n",
                            "...                                                    ...   \n",
                            "2025990   Wow! This is a big Barolo - the bouquet upon ...   \n",
                            "2025991   Opened six bottles, all drank very nicely - W...   \n",
                            "2025992   Dark, inky purple. A little oxidized. Some be...   \n",
                            "2025993               Great Village, see my previous notes   \n",
                            "2025994   Oxidized. Smelled like a big wad of wet raisins.   \n",
                            "\n",
                            "                                                    tokens  \\\n",
                            "0        [olive, ,, horse, sweat, ,, dirty, saddle, ,, ...   \n",
                            "1        [a, remarkably, floral, nose, with, violet, an...   \n",
                            "2        [fantastic, wine, !, blackberry, ,, smoke, ,, ...   \n",
                            "3        [perfect, cork, ., perfect, fill, ., somewhat,...   \n",
                            "4        [omfg, ,, this, wine, just, does, not, quit, ....   \n",
                            "...                                                    ...   \n",
                            "2025990  [wow, !, this, is, a, big, barolo, -, the, bou...   \n",
                            "2025991  [opened, six, bottles, ,, all, drank, very, ni...   \n",
                            "2025992  [dark, ,, inky, purple, ., a, little, oxidized...   \n",
                            "2025993      [great, village, ,, see, my, previous, notes]   \n",
                            "2025994  [oxidized, ., smelled, like, a, big, wad, of, ...   \n",
                            "\n",
                            "                                                       boa  \n",
                            "0        {175: 2, 493: 1, 412: 1, 336: 1, 3: 1, 593: 1,...  \n",
                            "1                                {2: 1, 92: 1, 3: 1, 0: 1}  \n",
                            "2                  {0: 3, 21: 1, 175: 1, 2: 1, 3: 1, 7: 1}  \n",
                            "3                      {54: 1, 20: 1, 22: 1, 221: 1, 5: 1}  \n",
                            "4               {0: 1, 5: 1, 29: 1, 145: 1, 15: 1, 376: 1}  \n",
                            "...                                                    ...  \n",
                            "2025990            {48: 1, 1: 1, 31: 1, 5: 1, 0: 1, 74: 1}  \n",
                            "2025991              {0: 3, 6: 1, 5: 1, 2: 2, 1: 1, 74: 1}  \n",
                            "2025992                   {4: 1, 1: 1, 140: 1, 2: 1, 0: 1}  \n",
                            "2025993                                                 {}  \n",
                            "2025994                                                 {}  \n",
                            "\n",
                            "[1685890 rows x 6 columns]"
                        ],
                        "text/html": [
                            "<div>\n",
                            "<style scoped>\n",
                            "    .dataframe tbody tr th:only-of-type {\n",
                            "        vertical-align: middle;\n",
                            "    }\n",
                            "\n",
                            "    .dataframe tbody tr th {\n",
                            "        vertical-align: top;\n",
                            "    }\n",
                            "\n",
                            "    .dataframe thead th {\n",
                            "        text-align: right;\n",
                            "    }\n",
                            "</style>\n",
                            "<table border=\"1\" class=\"dataframe\">\n",
                            "  <thead>\n",
                            "    <tr style=\"text-align: right;\">\n",
                            "      <th></th>\n",
                            "      <th>userid</th>\n",
                            "      <th>itemid</th>\n",
                            "      <th>rating</th>\n",
                            "      <th>review</th>\n",
                            "      <th>tokens</th>\n",
                            "      <th>boa</th>\n",
                            "    </tr>\n",
                            "  </thead>\n",
                            "  <tbody>\n",
                            "    <tr>\n",
                            "      <th>0</th>\n",
                            "      <td>1</td>\n",
                            "      <td>18856</td>\n",
                            "      <td>96</td>\n",
                            "      <td>Olive, horse sweat, dirty saddle, and smoke. ...</td>\n",
                            "      <td>[olive, ,, horse, sweat, ,, dirty, saddle, ,, ...</td>\n",
                            "      <td>{175: 2, 493: 1, 412: 1, 336: 1, 3: 1, 593: 1,...</td>\n",
                            "    </tr>\n",
                            "    <tr>\n",
                            "      <th>1</th>\n",
                            "      <td>1</td>\n",
                            "      <td>3495</td>\n",
                            "      <td>93</td>\n",
                            "      <td>A remarkably floral nose with violet and cham...</td>\n",
                            "      <td>[a, remarkably, floral, nose, with, violet, an...</td>\n",
                            "      <td>{2: 1, 92: 1, 3: 1, 0: 1}</td>\n",
                            "    </tr>\n",
                            "    <tr>\n",
                            "      <th>2</th>\n",
                            "      <td>1</td>\n",
                            "      <td>40451</td>\n",
                            "      <td>92</td>\n",
                            "      <td>Fantastic wine! Blackberry, smoke, olive, ste...</td>\n",
                            "      <td>[fantastic, wine, !, blackberry, ,, smoke, ,, ...</td>\n",
                            "      <td>{0: 3, 21: 1, 175: 1, 2: 1, 3: 1, 7: 1}</td>\n",
                            "    </tr>\n",
                            "    <tr>\n",
                            "      <th>3</th>\n",
                            "      <td>1</td>\n",
                            "      <td>26767</td>\n",
                            "      <td>N/A</td>\n",
                            "      <td>Perfect cork. Perfect fill. Somewhat alluring...</td>\n",
                            "      <td>[perfect, cork, ., perfect, fill, ., somewhat,...</td>\n",
                            "      <td>{54: 1, 20: 1, 22: 1, 221: 1, 5: 1}</td>\n",
                            "    </tr>\n",
                            "    <tr>\n",
                            "      <th>4</th>\n",
                            "      <td>1</td>\n",
                            "      <td>31665</td>\n",
                            "      <td>N/A</td>\n",
                            "      <td>OMFG, this wine just does not quit. I need to...</td>\n",
                            "      <td>[omfg, ,, this, wine, just, does, not, quit, ....</td>\n",
                            "      <td>{0: 1, 5: 1, 29: 1, 145: 1, 15: 1, 376: 1}</td>\n",
                            "    </tr>\n",
                            "    <tr>\n",
                            "      <th>...</th>\n",
                            "      <td>...</td>\n",
                            "      <td>...</td>\n",
                            "      <td>...</td>\n",
                            "      <td>...</td>\n",
                            "      <td>...</td>\n",
                            "      <td>...</td>\n",
                            "    </tr>\n",
                            "    <tr>\n",
                            "      <th>2025990</th>\n",
                            "      <td>152917</td>\n",
                            "      <td>16814</td>\n",
                            "      <td>94</td>\n",
                            "      <td>Wow! This is a big Barolo - the bouquet upon ...</td>\n",
                            "      <td>[wow, !, this, is, a, big, barolo, -, the, bou...</td>\n",
                            "      <td>{48: 1, 1: 1, 31: 1, 5: 1, 0: 1, 74: 1}</td>\n",
                            "    </tr>\n",
                            "    <tr>\n",
                            "      <th>2025991</th>\n",
                            "      <td>152917</td>\n",
                            "      <td>168156</td>\n",
                            "      <td>91</td>\n",
                            "      <td>Opened six bottles, all drank very nicely - W...</td>\n",
                            "      <td>[opened, six, bottles, ,, all, drank, very, ni...</td>\n",
                            "      <td>{0: 3, 6: 1, 5: 1, 2: 2, 1: 1, 74: 1}</td>\n",
                            "    </tr>\n",
                            "    <tr>\n",
                            "      <th>2025992</th>\n",
                            "      <td>152917</td>\n",
                            "      <td>216895</td>\n",
                            "      <td>85</td>\n",
                            "      <td>Dark, inky purple. A little oxidized. Some be...</td>\n",
                            "      <td>[dark, ,, inky, purple, ., a, little, oxidized...</td>\n",
                            "      <td>{4: 1, 1: 1, 140: 1, 2: 1, 0: 1}</td>\n",
                            "    </tr>\n",
                            "    <tr>\n",
                            "      <th>2025993</th>\n",
                            "      <td>152917</td>\n",
                            "      <td>712760</td>\n",
                            "      <td>89</td>\n",
                            "      <td>Great Village, see my previous notes</td>\n",
                            "      <td>[great, village, ,, see, my, previous, notes]</td>\n",
                            "      <td>{}</td>\n",
                            "    </tr>\n",
                            "    <tr>\n",
                            "      <th>2025994</th>\n",
                            "      <td>152917</td>\n",
                            "      <td>1167263</td>\n",
                            "      <td>N/A</td>\n",
                            "      <td>Oxidized. Smelled like a big wad of wet raisins.</td>\n",
                            "      <td>[oxidized, ., smelled, like, a, big, wad, of, ...</td>\n",
                            "      <td>{}</td>\n",
                            "    </tr>\n",
                            "  </tbody>\n",
                            "</table>\n",
                            "<p>1685890 rows × 6 columns</p>\n",
                            "</div>"
                        ]
                    },
                    "metadata": {},
                    "execution_count": 4
                }
            ],
            "metadata": {}
        },
        {
            "cell_type": "code",
            "execution_count": 5,
            "source": [
                "print(\"Number of users: {}\".format(len(unpickled_df['userid'].unique())))\n",
                "print(\"Number of items: {}\".format(len(unpickled_df['itemid'].unique())))"
            ],
            "outputs": [
                {
                    "output_type": "stream",
                    "name": "stdout",
                    "text": [
                        "Number of users: 44268\n",
                        "Number of items: 485179\n"
                    ]
                }
            ],
            "metadata": {}
        },
        {
            "cell_type": "markdown",
            "source": [
                "# Check 0 sentence review"
            ],
            "metadata": {}
        },
        {
            "cell_type": "code",
            "execution_count": 6,
            "source": [
                "cnt = 0\n",
                "for review_text in list(unpickled_df['review']):\n",
                "    review_sents = sent_tokenize(review_text)\n",
                "    if len(review_sents) == 0:\n",
                "        try:\n",
                "            assert review_text.strip() == ''\n",
                "        except:\n",
                "            print(review_text)\n",
                "        cnt += 1\n",
                "print(\"Number of reviews on whole dataset with 0 sentences: {}\".format(cnt))"
            ],
            "outputs": [
                {
                    "output_type": "stream",
                    "name": "stdout",
                    "text": [
                        "Number of reviews on whole dataset with 0 sentences: 58\n"
                    ]
                }
            ],
            "metadata": {}
        },
        {
            "cell_type": "markdown",
            "source": [
                "# Check Duplicate User-Item"
            ],
            "metadata": {}
        },
        {
            "cell_type": "code",
            "execution_count": 7,
            "source": [
                "user_item_set = set()\n",
                "cnt_duplicate_review = 0\n",
                "\n",
                "for idx, data_chunk in unpickled_df.iterrows():\n",
                "    item_id = data_chunk['itemid']\n",
                "    user_id = data_chunk['userid']\n",
                "    if (user_id, item_id) in user_item_set:\n",
                "        cnt_duplicate_review += 1\n",
                "    else:\n",
                "        user_item_set.add((user_id, item_id))\n",
                "\n",
                "print(\"[Train] Number of duplicate reviews: {}\".format(cnt_duplicate_review))\n",
                "print(\"[Train] Number of unique reviews: {}\".format(len(user_item_set)))"
            ],
            "outputs": [
                {
                    "output_type": "stream",
                    "name": "stdout",
                    "text": [
                        "[Train] Number of duplicate reviews: 0\n",
                        "[Train] Number of unique reviews: 1685890\n"
                    ]
                }
            ],
            "metadata": {}
        },
        {
            "cell_type": "markdown",
            "source": [
                "# Check Number of Reviews per User/Item"
            ],
            "metadata": {}
        },
        {
            "cell_type": "markdown",
            "source": [
                "## User"
            ],
            "metadata": {}
        },
        {
            "cell_type": "code",
            "execution_count": 8,
            "source": [
                "groupby_user_whole = unpickled_df.groupby(['userid'])\n",
                "groupby_item_whole = unpickled_df.groupby(['itemid'])"
            ],
            "outputs": [],
            "metadata": {}
        },
        {
            "cell_type": "code",
            "execution_count": 9,
            "source": [
                "print(\"Number of unique user: {}\".format(len(groupby_user_whole)))\n",
                "print(\"Number of unique item: {}\".format(len(groupby_item_whole)))"
            ],
            "outputs": [
                {
                    "output_type": "stream",
                    "name": "stdout",
                    "text": [
                        "Number of unique user: 44268\n",
                        "Number of unique item: 485179\n"
                    ]
                }
            ],
            "metadata": {}
        },
        {
            "cell_type": "code",
            "execution_count": 10,
            "source": [
                "user_num_review_list = list()\n",
                "user_num_review_dict = dict()\n",
                "cnt = 0\n",
                "for key, cur_user_df in groupby_user_whole:\n",
                "    cur_user_id = key\n",
                "    assert isinstance(cur_user_id, str)\n",
                "    assert cur_user_id not in user_num_review_dict\n",
                "    user_num_review_dict[cur_user_id] = len(cur_user_df)\n",
                "    user_num_review_list.append(len(cur_user_df))\n",
                "    cnt += 1\n",
                "print(\"Finished! Totally {} users\".format(cnt))"
            ],
            "outputs": [
                {
                    "output_type": "stream",
                    "name": "stdout",
                    "text": [
                        "Finished! Totally 44268 users\n"
                    ]
                }
            ],
            "metadata": {}
        },
        {
            "cell_type": "code",
            "execution_count": 11,
            "source": [
                "print(\"Mean number of review per user: {}\".format(\n",
                "    np.mean(user_num_review_list)\n",
                "))\n",
                "print(\"Min number of review per user: {}\".format(\n",
                "    np.min(user_num_review_list)\n",
                "))\n",
                "print(\"Max number of review per user: {}\".format(\n",
                "    np.max(user_num_review_list)\n",
                "))"
            ],
            "outputs": [
                {
                    "output_type": "stream",
                    "name": "stdout",
                    "text": [
                        "Mean number of review per user: 38.083717357910906\n",
                        "Min number of review per user: 1\n",
                        "Max number of review per user: 26374\n"
                    ]
                }
            ],
            "metadata": {}
        },
        {
            "cell_type": "code",
            "execution_count": 12,
            "source": [
                "print(\"Top-10 least numbber of review per user: {}\".format(\n",
                "    sorted(user_num_review_list)[:10]\n",
                "))\n",
                "print(\"Top-10 most numbber of review per user: {}\".format(\n",
                "    sorted(user_num_review_list)[-10:]\n",
                "))"
            ],
            "outputs": [
                {
                    "output_type": "stream",
                    "name": "stdout",
                    "text": [
                        "Top-10 least numbber of review per user: [1, 1, 1, 1, 1, 1, 1, 1, 1, 1]\n",
                        "Top-10 most numbber of review per user: [4601, 4915, 5160, 6086, 6202, 6235, 6620, 6944, 7973, 26374]\n"
                    ]
                }
            ],
            "metadata": {}
        },
        {
            "cell_type": "markdown",
            "source": [
                "## Item"
            ],
            "metadata": {}
        },
        {
            "cell_type": "code",
            "execution_count": 13,
            "source": [
                "item_num_review_list = list()\n",
                "item_num_review_dict = dict()\n",
                "cnt = 0\n",
                "for key, cur_item_df in groupby_item_whole:\n",
                "    cur_item_id = key\n",
                "    assert isinstance(cur_item_id, str)\n",
                "    assert cur_item_id not in item_num_review_dict\n",
                "    item_num_review_dict[cur_item_id] = len(cur_item_df)\n",
                "    item_num_review_list.append(len(cur_item_df))\n",
                "    cnt += 1\n",
                "print(\"Finished! Totally {} items\".format(cnt))"
            ],
            "outputs": [
                {
                    "output_type": "stream",
                    "name": "stdout",
                    "text": [
                        "Finished! Totally 485179 items\n"
                    ]
                }
            ],
            "metadata": {}
        },
        {
            "cell_type": "code",
            "execution_count": 14,
            "source": [
                "print(\"Mean number of review per item: {}\".format(\n",
                "    np.mean(item_num_review_list)\n",
                "))\n",
                "print(\"Min number of review per item: {}\".format(\n",
                "    np.min(item_num_review_list)\n",
                "))\n",
                "print(\"Max number of review per item: {}\".format(\n",
                "    np.max(item_num_review_list)\n",
                "))"
            ],
            "outputs": [
                {
                    "output_type": "stream",
                    "name": "stdout",
                    "text": [
                        "Mean number of review per item: 3.4747794113100525\n",
                        "Min number of review per item: 1\n",
                        "Max number of review per item: 515\n"
                    ]
                }
            ],
            "metadata": {}
        },
        {
            "cell_type": "code",
            "execution_count": 15,
            "source": [
                "print(\"Top-10 least numbber of review per item: {}\".format(\n",
                "    sorted(item_num_review_list)[:10]\n",
                "))\n",
                "print(\"Top-10 most numbber of review per item: {}\".format(\n",
                "    sorted(item_num_review_list)[-10:]\n",
                "))"
            ],
            "outputs": [
                {
                    "output_type": "stream",
                    "name": "stdout",
                    "text": [
                        "Top-10 least numbber of review per item: [1, 1, 1, 1, 1, 1, 1, 1, 1, 1]\n",
                        "Top-10 most numbber of review per item: [264, 266, 277, 279, 285, 290, 362, 416, 434, 515]\n"
                    ]
                }
            ],
            "metadata": {}
        },
        {
            "cell_type": "markdown",
            "source": [
                "# Load Feature Words"
            ],
            "metadata": {}
        },
        {
            "cell_type": "code",
            "execution_count": 18,
            "source": [
                "feature_file_path = \"/u/pw7nc/experiments/Dataset/wine/feature/feature_pure.txt\"\n",
                "feature_word_list = []\n",
                "feature2id_dict = dict()\n",
                "with open(feature_file_path, 'r') as f_feat:\n",
                "    for line in f_feat:\n",
                "        cur_feat_word = line.strip()\n",
                "        assert cur_feat_word not in feature2id_dict\n",
                "        # add this feature word into dict\n",
                "        feature2id_dict[cur_feat_word] = str(len(feature_word_list))\n",
                "        # add this feature word into list\n",
                "        feature_word_list.append(cur_feat_word)\n",
                "print(\"Totally {} features loaded.\".format(len(feature2id_dict)))"
            ],
            "outputs": [
                {
                    "output_type": "stream",
                    "name": "stdout",
                    "text": [
                        "Totally 212 features loaded.\n"
                    ]
                }
            ],
            "metadata": {}
        },
        {
            "cell_type": "code",
            "execution_count": 19,
            "source": [
                "# write feature words into file\n",
                "feature2id_file_path = \"/u/pw7nc/experiments/Dataset/wine/feature/feature2id.json\"\n",
                "with open(feature2id_file_path, 'w') as f_feat:\n",
                "    json.dump(feature2id_dict, f_feat)"
            ],
            "outputs": [],
            "metadata": {}
        },
        {
            "cell_type": "markdown",
            "source": [
                "# Filter Dataset"
            ],
            "metadata": {}
        },
        {
            "cell_type": "code",
            "execution_count": 22,
            "source": [
                "def is_empty_review(review_text):\n",
                "    \"\"\" Check whether a review is an empty review (i.e. 0 char or only have whitespaces)\n",
                "    \"\"\"\n",
                "    review_sents = sent_tokenize(review_text)\n",
                "    if len(review_sents) == 0:\n",
                "        assert review_text.strip() == ''\n",
                "        return True\n",
                "    else:\n",
                "        return False"
            ],
            "outputs": [],
            "metadata": {}
        },
        {
            "cell_type": "code",
            "execution_count": 30,
            "source": [
                "def is_no_feature_review(review_text, feature_word_list):\n",
                "    \"\"\" Check whether this review contains feature word\n",
                "    \"\"\"\n",
                "    review_sents = sent_tokenize(review_text)\n",
                "    feature_occurrence_flag = False\n",
                "    for rvw_sent in review_sents:\n",
                "        # tokenize this review sentence\n",
                "        rvw_tokens = word_tokenize(rvw_sent.lower())\n",
                "        for fea_word in feature_word_list:\n",
                "            if fea_word in rvw_tokens:\n",
                "                feature_occurrence_flag = True\n",
                "                break\n",
                "    return (not feature_occurrence_flag)"
            ],
            "outputs": [],
            "metadata": {}
        },
        {
            "cell_type": "code",
            "execution_count": 31,
            "source": [
                "example_review = \"this Wine is Dark. with Sweet Aroma.\"\n",
                "print(is_no_feature_review(example_review, feature_word_list))"
            ],
            "outputs": [
                {
                    "output_type": "stream",
                    "name": "stdout",
                    "text": [
                        "False\n"
                    ]
                }
            ],
            "metadata": {}
        },
        {
            "cell_type": "code",
            "execution_count": 32,
            "source": [
                "# 1. Remove Empty Review and No Feature Review\n",
                "whole_review_data = []\n",
                "cnt_lines = 0\n",
                "cnt_num_empty_review = 0\n",
                "cnt_num_no_feature_review = 0\n",
                "for idx, data_chunk in unpickled_df.iterrows():\n",
                "    item_id = data_chunk['itemid']\n",
                "    user_id = data_chunk['userid']\n",
                "    rating = data_chunk['rating']   # NOTE: rating's type is str\n",
                "    review = data_chunk['review']\n",
                "    if is_empty_review(review):\n",
                "        # 1. check whether this review is empty\n",
                "        cnt_num_empty_review += 1\n",
                "    elif is_no_feature_review(review, feature_word_list):\n",
                "        # 2. check whether this review contains\n",
                "        cnt_num_no_feature_review += 1\n",
                "    else:\n",
                "        # add to list\n",
                "        whole_review_data.append([item_id, user_id, rating, review])\n",
                "    cnt_lines += 1\n",
                "    if cnt_lines % 100000 == 0:\n",
                "        print(\"{0} lines being processed. {1} empty reviews. {2} no feature reviews.\".format(\n",
                "            cnt_lines, cnt_num_empty_review, cnt_num_no_feature_review\n",
                "        ))\n",
                "print(\"{0} reviews has empty review.\\n{1} reviews has no feature.\\n{2} useful reviews.\".format(\n",
                "    cnt_num_empty_review, cnt_num_no_feature_review, len(whole_review_data)\n",
                "))"
            ],
            "outputs": [
                {
                    "output_type": "stream",
                    "name": "stdout",
                    "text": [
                        "200000 lines being processed.\n",
                        "400000 lines being processed.\n",
                        "600000 lines being processed.\n",
                        "800000 lines being processed.\n",
                        "1000000 lines being processed.\n",
                        "1200000 lines being processed.\n",
                        "1400000 lines being processed.\n",
                        "1600000 lines being processed.\n",
                        "58 reviews has empty review.\n",
                        "362562 reviews has no feature.\n",
                        "1323270 useful reviews.\n"
                    ]
                }
            ],
            "metadata": {}
        },
        {
            "cell_type": "code",
            "execution_count": 33,
            "source": [
                "# 2. Convert review to lower case and tokenize it.\n",
                "print(whole_review_data[0])"
            ],
            "outputs": [
                {
                    "output_type": "stream",
                    "name": "stdout",
                    "text": [
                        "['18856', '1', ' 96', ' Olive, horse sweat, dirty saddle, and smoke. This actually got quite a bit more spicy and expressive with significant aeration. This was a little dry on the palate first but filled out considerably in time, lovely, loaded with tapenade, leather, dry and powerful, very black olive, meaty. This improved considerably the longer it was open. A terrific bottle of 1981, 96+ and improving. This may well be my favorite vintage of Beau except for perhaps the 1990.']\n"
                    ]
                }
            ],
            "metadata": {}
        },
        {
            "cell_type": "code",
            "execution_count": 43,
            "source": [
                "# tokenize the lowercase the review text\n",
                "# strip redundant whitespace of the rating (currently its still str since some of them is N/A)\n",
                "for i in range(len(whole_review_data)):\n",
                "    cur_origin_review = whole_review_data[i][-1]\n",
                "    cur_tokenized_review = \" \".join(word_tokenize(cur_origin_review.lower()))\n",
                "    # remove redundant whitespace of itemid / userid / rating\n",
                "    whole_review_data[i][0] = whole_review_data[i][0].strip()\n",
                "    whole_review_data[i][1] = whole_review_data[i][1].strip()\n",
                "    whole_review_data[i][2] = whole_review_data[i][2].strip()\n",
                "    # tokenize the lowercase the review text\n",
                "    whole_review_data[i][-1] = cur_tokenized_review\n",
                "    if (i+1) % 200000 == 0:\n",
                "        print(\"{} lines processed.\".format(i+1))"
            ],
            "outputs": [
                {
                    "output_type": "stream",
                    "name": "stdout",
                    "text": [
                        "200000 lines processed.\n",
                        "400000 lines processed.\n",
                        "600000 lines processed.\n",
                        "800000 lines processed.\n",
                        "1000000 lines processed.\n",
                        "1200000 lines processed.\n"
                    ]
                }
            ],
            "metadata": {}
        },
        {
            "cell_type": "code",
            "execution_count": 46,
            "source": [
                "print(whole_review_data[0])"
            ],
            "outputs": [
                {
                    "output_type": "stream",
                    "name": "stdout",
                    "text": [
                        "['18856', '1', '96', 'olive , horse sweat , dirty saddle , and smoke . this actually got quite a bit more spicy and expressive with significant aeration . this was a little dry on the palate first but filled out considerably in time , lovely , loaded with tapenade , leather , dry and powerful , very black olive , meaty . this improved considerably the longer it was open . a terrific bottle of 1981 , 96+ and improving . this may well be my favorite vintage of beau except for perhaps the 1990 .']\n"
                    ]
                }
            ],
            "metadata": {}
        },
        {
            "cell_type": "code",
            "execution_count": 45,
            "source": [
                "print(len(whole_review_data))"
            ],
            "outputs": [
                {
                    "output_type": "stream",
                    "name": "stdout",
                    "text": [
                        "1323270\n"
                    ]
                }
            ],
            "metadata": {}
        },
        {
            "cell_type": "markdown",
            "source": [
                "# Check How many N/A ratings are there"
            ],
            "metadata": {}
        },
        {
            "cell_type": "code",
            "execution_count": 47,
            "source": [
                "cnt_na_rating = 0\n",
                "for row in whole_review_data:\n",
                "    if row[2] == \"N/A\":\n",
                "        cnt_na_rating += 1\n",
                "print(\"Totally {0} lines of data. Among them {1} lines has N/A rating.\".format(\n",
                "    len(whole_review_data), cnt_na_rating\n",
                "))"
            ],
            "outputs": [
                {
                    "output_type": "stream",
                    "name": "stdout",
                    "text": [
                        "Totally 1323270 lines of data. Among them 281022 lines has N/A rating.\n"
                    ]
                }
            ],
            "metadata": {}
        },
        {
            "cell_type": "markdown",
            "source": [
                "# Get User/Item Statistics on the Filtered Dataset"
            ],
            "metadata": {}
        },
        {
            "cell_type": "code",
            "execution_count": 48,
            "source": [
                "df_filtered_review = pd.DataFrame(whole_review_data, columns=['item', 'user', 'rating', 'review'])"
            ],
            "outputs": [],
            "metadata": {}
        },
        {
            "cell_type": "code",
            "execution_count": 49,
            "source": [
                "df_filtered_review.head()"
            ],
            "outputs": [
                {
                    "output_type": "execute_result",
                    "data": {
                        "text/plain": [
                            "    item user rating                                             review\n",
                            "0  18856    1     96  olive , horse sweat , dirty saddle , and smoke...\n",
                            "1   3495    1     93  a remarkably floral nose with violet and chamb...\n",
                            "2  40451    1     92  fantastic wine ! blackberry , smoke , olive , ...\n",
                            "3  26767    1    N/A  perfect cork . perfect fill . somewhat allurin...\n",
                            "4  31665    1    N/A  omfg , this wine just does not quit . i need t..."
                        ],
                        "text/html": [
                            "<div>\n",
                            "<style scoped>\n",
                            "    .dataframe tbody tr th:only-of-type {\n",
                            "        vertical-align: middle;\n",
                            "    }\n",
                            "\n",
                            "    .dataframe tbody tr th {\n",
                            "        vertical-align: top;\n",
                            "    }\n",
                            "\n",
                            "    .dataframe thead th {\n",
                            "        text-align: right;\n",
                            "    }\n",
                            "</style>\n",
                            "<table border=\"1\" class=\"dataframe\">\n",
                            "  <thead>\n",
                            "    <tr style=\"text-align: right;\">\n",
                            "      <th></th>\n",
                            "      <th>item</th>\n",
                            "      <th>user</th>\n",
                            "      <th>rating</th>\n",
                            "      <th>review</th>\n",
                            "    </tr>\n",
                            "  </thead>\n",
                            "  <tbody>\n",
                            "    <tr>\n",
                            "      <th>0</th>\n",
                            "      <td>18856</td>\n",
                            "      <td>1</td>\n",
                            "      <td>96</td>\n",
                            "      <td>olive , horse sweat , dirty saddle , and smoke...</td>\n",
                            "    </tr>\n",
                            "    <tr>\n",
                            "      <th>1</th>\n",
                            "      <td>3495</td>\n",
                            "      <td>1</td>\n",
                            "      <td>93</td>\n",
                            "      <td>a remarkably floral nose with violet and chamb...</td>\n",
                            "    </tr>\n",
                            "    <tr>\n",
                            "      <th>2</th>\n",
                            "      <td>40451</td>\n",
                            "      <td>1</td>\n",
                            "      <td>92</td>\n",
                            "      <td>fantastic wine ! blackberry , smoke , olive , ...</td>\n",
                            "    </tr>\n",
                            "    <tr>\n",
                            "      <th>3</th>\n",
                            "      <td>26767</td>\n",
                            "      <td>1</td>\n",
                            "      <td>N/A</td>\n",
                            "      <td>perfect cork . perfect fill . somewhat allurin...</td>\n",
                            "    </tr>\n",
                            "    <tr>\n",
                            "      <th>4</th>\n",
                            "      <td>31665</td>\n",
                            "      <td>1</td>\n",
                            "      <td>N/A</td>\n",
                            "      <td>omfg , this wine just does not quit . i need t...</td>\n",
                            "    </tr>\n",
                            "  </tbody>\n",
                            "</table>\n",
                            "</div>"
                        ]
                    },
                    "metadata": {},
                    "execution_count": 49
                }
            ],
            "metadata": {}
        },
        {
            "cell_type": "code",
            "execution_count": 50,
            "source": [
                "groupby_user_whole_filter = df_filtered_review.groupby(['user'])\n",
                "groupby_item_whole_filter = df_filtered_review.groupby(['item'])"
            ],
            "outputs": [],
            "metadata": {}
        },
        {
            "cell_type": "code",
            "execution_count": 51,
            "source": [
                "print(\"Number of unique user: {}\".format(len(groupby_user_whole_filter)))\n",
                "print(\"Number of unique item: {}\".format(len(groupby_item_whole_filter)))"
            ],
            "outputs": [
                {
                    "output_type": "stream",
                    "name": "stdout",
                    "text": [
                        "Number of unique user: 36711\n",
                        "Number of unique item: 417340\n"
                    ]
                }
            ],
            "metadata": {}
        },
        {
            "cell_type": "markdown",
            "source": [
                "## User"
            ],
            "metadata": {}
        },
        {
            "cell_type": "code",
            "execution_count": 52,
            "source": [
                "user_num_review_filter_list = list()\n",
                "user_num_review_filter_dict = dict()\n",
                "cnt = 0\n",
                "for key, cur_user_df in groupby_user_whole_filter:\n",
                "    cur_user_id = key\n",
                "    assert isinstance(cur_user_id, str)\n",
                "    assert cur_user_id not in user_num_review_filter_list\n",
                "    user_num_review_filter_dict[cur_user_id] = len(cur_user_df)\n",
                "    user_num_review_filter_list.append(len(cur_user_df))\n",
                "    cnt += 1\n",
                "print(\"Finished! Totally {} users\".format(cnt))"
            ],
            "outputs": [
                {
                    "output_type": "stream",
                    "name": "stdout",
                    "text": [
                        "Finished! Totally 36711 users\n"
                    ]
                }
            ],
            "metadata": {}
        },
        {
            "cell_type": "code",
            "execution_count": 53,
            "source": [
                "print(\"Mean number of review per user: {}\".format(\n",
                "    np.mean(user_num_review_filter_list)\n",
                "))\n",
                "print(\"Min number of review per user: {}\".format(\n",
                "    np.min(user_num_review_filter_list)\n",
                "))\n",
                "print(\"Max number of review per user: {}\".format(\n",
                "    np.max(user_num_review_filter_list)\n",
                "))"
            ],
            "outputs": [
                {
                    "output_type": "stream",
                    "name": "stdout",
                    "text": [
                        "Mean number of review per user: 36.04559941162049\n",
                        "Min number of review per user: 1\n",
                        "Max number of review per user: 26115\n"
                    ]
                }
            ],
            "metadata": {}
        },
        {
            "cell_type": "code",
            "execution_count": 54,
            "source": [
                "print(\"Top-10 least numbber of review per user: {}\".format(\n",
                "    sorted(user_num_review_filter_list)[:10]\n",
                "))\n",
                "print(\"Top-10 most numbber of review per user: {}\".format(\n",
                "    sorted(user_num_review_filter_list)[-10:]\n",
                "))"
            ],
            "outputs": [
                {
                    "output_type": "stream",
                    "name": "stdout",
                    "text": [
                        "Top-10 least numbber of review per user: [1, 1, 1, 1, 1, 1, 1, 1, 1, 1]\n",
                        "Top-10 most numbber of review per user: [4053, 4126, 4242, 4320, 4370, 4805, 5323, 5964, 7553, 26115]\n"
                    ]
                }
            ],
            "metadata": {}
        },
        {
            "cell_type": "markdown",
            "source": [
                "## Item"
            ],
            "metadata": {}
        },
        {
            "cell_type": "code",
            "execution_count": 55,
            "source": [
                "item_num_review_filter_list = list()\n",
                "item_num_review_filter_dict = dict()\n",
                "cnt = 0\n",
                "for key, cur_item_df in groupby_item_whole_filter:\n",
                "    cur_item_id = key\n",
                "    assert isinstance(cur_item_id, str)\n",
                "    assert cur_item_id not in item_num_review_filter_dict\n",
                "    item_num_review_filter_dict[cur_item_id] = len(cur_item_df)\n",
                "    item_num_review_filter_list.append(len(cur_item_df))\n",
                "    cnt += 1\n",
                "print(\"Finished! Totally {} items\".format(cnt))"
            ],
            "outputs": [
                {
                    "output_type": "stream",
                    "name": "stdout",
                    "text": [
                        "Finished! Totally 417340 items\n"
                    ]
                }
            ],
            "metadata": {}
        },
        {
            "cell_type": "code",
            "execution_count": 56,
            "source": [
                "print(\"Mean number of review per item: {}\".format(\n",
                "    np.mean(item_num_review_filter_list)\n",
                "))\n",
                "print(\"Min number of review per item: {}\".format(\n",
                "    np.min(item_num_review_filter_list)\n",
                "))\n",
                "print(\"Max number of review per item: {}\".format(\n",
                "    np.max(item_num_review_filter_list)\n",
                "))"
            ],
            "outputs": [
                {
                    "output_type": "stream",
                    "name": "stdout",
                    "text": [
                        "Mean number of review per item: 3.170724109838501\n",
                        "Min number of review per item: 1\n",
                        "Max number of review per item: 305\n"
                    ]
                }
            ],
            "metadata": {}
        },
        {
            "cell_type": "code",
            "execution_count": 57,
            "source": [
                "print(\"Top-10 least numbber of review per item: {}\".format(\n",
                "    sorted(item_num_review_filter_list)[:10]\n",
                "))\n",
                "print(\"Top-10 most numbber of review per item: {}\".format(\n",
                "    sorted(item_num_review_filter_list)[-10:]\n",
                "))"
            ],
            "outputs": [
                {
                    "output_type": "stream",
                    "name": "stdout",
                    "text": [
                        "Top-10 least numbber of review per item: [1, 1, 1, 1, 1, 1, 1, 1, 1, 1]\n",
                        "Top-10 most numbber of review per item: [210, 211, 213, 213, 225, 236, 239, 299, 303, 305]\n"
                    ]
                }
            ],
            "metadata": {}
        },
        {
            "cell_type": "markdown",
            "source": [
                "# Save Cleaned Dataset into File"
            ],
            "metadata": {}
        },
        {
            "cell_type": "code",
            "execution_count": 58,
            "source": [
                "whole_data_filtered_file = \"/u/pw7nc/experiments/Dataset/wine/whole_cleaned.json\"\n",
                "with open(whole_data_filtered_file, 'w') as f_out:\n",
                "    for row in whole_review_data:\n",
                "        row_dict = {\n",
                "            'user': row[1],\n",
                "            'item': row[0],\n",
                "            'rating': row[2],\n",
                "            'review': row[3]\n",
                "        }\n",
                "        # dump this dict into file\n",
                "        json.dump(row_dict, f_out)\n",
                "        f_out.write('\\n')"
            ],
            "outputs": [],
            "metadata": {}
        },
        {
            "cell_type": "code",
            "execution_count": null,
            "source": [],
            "outputs": [],
            "metadata": {}
        }
    ],
    "metadata": {
        "orig_nbformat": 4,
        "language_info": {
            "name": "python",
            "version": "3.7.3",
            "mimetype": "text/x-python",
            "codemirror_mode": {
                "name": "ipython",
                "version": 3
            },
            "pygments_lexer": "ipython3",
            "nbconvert_exporter": "python",
            "file_extension": ".py"
        },
        "kernelspec": {
            "name": "python3",
            "display_name": "Python 3.7.3 64-bit ('base': conda)"
        },
        "interpreter": {
            "hash": "73d0647c863cb9ce92fb50b3911519dc6558e38bcfd5798aa86981c2dac43fdf"
        }
    },
    "nbformat": 4,
    "nbformat_minor": 2
}