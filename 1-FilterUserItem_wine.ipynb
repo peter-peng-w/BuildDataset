{
    "cells": [
        {
            "cell_type": "code",
            "execution_count": 1,
            "source": [
                "!which python"
            ],
            "outputs": [
                {
                    "output_type": "stream",
                    "name": "stdout",
                    "text": [
                        "/u/pw7nc/anaconda3/bin/python\n"
                    ]
                }
            ],
            "metadata": {}
        },
        {
            "cell_type": "code",
            "execution_count": 2,
            "source": [
                "import nltk\n",
                "import spacy\n",
                "import re\n",
                "import json\n",
                "import pandas as pd\n",
                "import os\n",
                "import numpy as np"
            ],
            "outputs": [],
            "metadata": {}
        },
        {
            "cell_type": "markdown",
            "source": [
                "# Read Data"
            ],
            "metadata": {}
        },
        {
            "cell_type": "code",
            "execution_count": 3,
            "source": [
                "# Load original dataset\n",
                "dir_path = '../Dataset/wine/'\n",
                "# Load whole dataset (cleaned)\n",
                "whole_review = []\n",
                "cnt = 0\n",
                "file_path = os.path.join(dir_path, 'whole_cleaned.json')\n",
                "with open(file_path) as f:\n",
                "    for line in f:\n",
                "        line_data = json.loads(line)\n",
                "        user_id = line_data['user']\n",
                "        item_id = line_data['item']\n",
                "        rating = line_data['rating']\n",
                "        review = line_data['review']\n",
                "        whole_review.append([item_id, user_id, rating, review])\n",
                "        cnt += 1\n",
                "        if cnt % 100000 == 0:\n",
                "            print('{} lines loaded.'.format(cnt))\n",
                "print('Finish loading whole dataset, totally {} lines.'.format(len(whole_review)))"
            ],
            "outputs": [
                {
                    "output_type": "stream",
                    "name": "stdout",
                    "text": [
                        "100000 lines loaded.\n",
                        "200000 lines loaded.\n",
                        "300000 lines loaded.\n",
                        "400000 lines loaded.\n",
                        "500000 lines loaded.\n",
                        "600000 lines loaded.\n",
                        "700000 lines loaded.\n",
                        "800000 lines loaded.\n",
                        "900000 lines loaded.\n",
                        "1000000 lines loaded.\n",
                        "1100000 lines loaded.\n",
                        "1200000 lines loaded.\n",
                        "1300000 lines loaded.\n",
                        "Finish loading whole dataset, totally 1323270 lines.\n"
                    ]
                }
            ],
            "metadata": {}
        },
        {
            "cell_type": "markdown",
            "source": [
                "## Convert List Data to Pandas Dataframe"
            ],
            "metadata": {}
        },
        {
            "cell_type": "code",
            "execution_count": 4,
            "source": [
                "df_whole_data = pd.DataFrame(whole_review, columns=['item', 'user', 'rating', 'review'])"
            ],
            "outputs": [],
            "metadata": {}
        },
        {
            "cell_type": "code",
            "execution_count": 5,
            "source": [
                "df_whole_data"
            ],
            "outputs": [
                {
                    "output_type": "execute_result",
                    "data": {
                        "text/plain": [
                            "            item    user rating  \\\n",
                            "0          18856       1     96   \n",
                            "1           3495       1     93   \n",
                            "2          40451       1     92   \n",
                            "3          26767       1    N/A   \n",
                            "4          31665       1    N/A   \n",
                            "...          ...     ...    ...   \n",
                            "1323265  1055257  152917     93   \n",
                            "1323266   860528  152917     92   \n",
                            "1323267    16814  152917     94   \n",
                            "1323268   168156  152917     91   \n",
                            "1323269   216895  152917     85   \n",
                            "\n",
                            "                                                    review  \n",
                            "0        olive , horse sweat , dirty saddle , and smoke...  \n",
                            "1        a remarkably floral nose with violet and chamb...  \n",
                            "2        fantastic wine ! blackberry , smoke , olive , ...  \n",
                            "3        perfect cork . perfect fill . somewhat allurin...  \n",
                            "4        omfg , this wine just does not quit . i need t...  \n",
                            "...                                                    ...  \n",
                            "1323265  excellent interpretation of a mersault . the c...  \n",
                            "1323266  ok , so argentina likes to grow their malbecs ...  \n",
                            "1323267  wow ! this is a big barolo - the bouquet upon ...  \n",
                            "1323268  opened six bottles , all drank very nicely - w...  \n",
                            "1323269  dark , inky purple . a little oxidized . some ...  \n",
                            "\n",
                            "[1323270 rows x 4 columns]"
                        ],
                        "text/html": [
                            "<div>\n",
                            "<style scoped>\n",
                            "    .dataframe tbody tr th:only-of-type {\n",
                            "        vertical-align: middle;\n",
                            "    }\n",
                            "\n",
                            "    .dataframe tbody tr th {\n",
                            "        vertical-align: top;\n",
                            "    }\n",
                            "\n",
                            "    .dataframe thead th {\n",
                            "        text-align: right;\n",
                            "    }\n",
                            "</style>\n",
                            "<table border=\"1\" class=\"dataframe\">\n",
                            "  <thead>\n",
                            "    <tr style=\"text-align: right;\">\n",
                            "      <th></th>\n",
                            "      <th>item</th>\n",
                            "      <th>user</th>\n",
                            "      <th>rating</th>\n",
                            "      <th>review</th>\n",
                            "    </tr>\n",
                            "  </thead>\n",
                            "  <tbody>\n",
                            "    <tr>\n",
                            "      <th>0</th>\n",
                            "      <td>18856</td>\n",
                            "      <td>1</td>\n",
                            "      <td>96</td>\n",
                            "      <td>olive , horse sweat , dirty saddle , and smoke...</td>\n",
                            "    </tr>\n",
                            "    <tr>\n",
                            "      <th>1</th>\n",
                            "      <td>3495</td>\n",
                            "      <td>1</td>\n",
                            "      <td>93</td>\n",
                            "      <td>a remarkably floral nose with violet and chamb...</td>\n",
                            "    </tr>\n",
                            "    <tr>\n",
                            "      <th>2</th>\n",
                            "      <td>40451</td>\n",
                            "      <td>1</td>\n",
                            "      <td>92</td>\n",
                            "      <td>fantastic wine ! blackberry , smoke , olive , ...</td>\n",
                            "    </tr>\n",
                            "    <tr>\n",
                            "      <th>3</th>\n",
                            "      <td>26767</td>\n",
                            "      <td>1</td>\n",
                            "      <td>N/A</td>\n",
                            "      <td>perfect cork . perfect fill . somewhat allurin...</td>\n",
                            "    </tr>\n",
                            "    <tr>\n",
                            "      <th>4</th>\n",
                            "      <td>31665</td>\n",
                            "      <td>1</td>\n",
                            "      <td>N/A</td>\n",
                            "      <td>omfg , this wine just does not quit . i need t...</td>\n",
                            "    </tr>\n",
                            "    <tr>\n",
                            "      <th>...</th>\n",
                            "      <td>...</td>\n",
                            "      <td>...</td>\n",
                            "      <td>...</td>\n",
                            "      <td>...</td>\n",
                            "    </tr>\n",
                            "    <tr>\n",
                            "      <th>1323265</th>\n",
                            "      <td>1055257</td>\n",
                            "      <td>152917</td>\n",
                            "      <td>93</td>\n",
                            "      <td>excellent interpretation of a mersault . the c...</td>\n",
                            "    </tr>\n",
                            "    <tr>\n",
                            "      <th>1323266</th>\n",
                            "      <td>860528</td>\n",
                            "      <td>152917</td>\n",
                            "      <td>92</td>\n",
                            "      <td>ok , so argentina likes to grow their malbecs ...</td>\n",
                            "    </tr>\n",
                            "    <tr>\n",
                            "      <th>1323267</th>\n",
                            "      <td>16814</td>\n",
                            "      <td>152917</td>\n",
                            "      <td>94</td>\n",
                            "      <td>wow ! this is a big barolo - the bouquet upon ...</td>\n",
                            "    </tr>\n",
                            "    <tr>\n",
                            "      <th>1323268</th>\n",
                            "      <td>168156</td>\n",
                            "      <td>152917</td>\n",
                            "      <td>91</td>\n",
                            "      <td>opened six bottles , all drank very nicely - w...</td>\n",
                            "    </tr>\n",
                            "    <tr>\n",
                            "      <th>1323269</th>\n",
                            "      <td>216895</td>\n",
                            "      <td>152917</td>\n",
                            "      <td>85</td>\n",
                            "      <td>dark , inky purple . a little oxidized . some ...</td>\n",
                            "    </tr>\n",
                            "  </tbody>\n",
                            "</table>\n",
                            "<p>1323270 rows × 4 columns</p>\n",
                            "</div>"
                        ]
                    },
                    "metadata": {},
                    "execution_count": 5
                }
            ],
            "metadata": {}
        },
        {
            "cell_type": "markdown",
            "source": [
                "# Filter User/Item"
            ],
            "metadata": {}
        },
        {
            "cell_type": "code",
            "execution_count": 6,
            "source": [
                "\"\"\"\n",
                "The requirement of being a satisfactory dataframe is that for each user / item in the dataset, \n",
                "there should be at least 10 reviews and no more than 500 reviews.\n",
                "\"\"\"\n",
                "lower_thres = 10\n",
                "upper_thres = 1000\n",
                "def is_satisfy_df(df_review):\n",
                "    # group by user\n",
                "    group_by_user = df_review.groupby('user')\n",
                "    user_selected = set()\n",
                "    user_review_morethanupper = set()\n",
                "    user_review_lessthanlower = set()\n",
                "    for user_df_chunk in list(group_by_user):\n",
                "        user_id = int(user_df_chunk[0])\n",
                "        user_df = user_df_chunk[1]\n",
                "        if len(user_df) > upper_thres:\n",
                "            user_review_morethanupper.add(user_id)\n",
                "        elif len(user_df) < lower_thres:\n",
                "            user_review_lessthanlower.add(user_id)\n",
                "        else:\n",
                "            user_selected.add(user_id)\n",
                "    print(\"user_selected: {0} \\t user(>upper): {1} \\t user(<lower): {2}\".format(\n",
                "        len(user_selected), len(user_review_morethanupper), len(user_review_lessthanlower)))\n",
                "    # group by item\n",
                "    group_by_item = df_review.groupby('item')\n",
                "    item_selected = set()\n",
                "    item_review_morethanupper = set()\n",
                "    item_review_lessthanlower = set()\n",
                "    for item_df_chunk in list(group_by_item):\n",
                "        item_id = int(item_df_chunk[0])\n",
                "        item_df = item_df_chunk[1]\n",
                "        if len(item_df) > upper_thres:\n",
                "            item_review_morethanupper.add(item_id)\n",
                "        elif len(item_df) < lower_thres:\n",
                "            item_review_lessthanlower.add(item_id)\n",
                "        else:\n",
                "            item_selected.add(item_id)\n",
                "    print(\"item_selected: {0} \\t item(>upper): {1} \\t item(<lower): {2}\".format(\n",
                "        len(item_selected), len(item_review_morethanupper), len(item_review_lessthanlower)))\n",
                "    # whether this dataframe has rare/popular user/item\n",
                "    if len(user_review_morethanupper) == 0 and len(user_review_lessthanlower) == 0:\n",
                "        if len(item_review_morethanupper) == 0 and len(item_review_lessthanlower) == 0:\n",
                "            return True\n",
                "        else:\n",
                "            return False\n",
                "    else:\n",
                "        return False"
            ],
            "outputs": [],
            "metadata": {}
        },
        {
            "cell_type": "code",
            "execution_count": 7,
            "source": [
                "iter_cnt = 0\n",
                "while True:\n",
                "    # group by user\n",
                "    group_by_user = df_whole_data.groupby('user')\n",
                "    # Loop through all the dataframe for each user\n",
                "    user_selected = set()\n",
                "    user_review_morethanupper = set()\n",
                "    user_review_lessthanlower = set()\n",
                "    user_num_review = []\n",
                "    for user_df_chunk in list(group_by_user):\n",
                "        user_id = int(user_df_chunk[0])\n",
                "        user_df = user_df_chunk[1]\n",
                "        user_num_review.append(len(user_df))\n",
                "        if len(user_df) > upper_thres:\n",
                "            user_review_morethanupper.add(user_id)\n",
                "        elif len(user_df) < lower_thres:\n",
                "            user_review_lessthanlower.add(user_id)\n",
                "        else:\n",
                "            user_selected.add(user_id)\n",
                "    print(\"Start Drop\")\n",
                "    # Only add users in the selected set\n",
                "    cur_whole_review = []\n",
                "    for row_data in whole_review:\n",
                "        # if the user_id is in the selected user set or not\n",
                "        if int(row_data[1]) in user_selected:\n",
                "            cur_whole_review.append(row_data)\n",
                "    whole_review = cur_whole_review\n",
                "    # convert list to dataframe\n",
                "    df_whole_data = pd.DataFrame(whole_review, columns=['item', 'user', 'rating', 'review'])\n",
                "    # check whether this dataframe satisfies the requirement\n",
                "    if is_satisfy_df(df_whole_data):\n",
                "        break\n",
                "    print('Finish User')\n",
                "    # else, keep going\n",
                "    # group by item\n",
                "    group_by_item = df_whole_data.groupby('item')\n",
                "    # Loop through all the dataframe for each item\n",
                "    item_selected = set()\n",
                "    item_review_morethanupper = set()\n",
                "    item_review_lessthanlower = set()\n",
                "    item_num_review = []\n",
                "    for item_df_chunk in list(group_by_item):\n",
                "        item_id = int(item_df_chunk[0])\n",
                "        item_df = item_df_chunk[1]\n",
                "        item_num_review.append(len(item_df))\n",
                "        if len(item_df) > upper_thres:\n",
                "            item_review_morethanupper.add(item_id)\n",
                "        elif len(item_df) < lower_thres:\n",
                "            item_review_lessthanlower.add(item_id)\n",
                "        else:\n",
                "            item_selected.add(item_id)\n",
                "    print(\"Start Drop\")\n",
                "    # Filter item\n",
                "    cur_whole_review = []\n",
                "    for row_data in whole_review:\n",
                "        # if the item_id is in the selected user set or not\n",
                "        if int(row_data[0]) in item_selected:\n",
                "            cur_whole_review.append(row_data)\n",
                "    whole_review = cur_whole_review\n",
                "    # convert list to dataframe\n",
                "    df_whole_data = pd.DataFrame(whole_review, columns=['item', 'user', 'rating', 'review'])\n",
                "    # check whether this dataframe satisfies the requirement\n",
                "    if is_satisfy_df(df_whole_data):\n",
                "        break\n",
                "    print('Finish Item')\n",
                "    iter_cnt += 1\n",
                "    if iter_cnt % 10 == 0:\n",
                "        print(\"{} iterations of filter\".format(iter_cnt))"
            ],
            "outputs": [
                {
                    "output_type": "stream",
                    "name": "stdout",
                    "text": [
                        "Start Drop\n",
                        "user_selected: 11507 \t user(>upper): 0 \t user(<lower): 0\n",
                        "item_selected: 17205 \t item(>upper): 0 \t item(<lower): 317251\n",
                        "Finish User\n",
                        "Start Drop\n",
                        "user_selected: 6373 \t user(>upper): 0 \t user(<lower): 4851\n",
                        "item_selected: 17205 \t item(>upper): 0 \t item(<lower): 0\n",
                        "Finish Item\n",
                        "Start Drop\n",
                        "user_selected: 6373 \t user(>upper): 0 \t user(<lower): 0\n",
                        "item_selected: 15447 \t item(>upper): 0 \t item(<lower): 1758\n",
                        "Finish User\n",
                        "Start Drop\n",
                        "user_selected: 6118 \t user(>upper): 0 \t user(<lower): 255\n",
                        "item_selected: 15447 \t item(>upper): 0 \t item(<lower): 0\n",
                        "Finish Item\n",
                        "Start Drop\n",
                        "user_selected: 6118 \t user(>upper): 0 \t user(<lower): 0\n",
                        "item_selected: 15284 \t item(>upper): 0 \t item(<lower): 163\n",
                        "Finish User\n",
                        "Start Drop\n",
                        "user_selected: 6085 \t user(>upper): 0 \t user(<lower): 33\n",
                        "item_selected: 15284 \t item(>upper): 0 \t item(<lower): 0\n",
                        "Finish Item\n",
                        "Start Drop\n",
                        "user_selected: 6085 \t user(>upper): 0 \t user(<lower): 0\n",
                        "item_selected: 15256 \t item(>upper): 0 \t item(<lower): 28\n",
                        "Finish User\n",
                        "Start Drop\n",
                        "user_selected: 6082 \t user(>upper): 0 \t user(<lower): 3\n",
                        "item_selected: 15256 \t item(>upper): 0 \t item(<lower): 0\n",
                        "Finish Item\n",
                        "Start Drop\n",
                        "user_selected: 6082 \t user(>upper): 0 \t user(<lower): 0\n",
                        "item_selected: 15255 \t item(>upper): 0 \t item(<lower): 1\n",
                        "Finish User\n",
                        "Start Drop\n",
                        "user_selected: 6081 \t user(>upper): 0 \t user(<lower): 1\n",
                        "item_selected: 15255 \t item(>upper): 0 \t item(<lower): 0\n",
                        "Finish Item\n",
                        "Start Drop\n",
                        "user_selected: 6081 \t user(>upper): 0 \t user(<lower): 0\n",
                        "item_selected: 15254 \t item(>upper): 0 \t item(<lower): 1\n",
                        "Finish User\n",
                        "Start Drop\n",
                        "user_selected: 6080 \t user(>upper): 0 \t user(<lower): 1\n",
                        "item_selected: 15254 \t item(>upper): 0 \t item(<lower): 0\n",
                        "Finish Item\n",
                        "Start Drop\n",
                        "user_selected: 6080 \t user(>upper): 0 \t user(<lower): 0\n",
                        "item_selected: 15253 \t item(>upper): 0 \t item(<lower): 1\n",
                        "Finish User\n",
                        "Start Drop\n",
                        "user_selected: 6080 \t user(>upper): 0 \t user(<lower): 0\n",
                        "item_selected: 15253 \t item(>upper): 0 \t item(<lower): 0\n"
                    ]
                }
            ],
            "metadata": {}
        },
        {
            "cell_type": "code",
            "execution_count": 8,
            "source": [
                "df_whole_data"
            ],
            "outputs": [
                {
                    "output_type": "execute_result",
                    "data": {
                        "text/plain": [
                            "           item    user rating  \\\n",
                            "0        682432  131074     91   \n",
                            "1        490003  131074     94   \n",
                            "2       1026221  131074     91   \n",
                            "3        605994  131074     93   \n",
                            "4       1181887  131074     94   \n",
                            "...         ...     ...    ...   \n",
                            "307742    65694  152917     89   \n",
                            "307743   470778  152917     88   \n",
                            "307744     2705  152917     89   \n",
                            "307745    70969  152917     93   \n",
                            "307746   216895  152917     85   \n",
                            "\n",
                            "                                                   review  \n",
                            "0       excellent ! dried cherry , some fig . leather ...  \n",
                            "1       rich and with more concentration than the rese...  \n",
                            "2       outstanding value wine . purple-ruby color . d...  \n",
                            "3       what can i say about this bottle ? certainly n...  \n",
                            "4       this wine has serious concentration , and offe...  \n",
                            "...                                                   ...  \n",
                            "307742  color is still deep , meniscus starting to sho...  \n",
                            "307743  me thinks this wine is passing it 's prime as ...  \n",
                            "307744  this much maligned vintage actually is drinkin...  \n",
                            "307745  very structured , tannins still firm , a tad b...  \n",
                            "307746  dark , inky purple . a little oxidized . some ...  \n",
                            "\n",
                            "[307747 rows x 4 columns]"
                        ],
                        "text/html": [
                            "<div>\n",
                            "<style scoped>\n",
                            "    .dataframe tbody tr th:only-of-type {\n",
                            "        vertical-align: middle;\n",
                            "    }\n",
                            "\n",
                            "    .dataframe tbody tr th {\n",
                            "        vertical-align: top;\n",
                            "    }\n",
                            "\n",
                            "    .dataframe thead th {\n",
                            "        text-align: right;\n",
                            "    }\n",
                            "</style>\n",
                            "<table border=\"1\" class=\"dataframe\">\n",
                            "  <thead>\n",
                            "    <tr style=\"text-align: right;\">\n",
                            "      <th></th>\n",
                            "      <th>item</th>\n",
                            "      <th>user</th>\n",
                            "      <th>rating</th>\n",
                            "      <th>review</th>\n",
                            "    </tr>\n",
                            "  </thead>\n",
                            "  <tbody>\n",
                            "    <tr>\n",
                            "      <th>0</th>\n",
                            "      <td>682432</td>\n",
                            "      <td>131074</td>\n",
                            "      <td>91</td>\n",
                            "      <td>excellent ! dried cherry , some fig . leather ...</td>\n",
                            "    </tr>\n",
                            "    <tr>\n",
                            "      <th>1</th>\n",
                            "      <td>490003</td>\n",
                            "      <td>131074</td>\n",
                            "      <td>94</td>\n",
                            "      <td>rich and with more concentration than the rese...</td>\n",
                            "    </tr>\n",
                            "    <tr>\n",
                            "      <th>2</th>\n",
                            "      <td>1026221</td>\n",
                            "      <td>131074</td>\n",
                            "      <td>91</td>\n",
                            "      <td>outstanding value wine . purple-ruby color . d...</td>\n",
                            "    </tr>\n",
                            "    <tr>\n",
                            "      <th>3</th>\n",
                            "      <td>605994</td>\n",
                            "      <td>131074</td>\n",
                            "      <td>93</td>\n",
                            "      <td>what can i say about this bottle ? certainly n...</td>\n",
                            "    </tr>\n",
                            "    <tr>\n",
                            "      <th>4</th>\n",
                            "      <td>1181887</td>\n",
                            "      <td>131074</td>\n",
                            "      <td>94</td>\n",
                            "      <td>this wine has serious concentration , and offe...</td>\n",
                            "    </tr>\n",
                            "    <tr>\n",
                            "      <th>...</th>\n",
                            "      <td>...</td>\n",
                            "      <td>...</td>\n",
                            "      <td>...</td>\n",
                            "      <td>...</td>\n",
                            "    </tr>\n",
                            "    <tr>\n",
                            "      <th>307742</th>\n",
                            "      <td>65694</td>\n",
                            "      <td>152917</td>\n",
                            "      <td>89</td>\n",
                            "      <td>color is still deep , meniscus starting to sho...</td>\n",
                            "    </tr>\n",
                            "    <tr>\n",
                            "      <th>307743</th>\n",
                            "      <td>470778</td>\n",
                            "      <td>152917</td>\n",
                            "      <td>88</td>\n",
                            "      <td>me thinks this wine is passing it 's prime as ...</td>\n",
                            "    </tr>\n",
                            "    <tr>\n",
                            "      <th>307744</th>\n",
                            "      <td>2705</td>\n",
                            "      <td>152917</td>\n",
                            "      <td>89</td>\n",
                            "      <td>this much maligned vintage actually is drinkin...</td>\n",
                            "    </tr>\n",
                            "    <tr>\n",
                            "      <th>307745</th>\n",
                            "      <td>70969</td>\n",
                            "      <td>152917</td>\n",
                            "      <td>93</td>\n",
                            "      <td>very structured , tannins still firm , a tad b...</td>\n",
                            "    </tr>\n",
                            "    <tr>\n",
                            "      <th>307746</th>\n",
                            "      <td>216895</td>\n",
                            "      <td>152917</td>\n",
                            "      <td>85</td>\n",
                            "      <td>dark , inky purple . a little oxidized . some ...</td>\n",
                            "    </tr>\n",
                            "  </tbody>\n",
                            "</table>\n",
                            "<p>307747 rows × 4 columns</p>\n",
                            "</div>"
                        ]
                    },
                    "metadata": {},
                    "execution_count": 8
                }
            ],
            "metadata": {}
        },
        {
            "cell_type": "markdown",
            "source": [
                "## Check Whether the Filtered Dataframe Satisfies the Requirement"
            ],
            "metadata": {}
        },
        {
            "cell_type": "code",
            "execution_count": 9,
            "source": [
                "# Check User\n",
                "# group by user\n",
                "group_by_user = df_whole_data.groupby('user')\n",
                "user_selected = set()\n",
                "user_review_morethanupper = set()\n",
                "user_review_lessthanlower = set()\n",
                "user_num_reviews = []\n",
                "for user_df_chunk in list(group_by_user):\n",
                "    user_id = int(user_df_chunk[0])\n",
                "    user_df = user_df_chunk[1]\n",
                "    if len(user_df) > upper_thres:\n",
                "        user_review_morethanupper.add(user_id)\n",
                "    elif len(user_df) < lower_thres:\n",
                "        user_review_lessthanlower.add(user_id)\n",
                "    else:\n",
                "        user_selected.add(user_id)\n",
                "    user_num_reviews.append(len(user_df))"
            ],
            "outputs": [],
            "metadata": {}
        },
        {
            "cell_type": "code",
            "execution_count": 10,
            "source": [
                "print(\"Number of user selected: {}\".format(len(user_selected)))\n",
                "print(\"Number of user with more than upper reviews: {}\".format(len(user_review_morethanupper)))\n",
                "print(\"Number of user with less than lower reviews: {}\".format(len(user_review_lessthanlower)))"
            ],
            "outputs": [
                {
                    "output_type": "stream",
                    "name": "stdout",
                    "text": [
                        "Number of user selected: 6080\n",
                        "Number of user with more than upper reviews: 0\n",
                        "Number of user with less than lower reviews: 0\n"
                    ]
                }
            ],
            "metadata": {}
        },
        {
            "cell_type": "code",
            "execution_count": 11,
            "source": [
                "print(\"Mean number of reviews per user: {}\".format(np.mean(user_num_reviews)))\n",
                "print(\"Max number of reviews per user: {}\".format(np.max(user_num_reviews)))\n",
                "print(\"Min number of reviews per user: {}\".format(np.min(user_num_reviews)))"
            ],
            "outputs": [
                {
                    "output_type": "stream",
                    "name": "stdout",
                    "text": [
                        "Mean number of reviews per user: 50.61628289473684\n",
                        "Max number of reviews per user: 591\n",
                        "Min number of reviews per user: 10\n"
                    ]
                }
            ],
            "metadata": {}
        },
        {
            "cell_type": "code",
            "execution_count": 12,
            "source": [
                "# Check Item\n",
                "# group by item\n",
                "group_by_item = df_whole_data.groupby('item')\n",
                "item_selected = set()\n",
                "item_review_morethanupper = set()\n",
                "item_review_lessthanlower = set()\n",
                "item_num_reviews = []\n",
                "for item_df_chunk in list(group_by_item):\n",
                "    item_id = int(item_df_chunk[0])\n",
                "    item_df = item_df_chunk[1]\n",
                "    if len(item_df) > upper_thres:\n",
                "        item_review_morethanupper.add(item_id)\n",
                "    elif len(item_df) < lower_thres:\n",
                "        item_review_lessthanlower.add(item_id)\n",
                "    else:\n",
                "        item_selected.add(item_id)\n",
                "    item_num_reviews.append(len(item_df))"
            ],
            "outputs": [],
            "metadata": {}
        },
        {
            "cell_type": "code",
            "execution_count": 13,
            "source": [
                "print(\"Number of item selected: {}\".format(len(item_selected)))\n",
                "print(\"Number of item with more than upper reviews: {}\".format(len(item_review_morethanupper)))\n",
                "print(\"Number of item with less than lower reviews: {}\".format(len(item_review_lessthanlower)))"
            ],
            "outputs": [
                {
                    "output_type": "stream",
                    "name": "stdout",
                    "text": [
                        "Number of item selected: 15253\n",
                        "Number of item with more than upper reviews: 0\n",
                        "Number of item with less than lower reviews: 0\n"
                    ]
                }
            ],
            "metadata": {}
        },
        {
            "cell_type": "code",
            "execution_count": 14,
            "source": [
                "print(\"Mean number of reviews per item: {}\".format(np.mean(item_num_reviews)))\n",
                "print(\"Max number of reviews per item: {}\".format(np.max(item_num_reviews)))\n",
                "print(\"Min number of reviews per item: {}\".format(np.min(item_num_reviews)))"
            ],
            "outputs": [
                {
                    "output_type": "stream",
                    "name": "stdout",
                    "text": [
                        "Mean number of reviews per item: 20.176162066478724\n",
                        "Max number of reviews per item: 247\n",
                        "Min number of reviews per item: 10\n"
                    ]
                }
            ],
            "metadata": {}
        },
        {
            "cell_type": "code",
            "execution_count": 15,
            "source": [
                "is_satisfy_df(df_whole_data)"
            ],
            "outputs": [
                {
                    "output_type": "stream",
                    "name": "stdout",
                    "text": [
                        "user_selected: 6080 \t user(>upper): 0 \t user(<lower): 0\n",
                        "item_selected: 15253 \t item(>upper): 0 \t item(<lower): 0\n"
                    ]
                },
                {
                    "output_type": "execute_result",
                    "data": {
                        "text/plain": [
                            "True"
                        ]
                    },
                    "metadata": {},
                    "execution_count": 15
                }
            ],
            "metadata": {}
        },
        {
            "cell_type": "markdown",
            "source": [
                "## Handle N/A Ratings"
            ],
            "metadata": {}
        },
        {
            "cell_type": "code",
            "execution_count": 16,
            "source": [
                "rating_list_filter = list(df_whole_data['rating'])\n",
                "print(\"Number of ratings: {}\".format(len(rating_list_filter)))"
            ],
            "outputs": [
                {
                    "output_type": "stream",
                    "name": "stdout",
                    "text": [
                        "Number of ratings: 307747\n"
                    ]
                }
            ],
            "metadata": {}
        },
        {
            "cell_type": "code",
            "execution_count": 17,
            "source": [
                "cnt_na_rating = 0\n",
                "for rating in rating_list_filter:\n",
                "    if rating == 'N/A':\n",
                "        cnt_na_rating += 1\n",
                "    else:\n",
                "        cur_rating_int = int(rating)\n",
                "        assert cur_rating_int >= 0 and cur_rating_int <= 100\n",
                "print(\"Number of N/A ratings: {}\".format(cnt_na_rating))"
            ],
            "outputs": [
                {
                    "output_type": "stream",
                    "name": "stdout",
                    "text": [
                        "Number of N/A ratings: 53896\n"
                    ]
                }
            ],
            "metadata": {}
        },
        {
            "cell_type": "code",
            "execution_count": 23,
            "source": [
                "def compute_avg_cdd_rating(df_whole_data, user_id, item_id):\n",
                "    \"\"\" Compute an average rating from user-side reviews and item-side reviews.\n",
                "        This can be used to substitute the N/A (i.e. missing rating) for this user-item pair.\n",
                "    \"\"\"\n",
                "    # get user-side reviews\n",
                "    df_user_side = df_whole_data.loc[df_whole_data['user']==user_id]\n",
                "    # get item-side reviews\n",
                "    df_item_side = df_whole_data.loc[df_whole_data['item']==item_id]\n",
                "    # get all the cdd ratings which are not N/A\n",
                "    cdd_ratings = list()\n",
                "    for cdd_rating in list(df_user_side['rating']):\n",
                "        if cdd_rating == 'N/A':\n",
                "            pass\n",
                "        else:\n",
                "            cdd_rating_int = int(cdd_rating)\n",
                "            assert cdd_rating_int >= 0 and cdd_rating_int <= 100\n",
                "            cdd_ratings.append(cdd_rating_int)\n",
                "    for cdd_rating in list(df_item_side['rating']):\n",
                "        if cdd_rating == 'N/A':\n",
                "            pass\n",
                "        else:\n",
                "            cdd_rating_int = int(cdd_rating)\n",
                "            assert cdd_rating_int >= 0 and cdd_rating_int <= 100\n",
                "            cdd_ratings.append(cdd_rating_int)\n",
                "\n",
                "    avg_cdd_rating = round(np.mean(cdd_ratings))\n",
                "    assert isinstance(avg_cdd_rating, int)\n",
                "    assert avg_cdd_rating >= 0 and avg_cdd_rating <= 100\n",
                "    return avg_cdd_rating, cdd_ratings"
            ],
            "outputs": [],
            "metadata": {}
        },
        {
            "cell_type": "code",
            "execution_count": 26,
            "source": [
                "avg_rating, cdd_ratings = compute_avg_cdd_rating(df_whole_data, \"131074\", \"490003\")"
            ],
            "outputs": [],
            "metadata": {}
        },
        {
            "cell_type": "code",
            "execution_count": 21,
            "source": [
                "df_whole_data"
            ],
            "outputs": [
                {
                    "output_type": "execute_result",
                    "data": {
                        "text/plain": [
                            "           item    user rating  \\\n",
                            "0        682432  131074     91   \n",
                            "1        490003  131074     94   \n",
                            "2       1026221  131074     91   \n",
                            "3        605994  131074     93   \n",
                            "4       1181887  131074     94   \n",
                            "...         ...     ...    ...   \n",
                            "307742    65694  152917     89   \n",
                            "307743   470778  152917     88   \n",
                            "307744     2705  152917     89   \n",
                            "307745    70969  152917     93   \n",
                            "307746   216895  152917     85   \n",
                            "\n",
                            "                                                   review  \n",
                            "0       excellent ! dried cherry , some fig . leather ...  \n",
                            "1       rich and with more concentration than the rese...  \n",
                            "2       outstanding value wine . purple-ruby color . d...  \n",
                            "3       what can i say about this bottle ? certainly n...  \n",
                            "4       this wine has serious concentration , and offe...  \n",
                            "...                                                   ...  \n",
                            "307742  color is still deep , meniscus starting to sho...  \n",
                            "307743  me thinks this wine is passing it 's prime as ...  \n",
                            "307744  this much maligned vintage actually is drinkin...  \n",
                            "307745  very structured , tannins still firm , a tad b...  \n",
                            "307746  dark , inky purple . a little oxidized . some ...  \n",
                            "\n",
                            "[307747 rows x 4 columns]"
                        ],
                        "text/html": [
                            "<div>\n",
                            "<style scoped>\n",
                            "    .dataframe tbody tr th:only-of-type {\n",
                            "        vertical-align: middle;\n",
                            "    }\n",
                            "\n",
                            "    .dataframe tbody tr th {\n",
                            "        vertical-align: top;\n",
                            "    }\n",
                            "\n",
                            "    .dataframe thead th {\n",
                            "        text-align: right;\n",
                            "    }\n",
                            "</style>\n",
                            "<table border=\"1\" class=\"dataframe\">\n",
                            "  <thead>\n",
                            "    <tr style=\"text-align: right;\">\n",
                            "      <th></th>\n",
                            "      <th>item</th>\n",
                            "      <th>user</th>\n",
                            "      <th>rating</th>\n",
                            "      <th>review</th>\n",
                            "    </tr>\n",
                            "  </thead>\n",
                            "  <tbody>\n",
                            "    <tr>\n",
                            "      <th>0</th>\n",
                            "      <td>682432</td>\n",
                            "      <td>131074</td>\n",
                            "      <td>91</td>\n",
                            "      <td>excellent ! dried cherry , some fig . leather ...</td>\n",
                            "    </tr>\n",
                            "    <tr>\n",
                            "      <th>1</th>\n",
                            "      <td>490003</td>\n",
                            "      <td>131074</td>\n",
                            "      <td>94</td>\n",
                            "      <td>rich and with more concentration than the rese...</td>\n",
                            "    </tr>\n",
                            "    <tr>\n",
                            "      <th>2</th>\n",
                            "      <td>1026221</td>\n",
                            "      <td>131074</td>\n",
                            "      <td>91</td>\n",
                            "      <td>outstanding value wine . purple-ruby color . d...</td>\n",
                            "    </tr>\n",
                            "    <tr>\n",
                            "      <th>3</th>\n",
                            "      <td>605994</td>\n",
                            "      <td>131074</td>\n",
                            "      <td>93</td>\n",
                            "      <td>what can i say about this bottle ? certainly n...</td>\n",
                            "    </tr>\n",
                            "    <tr>\n",
                            "      <th>4</th>\n",
                            "      <td>1181887</td>\n",
                            "      <td>131074</td>\n",
                            "      <td>94</td>\n",
                            "      <td>this wine has serious concentration , and offe...</td>\n",
                            "    </tr>\n",
                            "    <tr>\n",
                            "      <th>...</th>\n",
                            "      <td>...</td>\n",
                            "      <td>...</td>\n",
                            "      <td>...</td>\n",
                            "      <td>...</td>\n",
                            "    </tr>\n",
                            "    <tr>\n",
                            "      <th>307742</th>\n",
                            "      <td>65694</td>\n",
                            "      <td>152917</td>\n",
                            "      <td>89</td>\n",
                            "      <td>color is still deep , meniscus starting to sho...</td>\n",
                            "    </tr>\n",
                            "    <tr>\n",
                            "      <th>307743</th>\n",
                            "      <td>470778</td>\n",
                            "      <td>152917</td>\n",
                            "      <td>88</td>\n",
                            "      <td>me thinks this wine is passing it 's prime as ...</td>\n",
                            "    </tr>\n",
                            "    <tr>\n",
                            "      <th>307744</th>\n",
                            "      <td>2705</td>\n",
                            "      <td>152917</td>\n",
                            "      <td>89</td>\n",
                            "      <td>this much maligned vintage actually is drinkin...</td>\n",
                            "    </tr>\n",
                            "    <tr>\n",
                            "      <th>307745</th>\n",
                            "      <td>70969</td>\n",
                            "      <td>152917</td>\n",
                            "      <td>93</td>\n",
                            "      <td>very structured , tannins still firm , a tad b...</td>\n",
                            "    </tr>\n",
                            "    <tr>\n",
                            "      <th>307746</th>\n",
                            "      <td>216895</td>\n",
                            "      <td>152917</td>\n",
                            "      <td>85</td>\n",
                            "      <td>dark , inky purple . a little oxidized . some ...</td>\n",
                            "    </tr>\n",
                            "  </tbody>\n",
                            "</table>\n",
                            "<p>307747 rows × 4 columns</p>\n",
                            "</div>"
                        ]
                    },
                    "metadata": {},
                    "execution_count": 21
                }
            ],
            "metadata": {}
        },
        {
            "cell_type": "markdown",
            "source": [
                "## Save Filtered Dataset"
            ],
            "metadata": {}
        },
        {
            "cell_type": "code",
            "execution_count": 30,
            "source": [
                "dir_path = '../Dataset/wine/'\n",
                "file_path = os.path.join(dir_path, 'whole_filtered.json')\n",
                "cnt_na_estimate = 0\n",
                "with open(file_path, 'w') as f_out:\n",
                "    print(\"Write file: {}\".format(file_path))\n",
                "    for idx, row_data in df_whole_data.iterrows():\n",
                "        row_user_id = row_data['user']\n",
                "        row_item_id = row_data['item']\n",
                "        row_rating_str = row_data['rating']\n",
                "        if row_rating_str == 'N/A':\n",
                "            row_rating_int, _ = compute_avg_cdd_rating(df_whole_data, row_user_id, row_item_id)\n",
                "            cnt_na_estimate += 1\n",
                "        else:\n",
                "            row_rating_int = int(row_rating_str)\n",
                "            assert row_rating_int >= 0 and row_rating_int <= 100\n",
                "        row_dict = {\n",
                "            'user': row_data['user'],\n",
                "            'item': row_data['item'],\n",
                "            'rating': row_rating_int,\n",
                "            'review': row_data['review']\n",
                "        }\n",
                "        # dump this into file\n",
                "        json.dump(row_dict, f_out)\n",
                "        f_out.write(\"\\n\")\n",
                "        if (idx+1) % 50000 == 0:\n",
                "            print(\"{} lines processed.\".format(idx+1))\n",
                "print(\"Totally {0} lines of data saved to file. Among them {1} lines use the estimated rating\".format(\n",
                "    idx+1, cnt_na_estimate\n",
                "))"
            ],
            "outputs": [
                {
                    "output_type": "stream",
                    "name": "stdout",
                    "text": [
                        "Write file: ../Dataset/wine/whole_filtered.json\n"
                    ]
                },
                {
                    "output_type": "error",
                    "ename": "AttributeError",
                    "evalue": "'_io.TextIOWrapper' object has no attribute 'wirte'",
                    "traceback": [
                        "\u001b[0;31m---------------------------------------------------------------------------\u001b[0m",
                        "\u001b[0;31mAttributeError\u001b[0m                            Traceback (most recent call last)",
                        "\u001b[0;32m<ipython-input-30-e2aa02652683>\u001b[0m in \u001b[0;36m<module>\u001b[0;34m\u001b[0m\n\u001b[1;32m     22\u001b[0m         \u001b[0;31m# dump this into file\u001b[0m\u001b[0;34m\u001b[0m\u001b[0;34m\u001b[0m\u001b[0;34m\u001b[0m\u001b[0m\n\u001b[1;32m     23\u001b[0m         \u001b[0mjson\u001b[0m\u001b[0;34m.\u001b[0m\u001b[0mdump\u001b[0m\u001b[0;34m(\u001b[0m\u001b[0mrow_dict\u001b[0m\u001b[0;34m,\u001b[0m \u001b[0mf_out\u001b[0m\u001b[0;34m)\u001b[0m\u001b[0;34m\u001b[0m\u001b[0;34m\u001b[0m\u001b[0m\n\u001b[0;32m---> 24\u001b[0;31m         \u001b[0mf_out\u001b[0m\u001b[0;34m.\u001b[0m\u001b[0mwirte\u001b[0m\u001b[0;34m(\u001b[0m\u001b[0;34m\"\\n\"\u001b[0m\u001b[0;34m)\u001b[0m\u001b[0;34m\u001b[0m\u001b[0;34m\u001b[0m\u001b[0m\n\u001b[0m\u001b[1;32m     25\u001b[0m         \u001b[0;32mif\u001b[0m \u001b[0;34m(\u001b[0m\u001b[0midx\u001b[0m\u001b[0;34m+\u001b[0m\u001b[0;36m1\u001b[0m\u001b[0;34m)\u001b[0m \u001b[0;34m%\u001b[0m \u001b[0;36m50000\u001b[0m \u001b[0;34m==\u001b[0m \u001b[0;36m0\u001b[0m\u001b[0;34m:\u001b[0m\u001b[0;34m\u001b[0m\u001b[0;34m\u001b[0m\u001b[0m\n\u001b[1;32m     26\u001b[0m             \u001b[0mprint\u001b[0m\u001b[0;34m(\u001b[0m\u001b[0;34m\"{} lines processed.\"\u001b[0m\u001b[0;34m.\u001b[0m\u001b[0mformat\u001b[0m\u001b[0;34m(\u001b[0m\u001b[0midx\u001b[0m\u001b[0;34m+\u001b[0m\u001b[0;36m1\u001b[0m\u001b[0;34m)\u001b[0m\u001b[0;34m)\u001b[0m\u001b[0;34m\u001b[0m\u001b[0;34m\u001b[0m\u001b[0m\n",
                        "\u001b[0;31mAttributeError\u001b[0m: '_io.TextIOWrapper' object has no attribute 'wirte'"
                    ]
                }
            ],
            "metadata": {}
        },
        {
            "cell_type": "code",
            "execution_count": null,
            "source": [],
            "outputs": [],
            "metadata": {}
        }
    ],
    "metadata": {
        "orig_nbformat": 4,
        "language_info": {
            "name": "python",
            "version": "3.7.3",
            "mimetype": "text/x-python",
            "codemirror_mode": {
                "name": "ipython",
                "version": 3
            },
            "pygments_lexer": "ipython3",
            "nbconvert_exporter": "python",
            "file_extension": ".py"
        },
        "kernelspec": {
            "name": "python3",
            "display_name": "Python 3.7.3 64-bit ('base': conda)"
        },
        "interpreter": {
            "hash": "73d0647c863cb9ce92fb50b3911519dc6558e38bcfd5798aa86981c2dac43fdf"
        }
    },
    "nbformat": 4,
    "nbformat_minor": 2
}