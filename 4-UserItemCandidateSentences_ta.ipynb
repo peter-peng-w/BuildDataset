{
    "cells": [
        {
            "cell_type": "code",
            "execution_count": 1,
            "source": [
                "!which python"
            ],
            "outputs": [
                {
                    "output_type": "stream",
                    "name": "stdout",
                    "text": [
                        "/u/pw7nc/anaconda3/bin/python\n"
                    ]
                }
            ],
            "metadata": {}
        },
        {
            "cell_type": "code",
            "execution_count": 2,
            "source": [
                "import re\n",
                "import json\n",
                "import os\n",
                "\n",
                "import numpy as np\n",
                "import pandas as pd\n",
                "from sklearn.preprocessing import normalize\n",
                "from sklearn.feature_extraction.text import CountVectorizer,TfidfTransformer\n",
                "\n",
                "import spacy\n",
                "import nltk\n",
                "from nltk.tokenize import sent_tokenize\n",
                "from spacy.lang.en import English\n",
                "nlp = English()\n",
                "# Create a Tokenizer with the default settings for English\n",
                "# including punctuation rules and exceptions\n",
                "tokenizer = nlp.tokenizer\n",
                "import string\n",
                "punct = string.punctuation\n",
                "from sklearn.feature_extraction import _stop_words"
            ],
            "outputs": [],
            "metadata": {}
        },
        {
            "cell_type": "code",
            "execution_count": 3,
            "source": [
                "dataset_name = \"tripadvisor\""
            ],
            "outputs": [],
            "metadata": {}
        },
        {
            "cell_type": "markdown",
            "source": [
                "# Load Data"
            ],
            "metadata": {}
        },
        {
            "cell_type": "markdown",
            "source": [
                "## Load Dataset"
            ],
            "metadata": {}
        },
        {
            "cell_type": "code",
            "execution_count": 4,
            "source": [
                "dir_path = '../Dataset/{}'.format(dataset_name)\n",
                "# Load train dataset\n",
                "train_review = []\n",
                "cnt = 0\n",
                "file_path = os.path.join(dir_path, 'train_review_filtered.json')\n",
                "with open(file_path) as f:\n",
                "    print(\"Load file: {}\".format(file_path))\n",
                "    for line in f:\n",
                "        line_data = json.loads(line)\n",
                "        user_id = line_data['user']\n",
                "        item_id = line_data['item']\n",
                "        rating = line_data['rating']\n",
                "        review = line_data['review']\n",
                "        train_review.append([item_id, user_id, rating, review])\n",
                "        cnt += 1\n",
                "        if cnt % 100000 == 0:\n",
                "            print('{} lines loaded.'.format(cnt))\n",
                "print('Finish loading train dataset, totally {} lines.'.format(len(train_review)))\n",
                "# Load test dataset\n",
                "test_review = []\n",
                "cnt = 0\n",
                "file_path = os.path.join(dir_path, 'test_review_filtered_clean.json')\n",
                "with open(file_path) as f:\n",
                "    print(\"Load file: {}\".format(file_path))\n",
                "    for line in f:\n",
                "        line_data = json.loads(line)\n",
                "        user_id = line_data['user']\n",
                "        item_id = line_data['item']\n",
                "        rating = line_data['rating']\n",
                "        review = line_data['review']\n",
                "        test_review.append([item_id, user_id, rating, review])\n",
                "        cnt += 1\n",
                "        if cnt % 10000 == 0:\n",
                "            print('{} lines loaded.'.format(cnt))\n",
                "print('Finish loading test dataset, totally {} lines.'.format(len(test_review)))"
            ],
            "outputs": [
                {
                    "output_type": "stream",
                    "name": "stdout",
                    "text": [
                        "Load file: ../Dataset/tripadvisor/train_review_filtered.json\n",
                        "100000 lines loaded.\n",
                        "200000 lines loaded.\n",
                        "Finish loading train dataset, totally 205595 lines.\n",
                        "Load file: ../Dataset/tripadvisor/test_review_filtered_clean.json\n",
                        "10000 lines loaded.\n",
                        "Finish loading test dataset, totally 19444 lines.\n"
                    ]
                }
            ],
            "metadata": {}
        },
        {
            "cell_type": "code",
            "execution_count": 5,
            "source": [
                "df_train_data = pd.DataFrame(train_review, columns=['item', 'user', 'rating', 'review'])\n",
                "df_test_data = pd.DataFrame(test_review, columns=['item', 'user', 'rating', 'review'])"
            ],
            "outputs": [],
            "metadata": {}
        },
        {
            "cell_type": "code",
            "execution_count": 6,
            "source": [
                "df_train_data"
            ],
            "outputs": [
                {
                    "output_type": "execute_result",
                    "data": {
                        "text/plain": [
                            "        item user  rating                                             review\n",
                            "0          0    0       5  this is our second stay at this hotel ; we sta...\n",
                            "1          1    0       3  small , cramped rooms , moldy grout in shower ...\n",
                            "2         10    0       3  the room doors would slam when guests leave , ...\n",
                            "3        100    0       2  first , the old style tv was on top of the clo...\n",
                            "4       1000    0       5  the food was exceptional - we really enjoyed t...\n",
                            "...      ...  ...     ...                                                ...\n",
                            "205590   752  999       5  the rooms are spacious , quiet , and clean . m...\n",
                            "205591   819  999       5  room was very nice . bed was comfortable , had...\n",
                            "205592   827  999       3  not really the best stay i ever had . room was...\n",
                            "205593   852  999       3  our room was not as nice as i had hoped . the ...\n",
                            "205594   898  999       5  villas are very confortable , spacy and clean ...\n",
                            "\n",
                            "[205595 rows x 4 columns]"
                        ],
                        "text/html": [
                            "<div>\n",
                            "<style scoped>\n",
                            "    .dataframe tbody tr th:only-of-type {\n",
                            "        vertical-align: middle;\n",
                            "    }\n",
                            "\n",
                            "    .dataframe tbody tr th {\n",
                            "        vertical-align: top;\n",
                            "    }\n",
                            "\n",
                            "    .dataframe thead th {\n",
                            "        text-align: right;\n",
                            "    }\n",
                            "</style>\n",
                            "<table border=\"1\" class=\"dataframe\">\n",
                            "  <thead>\n",
                            "    <tr style=\"text-align: right;\">\n",
                            "      <th></th>\n",
                            "      <th>item</th>\n",
                            "      <th>user</th>\n",
                            "      <th>rating</th>\n",
                            "      <th>review</th>\n",
                            "    </tr>\n",
                            "  </thead>\n",
                            "  <tbody>\n",
                            "    <tr>\n",
                            "      <th>0</th>\n",
                            "      <td>0</td>\n",
                            "      <td>0</td>\n",
                            "      <td>5</td>\n",
                            "      <td>this is our second stay at this hotel ; we sta...</td>\n",
                            "    </tr>\n",
                            "    <tr>\n",
                            "      <th>1</th>\n",
                            "      <td>1</td>\n",
                            "      <td>0</td>\n",
                            "      <td>3</td>\n",
                            "      <td>small , cramped rooms , moldy grout in shower ...</td>\n",
                            "    </tr>\n",
                            "    <tr>\n",
                            "      <th>2</th>\n",
                            "      <td>10</td>\n",
                            "      <td>0</td>\n",
                            "      <td>3</td>\n",
                            "      <td>the room doors would slam when guests leave , ...</td>\n",
                            "    </tr>\n",
                            "    <tr>\n",
                            "      <th>3</th>\n",
                            "      <td>100</td>\n",
                            "      <td>0</td>\n",
                            "      <td>2</td>\n",
                            "      <td>first , the old style tv was on top of the clo...</td>\n",
                            "    </tr>\n",
                            "    <tr>\n",
                            "      <th>4</th>\n",
                            "      <td>1000</td>\n",
                            "      <td>0</td>\n",
                            "      <td>5</td>\n",
                            "      <td>the food was exceptional - we really enjoyed t...</td>\n",
                            "    </tr>\n",
                            "    <tr>\n",
                            "      <th>...</th>\n",
                            "      <td>...</td>\n",
                            "      <td>...</td>\n",
                            "      <td>...</td>\n",
                            "      <td>...</td>\n",
                            "    </tr>\n",
                            "    <tr>\n",
                            "      <th>205590</th>\n",
                            "      <td>752</td>\n",
                            "      <td>999</td>\n",
                            "      <td>5</td>\n",
                            "      <td>the rooms are spacious , quiet , and clean . m...</td>\n",
                            "    </tr>\n",
                            "    <tr>\n",
                            "      <th>205591</th>\n",
                            "      <td>819</td>\n",
                            "      <td>999</td>\n",
                            "      <td>5</td>\n",
                            "      <td>room was very nice . bed was comfortable , had...</td>\n",
                            "    </tr>\n",
                            "    <tr>\n",
                            "      <th>205592</th>\n",
                            "      <td>827</td>\n",
                            "      <td>999</td>\n",
                            "      <td>3</td>\n",
                            "      <td>not really the best stay i ever had . room was...</td>\n",
                            "    </tr>\n",
                            "    <tr>\n",
                            "      <th>205593</th>\n",
                            "      <td>852</td>\n",
                            "      <td>999</td>\n",
                            "      <td>3</td>\n",
                            "      <td>our room was not as nice as i had hoped . the ...</td>\n",
                            "    </tr>\n",
                            "    <tr>\n",
                            "      <th>205594</th>\n",
                            "      <td>898</td>\n",
                            "      <td>999</td>\n",
                            "      <td>5</td>\n",
                            "      <td>villas are very confortable , spacy and clean ...</td>\n",
                            "    </tr>\n",
                            "  </tbody>\n",
                            "</table>\n",
                            "<p>205595 rows × 4 columns</p>\n",
                            "</div>"
                        ]
                    },
                    "metadata": {},
                    "execution_count": 6
                }
            ],
            "metadata": {}
        },
        {
            "cell_type": "code",
            "execution_count": 7,
            "source": [
                "# groupby multiple columns\n",
                "groupby_user_item = df_train_data.groupby(['user', 'item'])\n",
                "cnt = 0\n",
                "for key, item in groupby_user_item:\n",
                "    cur_df_user_item = groupby_user_item.get_group(key)\n",
                "    if len(cur_df_user_item) > 1:\n",
                "        if cnt <= 10:\n",
                "            print(cur_df_user_item)\n",
                "        cnt += 1\n",
                "print(\"{} data instance are the same\".format(cnt))\n",
                "# make sure that there are no duplicated reviews"
            ],
            "outputs": [
                {
                    "output_type": "stream",
                    "name": "stdout",
                    "text": [
                        "0 data instance are the same\n"
                    ]
                }
            ],
            "metadata": {}
        },
        {
            "cell_type": "markdown",
            "source": [
                "## Load Sentence2ID and ID2Sentence Mapping"
            ],
            "metadata": {}
        },
        {
            "cell_type": "code",
            "execution_count": 8,
            "source": [
                "sentence2id_filepath = '../Dataset/{}/train/sentence/sentence2id.json'.format(dataset_name)\n",
                "with open(sentence2id_filepath, 'r') as f:\n",
                "    print(\"Load file: {}\".format(sentence2id_filepath))\n",
                "    sent_to_id = json.load(f)"
            ],
            "outputs": [
                {
                    "output_type": "stream",
                    "name": "stdout",
                    "text": [
                        "Load file: ../Dataset/tripadvisor/train/sentence/sentence2id.json\n"
                    ]
                }
            ],
            "metadata": {}
        },
        {
            "cell_type": "code",
            "execution_count": 9,
            "source": [
                "type(sent_to_id['good service .'])"
            ],
            "outputs": [
                {
                    "output_type": "execute_result",
                    "data": {
                        "text/plain": [
                            "str"
                        ]
                    },
                    "metadata": {},
                    "execution_count": 9
                }
            ],
            "metadata": {}
        },
        {
            "cell_type": "code",
            "execution_count": 10,
            "source": [
                "sent_to_id['good service .']"
            ],
            "outputs": [
                {
                    "output_type": "execute_result",
                    "data": {
                        "text/plain": [
                            "'200'"
                        ]
                    },
                    "metadata": {},
                    "execution_count": 10
                }
            ],
            "metadata": {}
        },
        {
            "cell_type": "code",
            "execution_count": 11,
            "source": [
                "id2sentence_filepath = '../Dataset/{}/train/sentence/id2sentence.json'.format(dataset_name)\n",
                "with open(id2sentence_filepath, 'r') as f:\n",
                "    print(\"Load file: {}\".format(id2sentence_filepath))\n",
                "    id_to_sent = json.load(f)"
            ],
            "outputs": [
                {
                    "output_type": "stream",
                    "name": "stdout",
                    "text": [
                        "Load file: ../Dataset/tripadvisor/train/sentence/id2sentence.json\n"
                    ]
                }
            ],
            "metadata": {}
        },
        {
            "cell_type": "code",
            "execution_count": 12,
            "source": [
                "id_to_sent['0']"
            ],
            "outputs": [
                {
                    "output_type": "execute_result",
                    "data": {
                        "text/plain": [
                            "'great location .'"
                        ]
                    },
                    "metadata": {},
                    "execution_count": 12
                }
            ],
            "metadata": {}
        },
        {
            "cell_type": "code",
            "execution_count": 13,
            "source": [
                "assert len(sent_to_id) == len(id_to_sent)\n",
                "print(\"Number of sentence (with feature) on train set: {}\".format(len(sent_to_id)))"
            ],
            "outputs": [
                {
                    "output_type": "stream",
                    "name": "stdout",
                    "text": [
                        "Number of sentence (with feature) on train set: 740398\n"
                    ]
                }
            ],
            "metadata": {}
        },
        {
            "cell_type": "markdown",
            "source": [
                "## Load Feature Words"
            ],
            "metadata": {}
        },
        {
            "cell_type": "code",
            "execution_count": 14,
            "source": [
                "feature2id_filepath = '../Dataset/{}/train/feature/feature2id.json'.format(dataset_name)\n",
                "with open(feature2id_filepath, 'r') as f:\n",
                "    print(\"Load file: {}\".format(feature2id_filepath))\n",
                "    feature_vocab = json.load(f)"
            ],
            "outputs": [
                {
                    "output_type": "stream",
                    "name": "stdout",
                    "text": [
                        "Load file: ../Dataset/tripadvisor/train/feature/feature2id.json\n"
                    ]
                }
            ],
            "metadata": {}
        },
        {
            "cell_type": "code",
            "execution_count": 15,
            "source": [
                "len(feature_vocab)"
            ],
            "outputs": [
                {
                    "output_type": "execute_result",
                    "data": {
                        "text/plain": [
                            "503"
                        ]
                    },
                    "metadata": {},
                    "execution_count": 15
                }
            ],
            "metadata": {}
        },
        {
            "cell_type": "code",
            "execution_count": 16,
            "source": [
                "feature_vocab['wifi']"
            ],
            "outputs": [
                {
                    "output_type": "execute_result",
                    "data": {
                        "text/plain": [
                            "'110'"
                        ]
                    },
                    "metadata": {},
                    "execution_count": 16
                }
            ],
            "metadata": {}
        },
        {
            "cell_type": "markdown",
            "source": [
                "## Load Sentence2Feature"
            ],
            "metadata": {}
        },
        {
            "cell_type": "code",
            "execution_count": 17,
            "source": [
                "sentence2feature_filepath = '../Dataset/{}/train/sentence/sentence2feature.json'.format(dataset_name)\n",
                "with open(sentence2feature_filepath, 'r') as f:\n",
                "    print(\"Load file: {}\".format(sentence2feature_filepath))\n",
                "    sentence_to_feature = json.load(f)"
            ],
            "outputs": [
                {
                    "output_type": "stream",
                    "name": "stdout",
                    "text": [
                        "Load file: ../Dataset/tripadvisor/train/sentence/sentence2feature.json\n"
                    ]
                }
            ],
            "metadata": {}
        },
        {
            "cell_type": "code",
            "execution_count": 18,
            "source": [
                "sentence_to_feature['0']"
            ],
            "outputs": [
                {
                    "output_type": "execute_result",
                    "data": {
                        "text/plain": [
                            "{'9': 1.0}"
                        ]
                    },
                    "metadata": {},
                    "execution_count": 18
                }
            ],
            "metadata": {}
        },
        {
            "cell_type": "code",
            "execution_count": 19,
            "source": [
                "assert len(sentence_to_feature) == len(sent_to_id)\n",
                "len(sentence_to_feature)"
            ],
            "outputs": [
                {
                    "output_type": "execute_result",
                    "data": {
                        "text/plain": [
                            "740398"
                        ]
                    },
                    "metadata": {},
                    "execution_count": 19
                }
            ],
            "metadata": {}
        },
        {
            "cell_type": "markdown",
            "source": [
                "# Construct User-Item Pair"
            ],
            "metadata": {}
        },
        {
            "cell_type": "markdown",
            "source": [
                "## GrounpBy User"
            ],
            "metadata": {}
        },
        {
            "cell_type": "code",
            "execution_count": 20,
            "source": [
                "group_by_user = df_train_data.groupby('user')\n",
                "group_by_user_dict = dict(tuple(group_by_user))"
            ],
            "outputs": [],
            "metadata": {}
        },
        {
            "cell_type": "code",
            "execution_count": 21,
            "source": [
                "group_by_user_dict['1001']"
            ],
            "outputs": [
                {
                    "output_type": "execute_result",
                    "data": {
                        "text/plain": [
                            "      item  user  rating                                             review\n",
                            "4578   100  1001       4               the staff was helpful and friendly .\n",
                            "4579  1000  1001       5                  we will stay with secrets again .\n",
                            "4580   102  1001       5  i really enjoy this hotel , staff , amenities ...\n",
                            "4581  1091  1001       4  pros : great cherry creek location . cons : ba...\n",
                            "4582  1152  1001       1  and , honest to god , pubic hairs between the ...\n",
                            "4583   118  1001       4  the resort was n't a disappointment at all . o...\n",
                            "4584  1344  1001       5  the staff , the accommodations and the food se...\n",
                            "4585  1408  1001       1  carpet was full of crumbs . \" non - smoking ro...\n",
                            "4586  1489  1001       1  i called back by 1:30 pm to talk to the desk a...\n",
                            "4587  1549  1001       4  the front desk clerks were very nice and check...\n",
                            "4588  1626  1001       5  i love the free local calls , breakfast and co...\n",
                            "4589   172  1001       3  the location was great - right across from the...\n",
                            "4590   181  1001       3  we arrived well after the check in time to fin...\n",
                            "4591  1846  1001       1  after checking in , we went through the musty ...\n",
                            "4592  1901  1001       5  the beds and pillows are the most comfortable ...\n",
                            "4593   194  1001       3     information on the internet eluded to trails .\n",
                            "4594  1964  1001       5  would stay here again and highly recommend thi...\n",
                            "4595  2065  1001       4  we were so comfortable sleeping in the room ov...\n",
                            "4596  2146  1001       3  the st. charles streetcar stops right in front...\n",
                            "4597  2275  1001       2  the air conditioning did not get cold and woul...\n",
                            "4598   240  1001       3  we had reserved a room beside our function . c...\n",
                            "4599   248  1001       5  good location next to the riverwalk so there w...\n",
                            "4600  2570  1001       4  but i forgot that people would be taking a hot...\n",
                            "4601   268  1001       3  the suite was reasonably large and private , i...\n",
                            "4602  2833  1001       4  we were pleased to find availability at this b...\n",
                            "4603  2904  1001       5  die zimmer sind groß , modern und sehr sauber ...\n",
                            "4604  2919  1001       3  the rooms were clean and the be was comfortabl...\n",
                            "4605  3028  1001       3  like the other posts there are common faults a...\n",
                            "4606   313  1001       1  i addressed this issue with manager the next m...\n",
                            "4607  3274  1001       5              the beds are also quite comfortable .\n",
                            "4608  3276  1001       5              the beds are also quite comfortable .\n",
                            "4609   330  1001       4  i found the hotel to be central to everything ...\n",
                            "4610  3351  1001       5  i really enjoyed my stay at hampton inn . the ...\n",
                            "4611  3453  1001       3  it is in a good location . the room was clean ...\n",
                            "4612  3470  1001       5  the rooms , while small , are well equipped an...\n",
                            "4613  3647  1001       5  clean rooms , good location , friendly people ...\n",
                            "4614  3667  1001       5  i stayed in a superior king last weekend while...\n",
                            "4615  3736  1001       5              the beds are also quite comfortable .\n",
                            "4616  3978  1001       5  by far , this is the cleanest , freshest and m...\n",
                            "4617  4038  1001       1  i booked a reservation here because i was misl...\n",
                            "4618   473  1001       3  located in an out - of - the - way corner , al...\n",
                            "4619   519  1001       5  or you can get in your car and be at the plaza...\n",
                            "4620    56  1001       3  otherwise the rest of the room was in need of ...\n",
                            "4621   611  1001       3  room is small noisy bathroom fan bathroom ligh...\n",
                            "4622   740  1001       4  first the staff was great and helpful . food a...\n",
                            "4623   742  1001       5  we use the park option for vacation travel fro...\n",
                            "4624   747  1001       3  did n't ask for much while there , they fell s...\n",
                            "4625   813  1001       5  really enjoyed my stay at this hotel . loved t...\n",
                            "4626   820  1001       3  we stayed at hotel renew for 5 nights in april...\n",
                            "4627   845  1001       5  if you 're in albaquerque , this is the only p...\n",
                            "4628    96  1001       5  my wife and i stayed in the king whirlpool sui..."
                        ],
                        "text/html": [
                            "<div>\n",
                            "<style scoped>\n",
                            "    .dataframe tbody tr th:only-of-type {\n",
                            "        vertical-align: middle;\n",
                            "    }\n",
                            "\n",
                            "    .dataframe tbody tr th {\n",
                            "        vertical-align: top;\n",
                            "    }\n",
                            "\n",
                            "    .dataframe thead th {\n",
                            "        text-align: right;\n",
                            "    }\n",
                            "</style>\n",
                            "<table border=\"1\" class=\"dataframe\">\n",
                            "  <thead>\n",
                            "    <tr style=\"text-align: right;\">\n",
                            "      <th></th>\n",
                            "      <th>item</th>\n",
                            "      <th>user</th>\n",
                            "      <th>rating</th>\n",
                            "      <th>review</th>\n",
                            "    </tr>\n",
                            "  </thead>\n",
                            "  <tbody>\n",
                            "    <tr>\n",
                            "      <th>4578</th>\n",
                            "      <td>100</td>\n",
                            "      <td>1001</td>\n",
                            "      <td>4</td>\n",
                            "      <td>the staff was helpful and friendly .</td>\n",
                            "    </tr>\n",
                            "    <tr>\n",
                            "      <th>4579</th>\n",
                            "      <td>1000</td>\n",
                            "      <td>1001</td>\n",
                            "      <td>5</td>\n",
                            "      <td>we will stay with secrets again .</td>\n",
                            "    </tr>\n",
                            "    <tr>\n",
                            "      <th>4580</th>\n",
                            "      <td>102</td>\n",
                            "      <td>1001</td>\n",
                            "      <td>5</td>\n",
                            "      <td>i really enjoy this hotel , staff , amenities ...</td>\n",
                            "    </tr>\n",
                            "    <tr>\n",
                            "      <th>4581</th>\n",
                            "      <td>1091</td>\n",
                            "      <td>1001</td>\n",
                            "      <td>4</td>\n",
                            "      <td>pros : great cherry creek location . cons : ba...</td>\n",
                            "    </tr>\n",
                            "    <tr>\n",
                            "      <th>4582</th>\n",
                            "      <td>1152</td>\n",
                            "      <td>1001</td>\n",
                            "      <td>1</td>\n",
                            "      <td>and , honest to god , pubic hairs between the ...</td>\n",
                            "    </tr>\n",
                            "    <tr>\n",
                            "      <th>4583</th>\n",
                            "      <td>118</td>\n",
                            "      <td>1001</td>\n",
                            "      <td>4</td>\n",
                            "      <td>the resort was n't a disappointment at all . o...</td>\n",
                            "    </tr>\n",
                            "    <tr>\n",
                            "      <th>4584</th>\n",
                            "      <td>1344</td>\n",
                            "      <td>1001</td>\n",
                            "      <td>5</td>\n",
                            "      <td>the staff , the accommodations and the food se...</td>\n",
                            "    </tr>\n",
                            "    <tr>\n",
                            "      <th>4585</th>\n",
                            "      <td>1408</td>\n",
                            "      <td>1001</td>\n",
                            "      <td>1</td>\n",
                            "      <td>carpet was full of crumbs . \" non - smoking ro...</td>\n",
                            "    </tr>\n",
                            "    <tr>\n",
                            "      <th>4586</th>\n",
                            "      <td>1489</td>\n",
                            "      <td>1001</td>\n",
                            "      <td>1</td>\n",
                            "      <td>i called back by 1:30 pm to talk to the desk a...</td>\n",
                            "    </tr>\n",
                            "    <tr>\n",
                            "      <th>4587</th>\n",
                            "      <td>1549</td>\n",
                            "      <td>1001</td>\n",
                            "      <td>4</td>\n",
                            "      <td>the front desk clerks were very nice and check...</td>\n",
                            "    </tr>\n",
                            "    <tr>\n",
                            "      <th>4588</th>\n",
                            "      <td>1626</td>\n",
                            "      <td>1001</td>\n",
                            "      <td>5</td>\n",
                            "      <td>i love the free local calls , breakfast and co...</td>\n",
                            "    </tr>\n",
                            "    <tr>\n",
                            "      <th>4589</th>\n",
                            "      <td>172</td>\n",
                            "      <td>1001</td>\n",
                            "      <td>3</td>\n",
                            "      <td>the location was great - right across from the...</td>\n",
                            "    </tr>\n",
                            "    <tr>\n",
                            "      <th>4590</th>\n",
                            "      <td>181</td>\n",
                            "      <td>1001</td>\n",
                            "      <td>3</td>\n",
                            "      <td>we arrived well after the check in time to fin...</td>\n",
                            "    </tr>\n",
                            "    <tr>\n",
                            "      <th>4591</th>\n",
                            "      <td>1846</td>\n",
                            "      <td>1001</td>\n",
                            "      <td>1</td>\n",
                            "      <td>after checking in , we went through the musty ...</td>\n",
                            "    </tr>\n",
                            "    <tr>\n",
                            "      <th>4592</th>\n",
                            "      <td>1901</td>\n",
                            "      <td>1001</td>\n",
                            "      <td>5</td>\n",
                            "      <td>the beds and pillows are the most comfortable ...</td>\n",
                            "    </tr>\n",
                            "    <tr>\n",
                            "      <th>4593</th>\n",
                            "      <td>194</td>\n",
                            "      <td>1001</td>\n",
                            "      <td>3</td>\n",
                            "      <td>information on the internet eluded to trails .</td>\n",
                            "    </tr>\n",
                            "    <tr>\n",
                            "      <th>4594</th>\n",
                            "      <td>1964</td>\n",
                            "      <td>1001</td>\n",
                            "      <td>5</td>\n",
                            "      <td>would stay here again and highly recommend thi...</td>\n",
                            "    </tr>\n",
                            "    <tr>\n",
                            "      <th>4595</th>\n",
                            "      <td>2065</td>\n",
                            "      <td>1001</td>\n",
                            "      <td>4</td>\n",
                            "      <td>we were so comfortable sleeping in the room ov...</td>\n",
                            "    </tr>\n",
                            "    <tr>\n",
                            "      <th>4596</th>\n",
                            "      <td>2146</td>\n",
                            "      <td>1001</td>\n",
                            "      <td>3</td>\n",
                            "      <td>the st. charles streetcar stops right in front...</td>\n",
                            "    </tr>\n",
                            "    <tr>\n",
                            "      <th>4597</th>\n",
                            "      <td>2275</td>\n",
                            "      <td>1001</td>\n",
                            "      <td>2</td>\n",
                            "      <td>the air conditioning did not get cold and woul...</td>\n",
                            "    </tr>\n",
                            "    <tr>\n",
                            "      <th>4598</th>\n",
                            "      <td>240</td>\n",
                            "      <td>1001</td>\n",
                            "      <td>3</td>\n",
                            "      <td>we had reserved a room beside our function . c...</td>\n",
                            "    </tr>\n",
                            "    <tr>\n",
                            "      <th>4599</th>\n",
                            "      <td>248</td>\n",
                            "      <td>1001</td>\n",
                            "      <td>5</td>\n",
                            "      <td>good location next to the riverwalk so there w...</td>\n",
                            "    </tr>\n",
                            "    <tr>\n",
                            "      <th>4600</th>\n",
                            "      <td>2570</td>\n",
                            "      <td>1001</td>\n",
                            "      <td>4</td>\n",
                            "      <td>but i forgot that people would be taking a hot...</td>\n",
                            "    </tr>\n",
                            "    <tr>\n",
                            "      <th>4601</th>\n",
                            "      <td>268</td>\n",
                            "      <td>1001</td>\n",
                            "      <td>3</td>\n",
                            "      <td>the suite was reasonably large and private , i...</td>\n",
                            "    </tr>\n",
                            "    <tr>\n",
                            "      <th>4602</th>\n",
                            "      <td>2833</td>\n",
                            "      <td>1001</td>\n",
                            "      <td>4</td>\n",
                            "      <td>we were pleased to find availability at this b...</td>\n",
                            "    </tr>\n",
                            "    <tr>\n",
                            "      <th>4603</th>\n",
                            "      <td>2904</td>\n",
                            "      <td>1001</td>\n",
                            "      <td>5</td>\n",
                            "      <td>die zimmer sind groß , modern und sehr sauber ...</td>\n",
                            "    </tr>\n",
                            "    <tr>\n",
                            "      <th>4604</th>\n",
                            "      <td>2919</td>\n",
                            "      <td>1001</td>\n",
                            "      <td>3</td>\n",
                            "      <td>the rooms were clean and the be was comfortabl...</td>\n",
                            "    </tr>\n",
                            "    <tr>\n",
                            "      <th>4605</th>\n",
                            "      <td>3028</td>\n",
                            "      <td>1001</td>\n",
                            "      <td>3</td>\n",
                            "      <td>like the other posts there are common faults a...</td>\n",
                            "    </tr>\n",
                            "    <tr>\n",
                            "      <th>4606</th>\n",
                            "      <td>313</td>\n",
                            "      <td>1001</td>\n",
                            "      <td>1</td>\n",
                            "      <td>i addressed this issue with manager the next m...</td>\n",
                            "    </tr>\n",
                            "    <tr>\n",
                            "      <th>4607</th>\n",
                            "      <td>3274</td>\n",
                            "      <td>1001</td>\n",
                            "      <td>5</td>\n",
                            "      <td>the beds are also quite comfortable .</td>\n",
                            "    </tr>\n",
                            "    <tr>\n",
                            "      <th>4608</th>\n",
                            "      <td>3276</td>\n",
                            "      <td>1001</td>\n",
                            "      <td>5</td>\n",
                            "      <td>the beds are also quite comfortable .</td>\n",
                            "    </tr>\n",
                            "    <tr>\n",
                            "      <th>4609</th>\n",
                            "      <td>330</td>\n",
                            "      <td>1001</td>\n",
                            "      <td>4</td>\n",
                            "      <td>i found the hotel to be central to everything ...</td>\n",
                            "    </tr>\n",
                            "    <tr>\n",
                            "      <th>4610</th>\n",
                            "      <td>3351</td>\n",
                            "      <td>1001</td>\n",
                            "      <td>5</td>\n",
                            "      <td>i really enjoyed my stay at hampton inn . the ...</td>\n",
                            "    </tr>\n",
                            "    <tr>\n",
                            "      <th>4611</th>\n",
                            "      <td>3453</td>\n",
                            "      <td>1001</td>\n",
                            "      <td>3</td>\n",
                            "      <td>it is in a good location . the room was clean ...</td>\n",
                            "    </tr>\n",
                            "    <tr>\n",
                            "      <th>4612</th>\n",
                            "      <td>3470</td>\n",
                            "      <td>1001</td>\n",
                            "      <td>5</td>\n",
                            "      <td>the rooms , while small , are well equipped an...</td>\n",
                            "    </tr>\n",
                            "    <tr>\n",
                            "      <th>4613</th>\n",
                            "      <td>3647</td>\n",
                            "      <td>1001</td>\n",
                            "      <td>5</td>\n",
                            "      <td>clean rooms , good location , friendly people ...</td>\n",
                            "    </tr>\n",
                            "    <tr>\n",
                            "      <th>4614</th>\n",
                            "      <td>3667</td>\n",
                            "      <td>1001</td>\n",
                            "      <td>5</td>\n",
                            "      <td>i stayed in a superior king last weekend while...</td>\n",
                            "    </tr>\n",
                            "    <tr>\n",
                            "      <th>4615</th>\n",
                            "      <td>3736</td>\n",
                            "      <td>1001</td>\n",
                            "      <td>5</td>\n",
                            "      <td>the beds are also quite comfortable .</td>\n",
                            "    </tr>\n",
                            "    <tr>\n",
                            "      <th>4616</th>\n",
                            "      <td>3978</td>\n",
                            "      <td>1001</td>\n",
                            "      <td>5</td>\n",
                            "      <td>by far , this is the cleanest , freshest and m...</td>\n",
                            "    </tr>\n",
                            "    <tr>\n",
                            "      <th>4617</th>\n",
                            "      <td>4038</td>\n",
                            "      <td>1001</td>\n",
                            "      <td>1</td>\n",
                            "      <td>i booked a reservation here because i was misl...</td>\n",
                            "    </tr>\n",
                            "    <tr>\n",
                            "      <th>4618</th>\n",
                            "      <td>473</td>\n",
                            "      <td>1001</td>\n",
                            "      <td>3</td>\n",
                            "      <td>located in an out - of - the - way corner , al...</td>\n",
                            "    </tr>\n",
                            "    <tr>\n",
                            "      <th>4619</th>\n",
                            "      <td>519</td>\n",
                            "      <td>1001</td>\n",
                            "      <td>5</td>\n",
                            "      <td>or you can get in your car and be at the plaza...</td>\n",
                            "    </tr>\n",
                            "    <tr>\n",
                            "      <th>4620</th>\n",
                            "      <td>56</td>\n",
                            "      <td>1001</td>\n",
                            "      <td>3</td>\n",
                            "      <td>otherwise the rest of the room was in need of ...</td>\n",
                            "    </tr>\n",
                            "    <tr>\n",
                            "      <th>4621</th>\n",
                            "      <td>611</td>\n",
                            "      <td>1001</td>\n",
                            "      <td>3</td>\n",
                            "      <td>room is small noisy bathroom fan bathroom ligh...</td>\n",
                            "    </tr>\n",
                            "    <tr>\n",
                            "      <th>4622</th>\n",
                            "      <td>740</td>\n",
                            "      <td>1001</td>\n",
                            "      <td>4</td>\n",
                            "      <td>first the staff was great and helpful . food a...</td>\n",
                            "    </tr>\n",
                            "    <tr>\n",
                            "      <th>4623</th>\n",
                            "      <td>742</td>\n",
                            "      <td>1001</td>\n",
                            "      <td>5</td>\n",
                            "      <td>we use the park option for vacation travel fro...</td>\n",
                            "    </tr>\n",
                            "    <tr>\n",
                            "      <th>4624</th>\n",
                            "      <td>747</td>\n",
                            "      <td>1001</td>\n",
                            "      <td>3</td>\n",
                            "      <td>did n't ask for much while there , they fell s...</td>\n",
                            "    </tr>\n",
                            "    <tr>\n",
                            "      <th>4625</th>\n",
                            "      <td>813</td>\n",
                            "      <td>1001</td>\n",
                            "      <td>5</td>\n",
                            "      <td>really enjoyed my stay at this hotel . loved t...</td>\n",
                            "    </tr>\n",
                            "    <tr>\n",
                            "      <th>4626</th>\n",
                            "      <td>820</td>\n",
                            "      <td>1001</td>\n",
                            "      <td>3</td>\n",
                            "      <td>we stayed at hotel renew for 5 nights in april...</td>\n",
                            "    </tr>\n",
                            "    <tr>\n",
                            "      <th>4627</th>\n",
                            "      <td>845</td>\n",
                            "      <td>1001</td>\n",
                            "      <td>5</td>\n",
                            "      <td>if you 're in albaquerque , this is the only p...</td>\n",
                            "    </tr>\n",
                            "    <tr>\n",
                            "      <th>4628</th>\n",
                            "      <td>96</td>\n",
                            "      <td>1001</td>\n",
                            "      <td>5</td>\n",
                            "      <td>my wife and i stayed in the king whirlpool sui...</td>\n",
                            "    </tr>\n",
                            "  </tbody>\n",
                            "</table>\n",
                            "</div>"
                        ]
                    },
                    "metadata": {},
                    "execution_count": 21
                }
            ],
            "metadata": {}
        },
        {
            "cell_type": "code",
            "execution_count": 22,
            "source": [
                "len(group_by_user_dict)"
            ],
            "outputs": [
                {
                    "output_type": "execute_result",
                    "data": {
                        "text/plain": [
                            "4950"
                        ]
                    },
                    "metadata": {},
                    "execution_count": 22
                }
            ],
            "metadata": {}
        },
        {
            "cell_type": "code",
            "execution_count": 23,
            "source": [
                "user_id_list = list(df_train_data['user'].unique())"
            ],
            "outputs": [],
            "metadata": {}
        },
        {
            "cell_type": "code",
            "execution_count": 24,
            "source": [
                "print(len(user_id_list))"
            ],
            "outputs": [
                {
                    "output_type": "stream",
                    "name": "stdout",
                    "text": [
                        "4950\n"
                    ]
                }
            ],
            "metadata": {}
        },
        {
            "cell_type": "code",
            "execution_count": 25,
            "source": [
                "user_to_sent = dict()\n",
                "cnt_sentence_with_no_feature = 0\n",
                "\n",
                "for user_id in user_id_list:\n",
                "    # note this user_id is a str\n",
                "    # get the dataframe for this user\n",
                "    user_df = group_by_user_dict[user_id]\n",
                "    user_reviews = list(user_df['review'])\n",
                "    user_sent_ids = set()\n",
                "    for review in user_reviews:\n",
                "        # tokenize this review (i.e. split into sentences)\n",
                "        review_sents = sent_tokenize(review)\n",
                "        # check whether the sentence is in the sentence2id dictionary\n",
                "        for sent in review_sents:\n",
                "            if sent in sent_to_id:\n",
                "                cur_sent_id = sent_to_id[sent]\n",
                "                assert isinstance(cur_sent_id, str)\n",
                "                # make sure that this sentence has feature\n",
                "                # assert cur_sent_id in sentence_to_feature\n",
                "                # user_sent_ids.add(cur_sent_id)\n",
                "                if cur_sent_id in sentence_to_feature:\n",
                "                    # add this sentence into the set of this user\n",
                "                    user_sent_ids.add(cur_sent_id)\n",
                "                else:\n",
                "                    cnt_sentence_with_no_feature += 1\n",
                "        # TODO: what should we do if there are sentence that appears in multiple reivews?\n",
                "    if len(user_sent_ids) == 0:\n",
                "        print(\"User: {} has no effective sentences, skip it.\".format(user_id))\n",
                "    else:\n",
                "        user_to_sent[user_id] = user_sent_ids\n",
                "print('{} sentence with no feature'.format(cnt_sentence_with_no_feature))"
            ],
            "outputs": [
                {
                    "output_type": "stream",
                    "name": "stdout",
                    "text": [
                        "0 sentence with no feature\n"
                    ]
                }
            ],
            "metadata": {}
        },
        {
            "cell_type": "code",
            "execution_count": 26,
            "source": [
                "len(user_to_sent)"
            ],
            "outputs": [
                {
                    "output_type": "execute_result",
                    "data": {
                        "text/plain": [
                            "4950"
                        ]
                    },
                    "metadata": {},
                    "execution_count": 26
                }
            ],
            "metadata": {}
        },
        {
            "cell_type": "code",
            "execution_count": 27,
            "source": [
                "user_to_sentids = dict()\n",
                "for user_id, user_sents in user_to_sent.items():\n",
                "    assert len(user_sents) > 0\n",
                "    assert isinstance(user_id, str)\n",
                "    assert isinstance(list(user_sents)[0], str)\n",
                "    user_to_sentids[user_id] = list(user_sents)"
            ],
            "outputs": [],
            "metadata": {}
        },
        {
            "cell_type": "code",
            "execution_count": 28,
            "source": [
                "len(user_to_sentids)"
            ],
            "outputs": [
                {
                    "output_type": "execute_result",
                    "data": {
                        "text/plain": [
                            "4950"
                        ]
                    },
                    "metadata": {},
                    "execution_count": 28
                }
            ],
            "metadata": {}
        },
        {
            "cell_type": "code",
            "execution_count": 29,
            "source": [
                "user2sentids_filepath = '../Dataset/{}/train/user/user2sentids.json'.format(dataset_name)\n",
                "with open(user2sentids_filepath, 'w') as f:\n",
                "    print(\"Write file: {}\".format(user2sentids_filepath))\n",
                "    json.dump(user_to_sentids, f)"
            ],
            "outputs": [
                {
                    "output_type": "stream",
                    "name": "stdout",
                    "text": [
                        "Write file: ../Dataset/tripadvisor/train/user/user2sentids.json\n"
                    ]
                }
            ],
            "metadata": {}
        },
        {
            "cell_type": "code",
            "execution_count": 30,
            "source": [
                "user_side_cdd_sents_num = list()\n",
                "for key, value in user_to_sentids.items():\n",
                "    user_side_cdd_sents_num.append(len(value))"
            ],
            "outputs": [],
            "metadata": {}
        },
        {
            "cell_type": "code",
            "execution_count": 31,
            "source": [
                "print(\"Mean number of sentence per user: {}\".format(\n",
                "    np.mean(user_side_cdd_sents_num)\n",
                "))\n",
                "print(\"Min number of sentence per user: {}\".format(\n",
                "    np.min(user_side_cdd_sents_num)\n",
                "))\n",
                "print(\"Max number of sentence per user: {}\".format(\n",
                "    np.max(user_side_cdd_sents_num)\n",
                "))"
            ],
            "outputs": [
                {
                    "output_type": "stream",
                    "name": "stdout",
                    "text": [
                        "Mean number of sentence per user: 160.76848484848486\n",
                        "Min number of sentence per user: 12\n",
                        "Max number of sentence per user: 12781\n"
                    ]
                }
            ],
            "metadata": {}
        },
        {
            "cell_type": "code",
            "execution_count": 32,
            "source": [
                "print(\"Top-10 least numbber of sentences per user: {}\".format(\n",
                "    sorted(user_side_cdd_sents_num)[:10]\n",
                "))\n",
                "print(\"Top-10 most numbber of sentences per user: {}\".format(\n",
                "    sorted(user_side_cdd_sents_num)[-10:]\n",
                "))"
            ],
            "outputs": [
                {
                    "output_type": "stream",
                    "name": "stdout",
                    "text": [
                        "Top-10 least numbber of sentences per user: [12, 13, 14, 16, 16, 17, 17, 20, 20, 21]\n",
                        "Top-10 most numbber of sentences per user: [1026, 1037, 1072, 1114, 1141, 1142, 1296, 1326, 1336, 12781]\n"
                    ]
                }
            ],
            "metadata": {}
        },
        {
            "cell_type": "markdown",
            "source": [
                "## GroupBy Item"
            ],
            "metadata": {}
        },
        {
            "cell_type": "code",
            "execution_count": 33,
            "source": [
                "group_by_item = df_train_data.groupby('item')\n",
                "group_by_item_dict = dict(tuple(group_by_item))"
            ],
            "outputs": [],
            "metadata": {}
        },
        {
            "cell_type": "code",
            "execution_count": 34,
            "source": [
                "group_by_item_dict['1267']"
            ],
            "outputs": [
                {
                    "output_type": "execute_result",
                    "data": {
                        "text/plain": [
                            "        item  user  rating                                             review\n",
                            "264     1267     0       5  close to many other cleveland attractions . we...\n",
                            "12954   1267  1128       2  both rooms were very small . air conditioning ...\n",
                            "31017   1267  1420       4  we stayed in a newly renovated room which was ...\n",
                            "39340   1267  1570       2  i also found their customer service to be incr...\n",
                            "41250   1267  1602       3  we really enjoyed our weekend stay in clevelan...\n",
                            "41572   1267   161       5  the award winning sans souci restaurant overlo...\n",
                            "43275   1267  1641       4  the lobby and lobby bar are beautiful - soarin...\n",
                            "45556   1267  1689       5  we did not think that the garage was small or ...\n",
                            "46382   1267   170       5  my husband and i recently stayed here and had ...\n",
                            "48144   1267  1734       5  i 've stopped going anywhere else ... the rena...\n",
                            "48753   1267  1747       5  it was that comfortable . shopping is close , ...\n",
                            "49460   1267  1760       3  air travel disruptions had caused me to drive ...\n",
                            "55029   1267  1872       4  this is my second time to stay at the renaissa...\n",
                            "59411   1267  1960       5  centrally located in downtown cleveland , this...\n",
                            "59478   1267  1962       5  it was in a great location and attached to a c...\n",
                            "64403   1267  2058       4  i just spent 5 days at the renaissance clevela...\n",
                            "64911   1267   207       4  we had a large , corner suite and enjoyed our ...\n",
                            "68552   1267  2146       3  the meeting room is worn . the room was small ...\n",
                            "69280   1267  2162       2  the bar in the lobby ( i do n't know the name ...\n",
                            "73797   1267  2265       4  the staff was great before , during , and afte...\n",
                            "74118   1267  2272       3  the temperature in the room had to be nearly 8...\n",
                            "77323   1267  2346       4  at first , i was n't happy to go to a more exp...\n",
                            "77644   1267  2353       2  lovely old hotel , with a warm , helpful staff...\n",
                            "84183   1267   251       2  the window in my room is broken and listened t...\n",
                            "85242   1267  2537       4  overall i doubt if i would stay there again ot...\n",
                            "89688   1267   265       4  traditional decor in the accommodations , but ...\n",
                            "92056   1267  2706       4  the lobby bar was great . stayed in a suite th...\n",
                            "92746   1267  2724       3  the hotel bar and lobby are very nice , the ro...\n",
                            "92911   1267   273       3  i give the hotel top marks for service . all o...\n",
                            "93654   1267   275       3  the service was good , the location is great b...\n",
                            "94941   1267  2784       3         totally turned me off from this property .\n",
                            "97691   1267  2853       4  we got this hotel on priceline for $ 70 / nigh...\n",
                            "97774   1267  2856       3  obviously she is a bundle of joy but we have b...\n",
                            "106143  1267  3071       2  our room had a king - size bed . the room had ...\n",
                            "106265  1267  3076       4  we were here for a long weekend vacation & dec...\n",
                            "114333  1267   330       5  extremely clean ! staff was friendly and helpf...\n",
                            "117500  1267  3396       3  if you are into nostalgic hotels with old flai...\n",
                            "122733  1267  3550       5  excellent location in the downtown area , conv...\n",
                            "123221  1267  3569       3  the location is great but the hotel is juat so...\n",
                            "128041  1267  3715       5  first when you walk in it is so lovely a grand...\n",
                            "130045  1267  3783       4  towels were soft and abundant . the bathroom w...\n",
                            "132305  1267  3854       4  i had the opportunity to stay at the renaissan...\n",
                            "137928  1267  4027       4  we did occured only two problems whith our sta...\n",
                            "142896  1267    42       2  first thing is the rooms . they very in size d...\n",
                            "148912  1267  4400       4  the hallways and rooms just seem cleaner and f...\n",
                            "149717  1267  4434       4  while it is attached to the hotel , it is quit...\n",
                            "166174  1267   517       3  i had an overnight stay here for business rece...\n",
                            "169515  1267   552       2  our neighbour 's tv , toilet , and shower , as...\n",
                            "173402  1267   596       4  the renaissance is in the warehouse district o...\n",
                            "175325  1267   616       2  room tip : stay away from rooms in the 970 or ...\n",
                            "175388  1267   617       5  the location is perfect - on public square - w...\n",
                            "176754  1267   631       5  i had a room on the 6th floor over 1100 square...\n",
                            "178778  1267   656       5  not the most modern obviously , but just love ...\n",
                            "186886  1267   751       3  i stay here a lot for business . first , most ...\n",
                            "188087  1267   768       4  we stayed in a suite , which was quite nice , ...\n",
                            "193398  1267   831       4  my stay at the renaissance was great ! dinner ...\n",
                            "196472  1267   873       4  otherwise , the rates would have convinced us ...\n",
                            "203549  1267    97       5  lovely experience ... beautiful ambience , gre..."
                        ],
                        "text/html": [
                            "<div>\n",
                            "<style scoped>\n",
                            "    .dataframe tbody tr th:only-of-type {\n",
                            "        vertical-align: middle;\n",
                            "    }\n",
                            "\n",
                            "    .dataframe tbody tr th {\n",
                            "        vertical-align: top;\n",
                            "    }\n",
                            "\n",
                            "    .dataframe thead th {\n",
                            "        text-align: right;\n",
                            "    }\n",
                            "</style>\n",
                            "<table border=\"1\" class=\"dataframe\">\n",
                            "  <thead>\n",
                            "    <tr style=\"text-align: right;\">\n",
                            "      <th></th>\n",
                            "      <th>item</th>\n",
                            "      <th>user</th>\n",
                            "      <th>rating</th>\n",
                            "      <th>review</th>\n",
                            "    </tr>\n",
                            "  </thead>\n",
                            "  <tbody>\n",
                            "    <tr>\n",
                            "      <th>264</th>\n",
                            "      <td>1267</td>\n",
                            "      <td>0</td>\n",
                            "      <td>5</td>\n",
                            "      <td>close to many other cleveland attractions . we...</td>\n",
                            "    </tr>\n",
                            "    <tr>\n",
                            "      <th>12954</th>\n",
                            "      <td>1267</td>\n",
                            "      <td>1128</td>\n",
                            "      <td>2</td>\n",
                            "      <td>both rooms were very small . air conditioning ...</td>\n",
                            "    </tr>\n",
                            "    <tr>\n",
                            "      <th>31017</th>\n",
                            "      <td>1267</td>\n",
                            "      <td>1420</td>\n",
                            "      <td>4</td>\n",
                            "      <td>we stayed in a newly renovated room which was ...</td>\n",
                            "    </tr>\n",
                            "    <tr>\n",
                            "      <th>39340</th>\n",
                            "      <td>1267</td>\n",
                            "      <td>1570</td>\n",
                            "      <td>2</td>\n",
                            "      <td>i also found their customer service to be incr...</td>\n",
                            "    </tr>\n",
                            "    <tr>\n",
                            "      <th>41250</th>\n",
                            "      <td>1267</td>\n",
                            "      <td>1602</td>\n",
                            "      <td>3</td>\n",
                            "      <td>we really enjoyed our weekend stay in clevelan...</td>\n",
                            "    </tr>\n",
                            "    <tr>\n",
                            "      <th>41572</th>\n",
                            "      <td>1267</td>\n",
                            "      <td>161</td>\n",
                            "      <td>5</td>\n",
                            "      <td>the award winning sans souci restaurant overlo...</td>\n",
                            "    </tr>\n",
                            "    <tr>\n",
                            "      <th>43275</th>\n",
                            "      <td>1267</td>\n",
                            "      <td>1641</td>\n",
                            "      <td>4</td>\n",
                            "      <td>the lobby and lobby bar are beautiful - soarin...</td>\n",
                            "    </tr>\n",
                            "    <tr>\n",
                            "      <th>45556</th>\n",
                            "      <td>1267</td>\n",
                            "      <td>1689</td>\n",
                            "      <td>5</td>\n",
                            "      <td>we did not think that the garage was small or ...</td>\n",
                            "    </tr>\n",
                            "    <tr>\n",
                            "      <th>46382</th>\n",
                            "      <td>1267</td>\n",
                            "      <td>170</td>\n",
                            "      <td>5</td>\n",
                            "      <td>my husband and i recently stayed here and had ...</td>\n",
                            "    </tr>\n",
                            "    <tr>\n",
                            "      <th>48144</th>\n",
                            "      <td>1267</td>\n",
                            "      <td>1734</td>\n",
                            "      <td>5</td>\n",
                            "      <td>i 've stopped going anywhere else ... the rena...</td>\n",
                            "    </tr>\n",
                            "    <tr>\n",
                            "      <th>48753</th>\n",
                            "      <td>1267</td>\n",
                            "      <td>1747</td>\n",
                            "      <td>5</td>\n",
                            "      <td>it was that comfortable . shopping is close , ...</td>\n",
                            "    </tr>\n",
                            "    <tr>\n",
                            "      <th>49460</th>\n",
                            "      <td>1267</td>\n",
                            "      <td>1760</td>\n",
                            "      <td>3</td>\n",
                            "      <td>air travel disruptions had caused me to drive ...</td>\n",
                            "    </tr>\n",
                            "    <tr>\n",
                            "      <th>55029</th>\n",
                            "      <td>1267</td>\n",
                            "      <td>1872</td>\n",
                            "      <td>4</td>\n",
                            "      <td>this is my second time to stay at the renaissa...</td>\n",
                            "    </tr>\n",
                            "    <tr>\n",
                            "      <th>59411</th>\n",
                            "      <td>1267</td>\n",
                            "      <td>1960</td>\n",
                            "      <td>5</td>\n",
                            "      <td>centrally located in downtown cleveland , this...</td>\n",
                            "    </tr>\n",
                            "    <tr>\n",
                            "      <th>59478</th>\n",
                            "      <td>1267</td>\n",
                            "      <td>1962</td>\n",
                            "      <td>5</td>\n",
                            "      <td>it was in a great location and attached to a c...</td>\n",
                            "    </tr>\n",
                            "    <tr>\n",
                            "      <th>64403</th>\n",
                            "      <td>1267</td>\n",
                            "      <td>2058</td>\n",
                            "      <td>4</td>\n",
                            "      <td>i just spent 5 days at the renaissance clevela...</td>\n",
                            "    </tr>\n",
                            "    <tr>\n",
                            "      <th>64911</th>\n",
                            "      <td>1267</td>\n",
                            "      <td>207</td>\n",
                            "      <td>4</td>\n",
                            "      <td>we had a large , corner suite and enjoyed our ...</td>\n",
                            "    </tr>\n",
                            "    <tr>\n",
                            "      <th>68552</th>\n",
                            "      <td>1267</td>\n",
                            "      <td>2146</td>\n",
                            "      <td>3</td>\n",
                            "      <td>the meeting room is worn . the room was small ...</td>\n",
                            "    </tr>\n",
                            "    <tr>\n",
                            "      <th>69280</th>\n",
                            "      <td>1267</td>\n",
                            "      <td>2162</td>\n",
                            "      <td>2</td>\n",
                            "      <td>the bar in the lobby ( i do n't know the name ...</td>\n",
                            "    </tr>\n",
                            "    <tr>\n",
                            "      <th>73797</th>\n",
                            "      <td>1267</td>\n",
                            "      <td>2265</td>\n",
                            "      <td>4</td>\n",
                            "      <td>the staff was great before , during , and afte...</td>\n",
                            "    </tr>\n",
                            "    <tr>\n",
                            "      <th>74118</th>\n",
                            "      <td>1267</td>\n",
                            "      <td>2272</td>\n",
                            "      <td>3</td>\n",
                            "      <td>the temperature in the room had to be nearly 8...</td>\n",
                            "    </tr>\n",
                            "    <tr>\n",
                            "      <th>77323</th>\n",
                            "      <td>1267</td>\n",
                            "      <td>2346</td>\n",
                            "      <td>4</td>\n",
                            "      <td>at first , i was n't happy to go to a more exp...</td>\n",
                            "    </tr>\n",
                            "    <tr>\n",
                            "      <th>77644</th>\n",
                            "      <td>1267</td>\n",
                            "      <td>2353</td>\n",
                            "      <td>2</td>\n",
                            "      <td>lovely old hotel , with a warm , helpful staff...</td>\n",
                            "    </tr>\n",
                            "    <tr>\n",
                            "      <th>84183</th>\n",
                            "      <td>1267</td>\n",
                            "      <td>251</td>\n",
                            "      <td>2</td>\n",
                            "      <td>the window in my room is broken and listened t...</td>\n",
                            "    </tr>\n",
                            "    <tr>\n",
                            "      <th>85242</th>\n",
                            "      <td>1267</td>\n",
                            "      <td>2537</td>\n",
                            "      <td>4</td>\n",
                            "      <td>overall i doubt if i would stay there again ot...</td>\n",
                            "    </tr>\n",
                            "    <tr>\n",
                            "      <th>89688</th>\n",
                            "      <td>1267</td>\n",
                            "      <td>265</td>\n",
                            "      <td>4</td>\n",
                            "      <td>traditional decor in the accommodations , but ...</td>\n",
                            "    </tr>\n",
                            "    <tr>\n",
                            "      <th>92056</th>\n",
                            "      <td>1267</td>\n",
                            "      <td>2706</td>\n",
                            "      <td>4</td>\n",
                            "      <td>the lobby bar was great . stayed in a suite th...</td>\n",
                            "    </tr>\n",
                            "    <tr>\n",
                            "      <th>92746</th>\n",
                            "      <td>1267</td>\n",
                            "      <td>2724</td>\n",
                            "      <td>3</td>\n",
                            "      <td>the hotel bar and lobby are very nice , the ro...</td>\n",
                            "    </tr>\n",
                            "    <tr>\n",
                            "      <th>92911</th>\n",
                            "      <td>1267</td>\n",
                            "      <td>273</td>\n",
                            "      <td>3</td>\n",
                            "      <td>i give the hotel top marks for service . all o...</td>\n",
                            "    </tr>\n",
                            "    <tr>\n",
                            "      <th>93654</th>\n",
                            "      <td>1267</td>\n",
                            "      <td>275</td>\n",
                            "      <td>3</td>\n",
                            "      <td>the service was good , the location is great b...</td>\n",
                            "    </tr>\n",
                            "    <tr>\n",
                            "      <th>94941</th>\n",
                            "      <td>1267</td>\n",
                            "      <td>2784</td>\n",
                            "      <td>3</td>\n",
                            "      <td>totally turned me off from this property .</td>\n",
                            "    </tr>\n",
                            "    <tr>\n",
                            "      <th>97691</th>\n",
                            "      <td>1267</td>\n",
                            "      <td>2853</td>\n",
                            "      <td>4</td>\n",
                            "      <td>we got this hotel on priceline for $ 70 / nigh...</td>\n",
                            "    </tr>\n",
                            "    <tr>\n",
                            "      <th>97774</th>\n",
                            "      <td>1267</td>\n",
                            "      <td>2856</td>\n",
                            "      <td>3</td>\n",
                            "      <td>obviously she is a bundle of joy but we have b...</td>\n",
                            "    </tr>\n",
                            "    <tr>\n",
                            "      <th>106143</th>\n",
                            "      <td>1267</td>\n",
                            "      <td>3071</td>\n",
                            "      <td>2</td>\n",
                            "      <td>our room had a king - size bed . the room had ...</td>\n",
                            "    </tr>\n",
                            "    <tr>\n",
                            "      <th>106265</th>\n",
                            "      <td>1267</td>\n",
                            "      <td>3076</td>\n",
                            "      <td>4</td>\n",
                            "      <td>we were here for a long weekend vacation &amp; dec...</td>\n",
                            "    </tr>\n",
                            "    <tr>\n",
                            "      <th>114333</th>\n",
                            "      <td>1267</td>\n",
                            "      <td>330</td>\n",
                            "      <td>5</td>\n",
                            "      <td>extremely clean ! staff was friendly and helpf...</td>\n",
                            "    </tr>\n",
                            "    <tr>\n",
                            "      <th>117500</th>\n",
                            "      <td>1267</td>\n",
                            "      <td>3396</td>\n",
                            "      <td>3</td>\n",
                            "      <td>if you are into nostalgic hotels with old flai...</td>\n",
                            "    </tr>\n",
                            "    <tr>\n",
                            "      <th>122733</th>\n",
                            "      <td>1267</td>\n",
                            "      <td>3550</td>\n",
                            "      <td>5</td>\n",
                            "      <td>excellent location in the downtown area , conv...</td>\n",
                            "    </tr>\n",
                            "    <tr>\n",
                            "      <th>123221</th>\n",
                            "      <td>1267</td>\n",
                            "      <td>3569</td>\n",
                            "      <td>3</td>\n",
                            "      <td>the location is great but the hotel is juat so...</td>\n",
                            "    </tr>\n",
                            "    <tr>\n",
                            "      <th>128041</th>\n",
                            "      <td>1267</td>\n",
                            "      <td>3715</td>\n",
                            "      <td>5</td>\n",
                            "      <td>first when you walk in it is so lovely a grand...</td>\n",
                            "    </tr>\n",
                            "    <tr>\n",
                            "      <th>130045</th>\n",
                            "      <td>1267</td>\n",
                            "      <td>3783</td>\n",
                            "      <td>4</td>\n",
                            "      <td>towels were soft and abundant . the bathroom w...</td>\n",
                            "    </tr>\n",
                            "    <tr>\n",
                            "      <th>132305</th>\n",
                            "      <td>1267</td>\n",
                            "      <td>3854</td>\n",
                            "      <td>4</td>\n",
                            "      <td>i had the opportunity to stay at the renaissan...</td>\n",
                            "    </tr>\n",
                            "    <tr>\n",
                            "      <th>137928</th>\n",
                            "      <td>1267</td>\n",
                            "      <td>4027</td>\n",
                            "      <td>4</td>\n",
                            "      <td>we did occured only two problems whith our sta...</td>\n",
                            "    </tr>\n",
                            "    <tr>\n",
                            "      <th>142896</th>\n",
                            "      <td>1267</td>\n",
                            "      <td>42</td>\n",
                            "      <td>2</td>\n",
                            "      <td>first thing is the rooms . they very in size d...</td>\n",
                            "    </tr>\n",
                            "    <tr>\n",
                            "      <th>148912</th>\n",
                            "      <td>1267</td>\n",
                            "      <td>4400</td>\n",
                            "      <td>4</td>\n",
                            "      <td>the hallways and rooms just seem cleaner and f...</td>\n",
                            "    </tr>\n",
                            "    <tr>\n",
                            "      <th>149717</th>\n",
                            "      <td>1267</td>\n",
                            "      <td>4434</td>\n",
                            "      <td>4</td>\n",
                            "      <td>while it is attached to the hotel , it is quit...</td>\n",
                            "    </tr>\n",
                            "    <tr>\n",
                            "      <th>166174</th>\n",
                            "      <td>1267</td>\n",
                            "      <td>517</td>\n",
                            "      <td>3</td>\n",
                            "      <td>i had an overnight stay here for business rece...</td>\n",
                            "    </tr>\n",
                            "    <tr>\n",
                            "      <th>169515</th>\n",
                            "      <td>1267</td>\n",
                            "      <td>552</td>\n",
                            "      <td>2</td>\n",
                            "      <td>our neighbour 's tv , toilet , and shower , as...</td>\n",
                            "    </tr>\n",
                            "    <tr>\n",
                            "      <th>173402</th>\n",
                            "      <td>1267</td>\n",
                            "      <td>596</td>\n",
                            "      <td>4</td>\n",
                            "      <td>the renaissance is in the warehouse district o...</td>\n",
                            "    </tr>\n",
                            "    <tr>\n",
                            "      <th>175325</th>\n",
                            "      <td>1267</td>\n",
                            "      <td>616</td>\n",
                            "      <td>2</td>\n",
                            "      <td>room tip : stay away from rooms in the 970 or ...</td>\n",
                            "    </tr>\n",
                            "    <tr>\n",
                            "      <th>175388</th>\n",
                            "      <td>1267</td>\n",
                            "      <td>617</td>\n",
                            "      <td>5</td>\n",
                            "      <td>the location is perfect - on public square - w...</td>\n",
                            "    </tr>\n",
                            "    <tr>\n",
                            "      <th>176754</th>\n",
                            "      <td>1267</td>\n",
                            "      <td>631</td>\n",
                            "      <td>5</td>\n",
                            "      <td>i had a room on the 6th floor over 1100 square...</td>\n",
                            "    </tr>\n",
                            "    <tr>\n",
                            "      <th>178778</th>\n",
                            "      <td>1267</td>\n",
                            "      <td>656</td>\n",
                            "      <td>5</td>\n",
                            "      <td>not the most modern obviously , but just love ...</td>\n",
                            "    </tr>\n",
                            "    <tr>\n",
                            "      <th>186886</th>\n",
                            "      <td>1267</td>\n",
                            "      <td>751</td>\n",
                            "      <td>3</td>\n",
                            "      <td>i stay here a lot for business . first , most ...</td>\n",
                            "    </tr>\n",
                            "    <tr>\n",
                            "      <th>188087</th>\n",
                            "      <td>1267</td>\n",
                            "      <td>768</td>\n",
                            "      <td>4</td>\n",
                            "      <td>we stayed in a suite , which was quite nice , ...</td>\n",
                            "    </tr>\n",
                            "    <tr>\n",
                            "      <th>193398</th>\n",
                            "      <td>1267</td>\n",
                            "      <td>831</td>\n",
                            "      <td>4</td>\n",
                            "      <td>my stay at the renaissance was great ! dinner ...</td>\n",
                            "    </tr>\n",
                            "    <tr>\n",
                            "      <th>196472</th>\n",
                            "      <td>1267</td>\n",
                            "      <td>873</td>\n",
                            "      <td>4</td>\n",
                            "      <td>otherwise , the rates would have convinced us ...</td>\n",
                            "    </tr>\n",
                            "    <tr>\n",
                            "      <th>203549</th>\n",
                            "      <td>1267</td>\n",
                            "      <td>97</td>\n",
                            "      <td>5</td>\n",
                            "      <td>lovely experience ... beautiful ambience , gre...</td>\n",
                            "    </tr>\n",
                            "  </tbody>\n",
                            "</table>\n",
                            "</div>"
                        ]
                    },
                    "metadata": {},
                    "execution_count": 34
                }
            ],
            "metadata": {}
        },
        {
            "cell_type": "code",
            "execution_count": 35,
            "source": [
                "len(group_by_item_dict)"
            ],
            "outputs": [
                {
                    "output_type": "execute_result",
                    "data": {
                        "text/plain": [
                            "4493"
                        ]
                    },
                    "metadata": {},
                    "execution_count": 35
                }
            ],
            "metadata": {}
        },
        {
            "cell_type": "code",
            "execution_count": 36,
            "source": [
                "item_id_list = list(df_train_data['item'].unique())\n",
                "item_to_sent = dict()\n",
                "cnt_sentence_with_no_feature = 0\n",
                "for item_id in item_id_list:\n",
                "    # note this item_id is a str\n",
                "    # get the dataframe for this item\n",
                "    assert isinstance(item_id, str)\n",
                "    item_df = group_by_item_dict[item_id]\n",
                "    item_reviews = list(item_df['review'])\n",
                "    item_sent_ids = set()\n",
                "    for review in item_reviews:\n",
                "        # tokenize this review (i.e. split into sentences)\n",
                "        review_sents = sent_tokenize(review)\n",
                "        # check whether the sentence is in the sentence2id dictionary\n",
                "        for sent in review_sents:\n",
                "            if sent in sent_to_id:\n",
                "                cur_sent_id = sent_to_id[sent]\n",
                "                assert isinstance(cur_sent_id, str)\n",
                "                # make sure that this sentence has feature\n",
                "                if cur_sent_id in sentence_to_feature:\n",
                "                    # add this sentence into the set of this user\n",
                "                    item_sent_ids.add(cur_sent_id)\n",
                "                else:\n",
                "                    cnt_sentence_with_no_feature += 1\n",
                "        # TODO: what should we do if there are sentence that appears in multiple reivews?\n",
                "    if len(item_sent_ids) == 0:\n",
                "        print(\"Item {} has no effective sentence, skip it.\".format(item_id))\n",
                "    else:\n",
                "        item_to_sent[item_id] = item_sent_ids\n",
                "\n",
                "print('{} sentence with no feature'.format(cnt_sentence_with_no_feature))"
            ],
            "outputs": [
                {
                    "output_type": "stream",
                    "name": "stdout",
                    "text": [
                        "0 sentence with no feature\n"
                    ]
                }
            ],
            "metadata": {}
        },
        {
            "cell_type": "code",
            "execution_count": 37,
            "source": [
                "len(item_to_sent)"
            ],
            "outputs": [
                {
                    "output_type": "execute_result",
                    "data": {
                        "text/plain": [
                            "4493"
                        ]
                    },
                    "metadata": {},
                    "execution_count": 37
                }
            ],
            "metadata": {}
        },
        {
            "cell_type": "code",
            "execution_count": 38,
            "source": [
                "item_to_sentids = dict()\n",
                "for item_id, item_sents in item_to_sent.items():\n",
                "    assert len(item_sents) > 0\n",
                "    assert isinstance(list(item_sents)[0], str)\n",
                "    item_to_sentids[item_id] = list(item_sents)"
            ],
            "outputs": [],
            "metadata": {}
        },
        {
            "cell_type": "code",
            "execution_count": 39,
            "source": [
                "len(item_to_sentids)"
            ],
            "outputs": [
                {
                    "output_type": "execute_result",
                    "data": {
                        "text/plain": [
                            "4493"
                        ]
                    },
                    "metadata": {},
                    "execution_count": 39
                }
            ],
            "metadata": {}
        },
        {
            "cell_type": "code",
            "execution_count": 40,
            "source": [
                "item2sentids_filepath = '../Dataset/{}/train/item/item2sentids.json'.format(dataset_name)\n",
                "with open(item2sentids_filepath, 'w') as f:\n",
                "    print(\"Write file: {}\".format(item2sentids_filepath))\n",
                "    json.dump(item_to_sentids, f)"
            ],
            "outputs": [
                {
                    "output_type": "stream",
                    "name": "stdout",
                    "text": [
                        "Write file: ../Dataset/tripadvisor/train/item/item2sentids.json\n"
                    ]
                }
            ],
            "metadata": {}
        },
        {
            "cell_type": "code",
            "execution_count": 41,
            "source": [
                "item_side_cdd_sents_num = list()\n",
                "for key, value in item_to_sentids.items():\n",
                "    item_side_cdd_sents_num.append(len(value))"
            ],
            "outputs": [],
            "metadata": {}
        },
        {
            "cell_type": "code",
            "execution_count": 42,
            "source": [
                "print(\"Mean number of sentence per item: {}\".format(\n",
                "    np.mean(item_side_cdd_sents_num)\n",
                "))\n",
                "print(\"Min number of sentence per item: {}\".format(\n",
                "    np.min(item_side_cdd_sents_num)\n",
                "))\n",
                "print(\"Max number of sentence per item: {}\".format(\n",
                "    np.max(item_side_cdd_sents_num)\n",
                "))"
            ],
            "outputs": [
                {
                    "output_type": "stream",
                    "name": "stdout",
                    "text": [
                        "Mean number of sentence per item: 185.0462942354774\n",
                        "Min number of sentence per item: 20\n",
                        "Max number of sentence per item: 1943\n"
                    ]
                }
            ],
            "metadata": {}
        },
        {
            "cell_type": "code",
            "execution_count": 43,
            "source": [
                "print(\"Top-10 least numbber of sentence per item: {}\".format(\n",
                "    sorted(item_side_cdd_sents_num)[:10]\n",
                "))\n",
                "print(\"Top-10 most numbber of sentence per item: {}\".format(\n",
                "    sorted(item_side_cdd_sents_num)[-10:]\n",
                "))"
            ],
            "outputs": [
                {
                    "output_type": "stream",
                    "name": "stdout",
                    "text": [
                        "Top-10 least numbber of sentence per item: [20, 21, 22, 23, 24, 25, 25, 28, 28, 28]\n",
                        "Top-10 most numbber of sentence per item: [1288, 1294, 1312, 1377, 1469, 1506, 1594, 1883, 1907, 1943]\n"
                    ]
                }
            ],
            "metadata": {}
        },
        {
            "cell_type": "markdown",
            "source": [
                "# For Each Data Instance in TrainSet"
            ],
            "metadata": {}
        },
        {
            "cell_type": "code",
            "execution_count": 45,
            "source": [
                "import random\n",
                "sample_sent_num = 500\n",
                "user_item_candidate_sent_ids = dict()\n",
                "# Loop over all User\n",
                "user_cnt = 0\n",
                "review_cnt = 0\n",
                "review_with_no_selectd_label_sentence = 0\n",
                "review_cdd_sentences_down_sampled = 0\n",
                "review_with_duplicate_sentences = 0\n",
                "review_with_duplicate_sentences_list = list()\n",
                "useable_review_cnt = 0\n",
                "sentence_with_no_feature_cnt = 0\n",
                "sentence_not_tracked = set()\n",
                "empty_feature_review = list()\n",
                "for user_df_chunk in list(group_by_user):\n",
                "    user_id = int(user_df_chunk[0])\n",
                "    user_id_str = str(user_df_chunk[0])\n",
                "    user_df = user_df_chunk[1]\n",
                "    # get user sents\n",
                "    cur_user_sent_ids = user_to_sent[user_id_str]\n",
                "    # item-level dict\n",
                "    item_candidate_sent_ids = dict()\n",
                "    for idx, row in user_df.iterrows():\n",
                "        item_id = int(row['item'])\n",
                "        item_id_str = str(row['item'])\n",
                "        review_text = row['review']\n",
                "        review_cnt += 1\n",
                "        # get item sents\n",
                "        cur_item_sent_ids = item_to_sent[item_id_str]\n",
                "        # get review_text's sent ids\n",
                "        cur_review_sent_ids = set()\n",
                "        cur_review_sent_ids_list = list()\n",
                "        ## tokenize this review\n",
                "        review_sents = sent_tokenize(review_text)\n",
                "        ## check whether this sentence is in the sentence2id dictionary\n",
                "        review_has_duplicate_sentences = False\n",
                "        for sent in review_sents:\n",
                "            if sent in sent_to_id:\n",
                "                cur_sent_id = sent_to_id[sent]\n",
                "                assert isinstance(cur_sent_id, str)\n",
                "                # make sure that this sentence has feature\n",
                "                if cur_sent_id in sentence_to_feature:\n",
                "                    # add this sentence into the set of current review\n",
                "                    if cur_sent_id not in cur_review_sent_ids:\n",
                "                        cur_review_sent_ids.add(cur_sent_id)\n",
                "                        cur_review_sent_ids_list.append(cur_sent_id)\n",
                "                    else:\n",
                "                        review_has_duplicate_sentences = True\n",
                "                else:\n",
                "                    sentence_with_no_feature_cnt += 1\n",
                "            else:\n",
                "                # if this sentence is not being tracked by the sentence-id mapping\n",
                "                # we add it into this set to see how many sentences are being ignored\n",
                "                sentence_not_tracked.add(sent)\n",
                "        if review_has_duplicate_sentences:\n",
                "            review_with_duplicate_sentences += 1\n",
                "            review_with_duplicate_sentences_list.append(review_text)\n",
                "        try:\n",
                "            assert cur_review_sent_ids == set(cur_review_sent_ids_list)\n",
                "        except:\n",
                "            print(cur_review_sent_ids, cur_review_sent_ids_list)\n",
                "        ## check whether the true label of the sentence is an empty list of sent_ids\n",
                "        if len(cur_review_sent_ids) == 0:\n",
                "            review_with_no_selectd_label_sentence += 1\n",
                "            # print(\"user: {}\\titem: {}\\treview: {}\".format(\n",
                "            #     user_id, item_id, review_text\n",
                "            # ))\n",
                "            empty_feature_review.append([user_id, item_id, review_text])\n",
                "        else:\n",
                "            # construct the candidate set which is an union of user sentences and item sentences\n",
                "            cur_useritem_sent_ids = cur_user_sent_ids | cur_item_sent_ids\n",
                "            # sample some sentences\n",
                "            if len(cur_useritem_sent_ids) > sample_sent_num:\n",
                "                review_cdd_sentences_down_sampled += 1\n",
                "                sample_useritem_sent_ids = set(random.sample(cur_useritem_sent_ids, sample_sent_num))\n",
                "            else:\n",
                "                sample_useritem_sent_ids = cur_useritem_sent_ids\n",
                "            # union sampled sentences with true labeled sentences\n",
                "            final_useritem_sent_ids = sample_useritem_sent_ids | cur_review_sent_ids\n",
                "            # add this into the dict\n",
                "            item_candidate_sent_ids[item_id_str] = [list(final_useritem_sent_ids), cur_review_sent_ids_list]\n",
                "            # add useable review cnt\n",
                "            useable_review_cnt += 1\n",
                "    if len(item_candidate_sent_ids) == 0:\n",
                "        print(\"User: {} has no useful item, skip this user ...\".format(user_id_str))\n",
                "    else:\n",
                "        # add the item_candidate_sent_ids dict into the user-level dict\n",
                "        user_item_candidate_sent_ids[user_id_str] = item_candidate_sent_ids\n",
                "    user_cnt += 1\n",
                "    if user_cnt % 1000 == 0:\n",
                "        print(\"{} user processed\".format(user_cnt))\n",
                "\n",
                "print('Finish.')\n",
                "print('Totally {} users'.format(user_cnt))\n",
                "print('Totally {0} reviews. Among them {1} reviews has empty true label sentence'.format(\n",
                "    review_cnt, review_with_no_selectd_label_sentence))\n",
                "print(\"{} sentences have 0 feature\".format(sentence_with_no_feature_cnt))\n",
                "print(\"{} reviews have duplicate sentences\".format(review_with_duplicate_sentences))\n",
                "print(\"{} review's cdd sentences are being down-sampled\".format(review_cdd_sentences_down_sampled))\n",
                "print(\"{} sentences are not being tracked in the sent2id mapping\".format(len(sentence_not_tracked)))"
            ],
            "outputs": [
                {
                    "output_type": "stream",
                    "name": "stdout",
                    "text": [
                        "1000 user processed\n",
                        "2000 user processed\n",
                        "3000 user processed\n",
                        "4000 user processed\n",
                        "Finish.\n",
                        "Totally 4950 users\n",
                        "Totally 205595 reviews. Among them 63 reviews has empty true label sentence\n",
                        "0 sentences have 0 feature\n",
                        "99 reviews have duplicate sentences\n",
                        "106761 review's cdd sentences are being down-sampled\n",
                        "5710 sentences are not being tracked in the sent2id mapping\n"
                    ]
                }
            ],
            "metadata": {}
        },
        {
            "cell_type": "code",
            "execution_count": 47,
            "source": [
                "review_with_duplicate_sentences_list[1]"
            ],
            "outputs": [
                {
                    "output_type": "execute_result",
                    "data": {
                        "text/plain": [
                            "'great stay - wonderful staff - make it your choice - great value ! great stay - wonderful staff - make it your choice - great value ! great stay - wonderful staff - make it your choice - great value ! great stay - wonderful staff - make it your choice - great value ! great stay - wonderful staff - make it your choice - great value ! great stay - wonderful staff - make it your choice - great value !'"
                        ]
                    },
                    "metadata": {},
                    "execution_count": 47
                }
            ],
            "metadata": {}
        },
        {
            "cell_type": "code",
            "execution_count": 48,
            "source": [
                "len(user_item_candidate_sent_ids)"
            ],
            "outputs": [
                {
                    "output_type": "execute_result",
                    "data": {
                        "text/plain": [
                            "4950"
                        ]
                    },
                    "metadata": {},
                    "execution_count": 48
                }
            ],
            "metadata": {}
        },
        {
            "cell_type": "code",
            "execution_count": 49,
            "source": [
                "# let's check how many unique reviews are there\n",
                "\n",
                "cnt_unique_reviews = 0\n",
                "cnt_empty_true_sent = 0\n",
                "sentence_per_review = []\n",
                "candidate_sentence_num_cnt_per_review = []\n",
                "# [user-level] Loop for each user\n",
                "for user_chunk in list(user_item_candidate_sent_ids.items()):\n",
                "    user_id_str = str(user_chunk[0])\n",
                "    # assert isinstance(user_chunk[0], str)\n",
                "    # [item-level] Loop for each user-item pair\n",
                "    user_item_chunks = list(user_chunk[1].items())\n",
                "    for item_chunk in user_item_chunks:\n",
                "        item_id_str = str(item_chunk[0])\n",
                "        # assert isinstance(item_chunk[0], str)\n",
                "        candidate_sent_ids = item_chunk[1][0]\n",
                "        true_sent_ids = item_chunk[1][1]\n",
                "        if len(true_sent_ids) == 0:\n",
                "            cnt_empty_true_sent += 1\n",
                "        else:\n",
                "            assert isinstance(candidate_sent_ids[0], str)\n",
                "            assert isinstance(true_sent_ids[0], str)\n",
                "            # make sure that all true label sent_ids appears in the corresponding candidate set\n",
                "            for true_sent_id in true_sent_ids:\n",
                "                assert true_sent_id in candidate_sent_ids\n",
                "            sentence_per_review.append(len(true_sent_ids))\n",
                "            candidate_sentence_num_cnt_per_review.append(len(candidate_sent_ids))\n",
                "        cnt_unique_reviews += 1\n",
                "\n",
                "print(\"Total number of unique selected reviews: {}\".format(cnt_unique_reviews))\n",
                "print(\"Total number of review with empty true sentences: {}\".format(cnt_empty_true_sent))\n",
                "print(\"Total number of unique review with non-empty true sentences: {}\".format(\n",
                "    cnt_unique_reviews - cnt_empty_true_sent))"
            ],
            "outputs": [
                {
                    "output_type": "stream",
                    "name": "stdout",
                    "text": [
                        "Total number of unique selected reviews: 205532\n",
                        "Total number of review with empty true sentences: 0\n",
                        "Total number of unique review with non-empty true sentences: 205532\n"
                    ]
                }
            ],
            "metadata": {}
        },
        {
            "cell_type": "code",
            "execution_count": 50,
            "source": [
                "print(\"Totally {} user-item pairs in the trainset\".format(len(sentence_per_review)))\n",
                "print(\"max number of true sentence per review: {}\".format(np.max(sentence_per_review)))\n",
                "print(\"min number of true sentence per review: {}\".format(np.min(sentence_per_review)))\n",
                "print(\"mean number of true sentence per review: {}\".format(np.mean(sentence_per_review)))\n",
                "print(\"max number of candidate sentence per review: {}\".format(np.max(candidate_sentence_num_cnt_per_review)))\n",
                "print(\"min number of candidate sentence per review: {}\".format(np.min(candidate_sentence_num_cnt_per_review)))\n",
                "print(\"mean number of candidate sentence per review: {}\".format(np.mean(candidate_sentence_num_cnt_per_review)))"
            ],
            "outputs": [
                {
                    "output_type": "stream",
                    "name": "stdout",
                    "text": [
                        "Totally 205532 user-item pairs in the trainset\n",
                        "max number of true sentence per review: 62\n",
                        "min number of true sentence per review: 1\n",
                        "mean number of true sentence per review: 4.050074927505206\n",
                        "max number of candidate sentence per review: 545\n",
                        "min number of candidate sentence per review: 36\n",
                        "mean number of candidate sentence per review: 417.56846622423757\n"
                    ]
                }
            ],
            "metadata": {}
        },
        {
            "cell_type": "code",
            "execution_count": 51,
            "source": [
                "useritem2sentids_filepath = '../Dataset/{}/train/useritem2sentids.json'.format(dataset_name)\n",
                "with open(useritem2sentids_filepath, 'w') as f:\n",
                "    print(\"Write file: {}\".format(useritem2sentids_filepath))\n",
                "    json.dump(user_item_candidate_sent_ids, f)"
            ],
            "outputs": [
                {
                    "output_type": "stream",
                    "name": "stdout",
                    "text": [
                        "Write file: ../Dataset/tripadvisor/train/useritem2sentids.json\n"
                    ]
                }
            ],
            "metadata": {}
        },
        {
            "cell_type": "code",
            "execution_count": 52,
            "source": [
                "example_user_id = '1001'\n",
                "example_item_id = '1964'\n",
                "print(\"User: {0}\\tItem: {1}\".format(example_user_id, example_item_id))\n",
                "print(\n",
                "    \"Number of (sampled) cdd sents: \", \n",
                "    len(user_item_candidate_sent_ids[example_user_id][example_item_id][0]))\n",
                "print(\"Number of user side cdd sents:\", len(user_to_sent[example_user_id]))\n",
                "print(\"Number of item side cdd sents:\", len(item_to_sent[example_item_id]))\n",
                "print(\"Number of GT sentences: \", \n",
                "    len(user_item_candidate_sent_ids[example_user_id][example_item_id][1]))"
            ],
            "outputs": [
                {
                    "output_type": "stream",
                    "name": "stdout",
                    "text": [
                        "User: 1001\tItem: 1964\n",
                        "Number of (sampled) cdd sents:  252\n",
                        "Number of user side cdd sents: 148\n",
                        "Number of item side cdd sents: 106\n",
                        "Number of GT sentences:  2\n"
                    ]
                }
            ],
            "metadata": {}
        },
        {
            "cell_type": "code",
            "execution_count": 53,
            "source": [
                "for sent_id in user_item_candidate_sent_ids[example_user_id][example_item_id][1]:\n",
                "    assert sent_id in user_item_candidate_sent_ids[example_user_id][example_item_id][0]"
            ],
            "outputs": [],
            "metadata": {}
        },
        {
            "cell_type": "markdown",
            "source": [
                "## Write train useritem_cdd in a line-by-line format"
            ],
            "metadata": {}
        },
        {
            "cell_type": "code",
            "execution_count": 55,
            "source": [
                "# Write useritem2sentids into a line-by-line format\n",
                "train_useritem2sentid_multiline_file = '../Dataset/{}/train/useritem2sentids_multilines.json'.format(dataset_name)\n",
                "if os.path.exists(train_useritem2sentid_multiline_file):\n",
                "    print(\"File: {} exists, remove it.\".format(train_useritem2sentid_multiline_file))\n",
                "    os.remove(train_useritem2sentid_multiline_file)\n",
                "else:\n",
                "    print(\"File: {} doesn't exist, creat it.\".format(train_useritem2sentid_multiline_file))"
            ],
            "outputs": [
                {
                    "output_type": "stream",
                    "name": "stdout",
                    "text": [
                        "File: ../Dataset/tripadvisor/train/useritem2sentids_multilines.json doesn't exist, creat it.\n"
                    ]
                }
            ],
            "metadata": {}
        },
        {
            "cell_type": "code",
            "execution_count": 56,
            "source": [
                "with open(train_useritem2sentid_multiline_file, 'a') as f1:\n",
                "    print(\"Write file: {}\".format(train_useritem2sentid_multiline_file))\n",
                "    cnt_user = 0\n",
                "    cnt_review = 0\n",
                "    user_set = set()\n",
                "    item_set = set()\n",
                "    useritem_set = set()\n",
                "    for trainset_user_chunk in list(user_item_candidate_sent_ids.items()):\n",
                "        assert isinstance(trainset_user_chunk[0], str)\n",
                "        user_id_str = trainset_user_chunk[0]\n",
                "        user_id = int(trainset_user_chunk[0])\n",
                "        user_item_chunks = list(trainset_user_chunk[1].items())\n",
                "        for item_chunk in user_item_chunks:\n",
                "            assert isinstance(item_chunk[0], str)\n",
                "            item_id_str = item_chunk[0]\n",
                "            item_id = int(item_chunk[0])\n",
                "            candidate_sent_ids = item_chunk[1][0]\n",
                "            gold_revw_sent_ids = item_chunk[1][1]\n",
                "            assert isinstance(candidate_sent_ids, list)\n",
                "            assert isinstance(gold_revw_sent_ids, list)\n",
                "            assert isinstance(candidate_sent_ids[0], str)\n",
                "            assert isinstance(gold_revw_sent_ids[0], str)\n",
                "            for cur_id in gold_revw_sent_ids:\n",
                "                assert cur_id in candidate_sent_ids\n",
                "            cur_data_dict = {'user_id': user_id_str, 'item_id': item_id_str, 'candidate': candidate_sent_ids, \"review\": gold_revw_sent_ids}\n",
                "            # write this into the json file\n",
                "            json.dump(cur_data_dict, f1)\n",
                "            f1.write(\"\\n\")\n",
                "            cnt_review += 1\n",
                "            useritem_set.add((user_id_str, item_id_str))\n",
                "            item_set.add(item_id_str)\n",
                "            if cnt_review % 50000 == 0:\n",
                "                print(\"{} lines of train data written.\".format(cnt_review))\n",
                "        cnt_user += 1\n",
                "        user_set.add(user_id_str)\n",
                "\n",
                "assert cnt_user == len(user_set)\n",
                "assert cnt_review == len(useritem_set)\n",
                "print(\"Totally {} users\".format(cnt_user))\n",
                "print(\"Totally {} items\".format(len(item_set)))\n",
                "print(\"Totally {} reviews\".format(cnt_review))"
            ],
            "outputs": [
                {
                    "output_type": "stream",
                    "name": "stdout",
                    "text": [
                        "Write file: ../Dataset/tripadvisor/train/useritem2sentids_multilines.json\n",
                        "50000 lines of train data written.\n",
                        "100000 lines of train data written.\n",
                        "150000 lines of train data written.\n",
                        "200000 lines of train data written.\n",
                        "Totally 4950 users\n",
                        "Totally 4493 items\n",
                        "Totally 205532 reviews\n"
                    ]
                }
            ],
            "metadata": {}
        },
        {
            "cell_type": "code",
            "execution_count": 57,
            "source": [
                "!head -n 1 '../Dataset/yelp/train/useritem2sentids_multilines.json'"
            ],
            "outputs": [
                {
                    "output_type": "stream",
                    "name": "stdout",
                    "text": [
                        "{\"user_id\": \"1001\", \"item_id\": \"1071\", \"candidate\": [\"6144\", \"412871\", \"438927\", \"6155\", \"6127\", \"6137\", \"6133\", \"165483\", \"45990\", \"438928\", \"6163\", \"45989\", \"6166\", \"6187\", \"409044\", \"485587\", \"412869\", \"6097\", \"6217\", \"6227\", \"6200\", \"6115\", \"6119\", \"6153\", \"6230\", \"865\", \"6102\", \"453\", \"23482\", \"305680\", \"6210\", \"208077\", \"169420\", \"6168\", \"6195\", \"31\", \"880\", \"6122\", \"198007\", \"394026\", \"6223\", \"124875\", \"98241\", \"6152\", \"280101\", \"6199\", \"246\", \"454130\", \"198008\", \"107329\", \"231995\", \"438926\", \"6214\", \"6183\", \"169415\", \"124874\", \"6150\", \"263583\", \"45985\", \"45986\", \"6103\", \"305679\", \"6130\", \"6182\", \"30778\", \"6160\", \"6146\", \"231994\", \"443587\", \"57278\", \"84019\", \"454133\", \"6156\", \"6179\", \"107328\", \"6196\", \"6104\", \"169419\", \"280534\", \"23478\", \"231996\", \"68133\", \"6139\", \"57279\", \"6140\", \"6194\", \"6205\", \"98507\", \"6189\", \"6212\", \"6116\", \"6099\", \"6201\", \"336082\", \"6164\", \"45987\", \"6221\", \"169417\", \"6158\", \"6142\", \"6188\", \"6176\", \"6174\", \"98508\", \"280533\", \"84017\", \"23479\", \"347514\", \"6101\", \"21\", \"6226\", \"336083\", \"6185\", \"6224\", \"6098\", \"6177\", \"198004\", \"6125\", \"6151\", \"6117\", \"6165\", \"438930\", \"6149\", \"435658\", \"6180\", \"6114\", \"6216\", \"1777\", \"6128\", \"6106\", \"6134\", \"6206\", \"6173\", \"6169\", \"45988\", \"6113\", \"27348\", \"6178\", \"6198\", \"231993\", \"40\", \"6202\", \"6136\", \"6161\", \"6126\", \"6154\", \"6192\", \"6108\", \"6110\", \"72303\", \"454129\", \"6141\", \"165484\", \"454126\", \"4605\", \"438929\", \"6123\", \"347512\", \"454125\", \"208079\", \"454128\", \"347511\", \"90760\", \"6208\", \"6093\", \"68132\", \"198005\", \"6107\", \"6228\", \"23480\", \"198006\", \"30779\", \"305681\", \"789\", \"169418\", \"208078\", \"6105\", \"6109\", \"6162\", \"231992\", \"107327\", \"30780\", \"6170\", \"6138\", \"6222\", \"6215\", \"6100\", \"6197\", \"305678\", \"280532\", \"6175\", \"6094\", \"6095\", \"6204\", \"6213\", \"6193\", \"6220\", \"6124\", \"84020\", \"454132\", \"6148\", \"6181\", \"6129\", \"45984\", \"72302\", \"6143\", \"6135\", \"6112\", \"454127\", \"6207\", \"8615\", \"23481\", \"6225\", \"6132\", \"6131\", \"6159\", \"84018\", \"6209\", \"6191\", \"6157\", \"3770\", \"6184\", \"347513\", \"6186\", \"6147\", \"6172\", \"6118\", \"6218\", \"6111\", \"443588\", \"3889\", \"90761\", \"169416\", \"6219\", \"6120\", \"454124\", \"6229\", \"6121\", \"454131\", \"236936\", \"184\", \"8616\", \"485588\", \"6190\", \"6211\", \"7232\", \"412870\", \"6145\", \"68134\", \"6203\", \"23477\", \"6096\", \"443586\", \"6171\", \"6167\"], \"review\": [\"6093\", \"6095\", \"6094\"]}\n"
                    ]
                }
            ],
            "metadata": {}
        },
        {
            "cell_type": "markdown",
            "source": [
                "## Save User-Item Pairs (Train Set)"
            ],
            "metadata": {}
        },
        {
            "cell_type": "code",
            "execution_count": 58,
            "source": [
                "user_item_pairs = dict()\n",
                "cnt_user_item_pairs = 0\n",
                "for trainset_user_chunk in list(user_item_candidate_sent_ids.items()):\n",
                "    assert isinstance(trainset_user_chunk[0], str)\n",
                "    user_id_str = trainset_user_chunk[0]\n",
                "    user_item_chunks = list(trainset_user_chunk[1].items())\n",
                "    assert user_id_str not in user_item_pairs\n",
                "    user_item_pairs[user_id_str] = list()\n",
                "    for item_chunk in user_item_chunks:\n",
                "        assert isinstance(item_chunk[0], str)\n",
                "        item_id_str = item_chunk[0]\n",
                "        assert item_id_str not in user_item_pairs[user_id_str]\n",
                "        user_item_pairs[user_id_str].append(item_id_str)\n",
                "        cnt_user_item_pairs += 1\n",
                "print(\"Total number of user-item pair on trainset: {}\".format(cnt_user_item_pairs))"
            ],
            "outputs": [
                {
                    "output_type": "stream",
                    "name": "stdout",
                    "text": [
                        "Total number of user-item pair on trainset: 205532\n"
                    ]
                }
            ],
            "metadata": {}
        },
        {
            "cell_type": "code",
            "execution_count": 59,
            "source": [
                "train_useritempairs_file = '../Dataset/{}/train/useritem_pairs.json'.format(dataset_name)\n",
                "with open(train_useritempairs_file, 'w') as f:\n",
                "    print(\"write file: {}\".format(train_useritempairs_file))\n",
                "    json.dump(user_item_pairs, f)"
            ],
            "outputs": [
                {
                    "output_type": "stream",
                    "name": "stdout",
                    "text": [
                        "write file: ../Dataset/tripadvisor/train/useritem_pairs.json\n"
                    ]
                }
            ],
            "metadata": {}
        },
        {
            "cell_type": "code",
            "execution_count": null,
            "source": [],
            "outputs": [],
            "metadata": {}
        }
    ],
    "metadata": {
        "orig_nbformat": 4,
        "language_info": {
            "name": "python",
            "version": "3.7.3",
            "mimetype": "text/x-python",
            "codemirror_mode": {
                "name": "ipython",
                "version": 3
            },
            "pygments_lexer": "ipython3",
            "nbconvert_exporter": "python",
            "file_extension": ".py"
        },
        "kernelspec": {
            "name": "python3",
            "display_name": "Python 3.7.3 64-bit ('base': conda)"
        },
        "interpreter": {
            "hash": "73d0647c863cb9ce92fb50b3911519dc6558e38bcfd5798aa86981c2dac43fdf"
        }
    },
    "nbformat": 4,
    "nbformat_minor": 2
}