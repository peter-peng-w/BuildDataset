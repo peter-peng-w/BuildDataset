{
    "cells": [
        {
            "cell_type": "code",
            "execution_count": 1,
            "source": [
                "!which python"
            ],
            "outputs": [
                {
                    "output_type": "stream",
                    "name": "stdout",
                    "text": [
                        "/u/pw7nc/anaconda3/bin/python\n"
                    ]
                }
            ],
            "metadata": {}
        },
        {
            "cell_type": "code",
            "execution_count": 1,
            "source": [
                "import nltk\n",
                "import spacy\n",
                "import re\n",
                "import json\n",
                "import pandas as pd\n",
                "import os\n",
                "import numpy as np\n",
                "from googletrans import Translator\n",
                "from nltk.tokenize import sent_tokenize, word_tokenize, wordpunct_tokenize"
            ],
            "outputs": [],
            "metadata": {}
        },
        {
            "cell_type": "markdown",
            "source": [
                "# Read Data"
            ],
            "metadata": {}
        },
        {
            "cell_type": "code",
            "execution_count": 2,
            "source": [
                "# Load the whole filtered data\n",
                "dir_path = '../Dataset/wine/'\n",
                "# Load whole dataset (cleaned and filtered)\n",
                "whole_review = []\n",
                "cnt = 0\n",
                "file_path = os.path.join(dir_path, 'whole_filtered.json')\n",
                "with open(file_path) as f:\n",
                "    for line in f:\n",
                "        line_data = json.loads(line)\n",
                "        user_id = line_data['user']\n",
                "        item_id = line_data['item']\n",
                "        rating = line_data['rating']\n",
                "        review = line_data['review']\n",
                "        whole_review.append([item_id, user_id, rating, review])\n",
                "        cnt += 1\n",
                "        if cnt % 100000 == 0:\n",
                "            print(\"{} lines loaded.\".format(cnt))\n",
                "print(\"Finish loading whole cleaned filtered dataset, totally {} lines.\".format(cnt))"
            ],
            "outputs": [
                {
                    "output_type": "stream",
                    "name": "stdout",
                    "text": [
                        "100000 lines loaded.\n",
                        "200000 lines loaded.\n",
                        "300000 lines loaded.\n",
                        "Finish loading whole cleaned filtered dataset, totally 307746 lines.\n"
                    ]
                }
            ],
            "metadata": {}
        },
        {
            "cell_type": "code",
            "execution_count": 12,
            "source": [
                "# detector = Translator()\n",
                "# cnt_none_english = 0\n",
                "# none_english_idx = list()\n",
                "# none_english_lans = list()\n",
                "\n",
                "# for idx, rvw_data in enumerate(whole_review):\n",
                "#     rvw_text = rvw_data[-1]\n",
                "#     dec_lan = detector.detect(rvw_text)\n",
                "#     if dec_lan.lang == \"en\":\n",
                "#         pass\n",
                "#     else:\n",
                "#         cnt_none_english += 1\n",
                "#         none_english_idx.append(idx)\n",
                "#         none_english_lans.append(dec_lan.lang)\n",
                "#     if (idx+1) % 10000 == 0:\n",
                "#         print(\"{} lines\".format(idx+1))\n"
            ],
            "outputs": [
                {
                    "output_type": "error",
                    "ename": "AttributeError",
                    "evalue": "'Translator' object has no attribute 'raise_Exception'",
                    "traceback": [
                        "\u001b[0;31m---------------------------------------------------------------------------\u001b[0m",
                        "\u001b[0;31mAttributeError\u001b[0m                            Traceback (most recent call last)",
                        "\u001b[0;32m<ipython-input-12-b973c3036ef8>\u001b[0m in \u001b[0;36m<module>\u001b[0;34m\u001b[0m\n\u001b[1;32m      6\u001b[0m \u001b[0;32mfor\u001b[0m \u001b[0midx\u001b[0m\u001b[0;34m,\u001b[0m \u001b[0mrvw_data\u001b[0m \u001b[0;32min\u001b[0m \u001b[0menumerate\u001b[0m\u001b[0;34m(\u001b[0m\u001b[0mwhole_review\u001b[0m\u001b[0;34m)\u001b[0m\u001b[0;34m:\u001b[0m\u001b[0;34m\u001b[0m\u001b[0;34m\u001b[0m\u001b[0m\n\u001b[1;32m      7\u001b[0m     \u001b[0mrvw_text\u001b[0m \u001b[0;34m=\u001b[0m \u001b[0mrvw_data\u001b[0m\u001b[0;34m[\u001b[0m\u001b[0;34m-\u001b[0m\u001b[0;36m1\u001b[0m\u001b[0;34m]\u001b[0m\u001b[0;34m\u001b[0m\u001b[0;34m\u001b[0m\u001b[0m\n\u001b[0;32m----> 8\u001b[0;31m     \u001b[0mdec_lan\u001b[0m \u001b[0;34m=\u001b[0m \u001b[0mdetector\u001b[0m\u001b[0;34m.\u001b[0m\u001b[0mdetect\u001b[0m\u001b[0;34m(\u001b[0m\u001b[0mrvw_text\u001b[0m\u001b[0;34m)\u001b[0m\u001b[0;34m\u001b[0m\u001b[0;34m\u001b[0m\u001b[0m\n\u001b[0m\u001b[1;32m      9\u001b[0m     \u001b[0;32mif\u001b[0m \u001b[0mdec_lan\u001b[0m\u001b[0;34m.\u001b[0m\u001b[0mlang\u001b[0m \u001b[0;34m==\u001b[0m \u001b[0;34m\"en\"\u001b[0m\u001b[0;34m:\u001b[0m\u001b[0;34m\u001b[0m\u001b[0;34m\u001b[0m\u001b[0m\n\u001b[1;32m     10\u001b[0m         \u001b[0;32mpass\u001b[0m\u001b[0;34m\u001b[0m\u001b[0;34m\u001b[0m\u001b[0m\n",
                        "\u001b[0;32m~/anaconda3/lib/python3.7/site-packages/googletrans/client.py\u001b[0m in \u001b[0;36mdetect\u001b[0;34m(self, text)\u001b[0m\n\u001b[1;32m    367\u001b[0m \u001b[0;34m\u001b[0m\u001b[0m\n\u001b[1;32m    368\u001b[0m     \u001b[0;32mdef\u001b[0m \u001b[0mdetect\u001b[0m\u001b[0;34m(\u001b[0m\u001b[0mself\u001b[0m\u001b[0;34m,\u001b[0m \u001b[0mtext\u001b[0m\u001b[0;34m:\u001b[0m \u001b[0mstr\u001b[0m\u001b[0;34m)\u001b[0m\u001b[0;34m:\u001b[0m\u001b[0;34m\u001b[0m\u001b[0;34m\u001b[0m\u001b[0m\n\u001b[0;32m--> 369\u001b[0;31m         \u001b[0mtranslated\u001b[0m \u001b[0;34m=\u001b[0m \u001b[0mself\u001b[0m\u001b[0;34m.\u001b[0m\u001b[0mtranslate\u001b[0m\u001b[0;34m(\u001b[0m\u001b[0mtext\u001b[0m\u001b[0;34m,\u001b[0m \u001b[0msrc\u001b[0m\u001b[0;34m=\u001b[0m\u001b[0;34m'auto'\u001b[0m\u001b[0;34m,\u001b[0m \u001b[0mdest\u001b[0m\u001b[0;34m=\u001b[0m\u001b[0;34m'en'\u001b[0m\u001b[0;34m)\u001b[0m\u001b[0;34m\u001b[0m\u001b[0;34m\u001b[0m\u001b[0m\n\u001b[0m\u001b[1;32m    370\u001b[0m         \u001b[0mresult\u001b[0m \u001b[0;34m=\u001b[0m \u001b[0mDetected\u001b[0m\u001b[0;34m(\u001b[0m\u001b[0mlang\u001b[0m\u001b[0;34m=\u001b[0m\u001b[0mtranslated\u001b[0m\u001b[0;34m.\u001b[0m\u001b[0msrc\u001b[0m\u001b[0;34m,\u001b[0m \u001b[0mconfidence\u001b[0m\u001b[0;34m=\u001b[0m\u001b[0mtranslated\u001b[0m\u001b[0;34m.\u001b[0m\u001b[0mextra_data\u001b[0m\u001b[0;34m.\u001b[0m\u001b[0mget\u001b[0m\u001b[0;34m(\u001b[0m\u001b[0;34m'confidence'\u001b[0m\u001b[0;34m,\u001b[0m \u001b[0;32mNone\u001b[0m\u001b[0;34m)\u001b[0m\u001b[0;34m,\u001b[0m \u001b[0mresponse\u001b[0m\u001b[0;34m=\u001b[0m\u001b[0mtranslated\u001b[0m\u001b[0;34m.\u001b[0m\u001b[0m_response\u001b[0m\u001b[0;34m)\u001b[0m\u001b[0;34m\u001b[0m\u001b[0;34m\u001b[0m\u001b[0m\n\u001b[1;32m    371\u001b[0m         \u001b[0;32mreturn\u001b[0m \u001b[0mresult\u001b[0m\u001b[0;34m\u001b[0m\u001b[0;34m\u001b[0m\u001b[0m\n",
                        "\u001b[0;32m~/anaconda3/lib/python3.7/site-packages/googletrans/client.py\u001b[0m in \u001b[0;36mtranslate\u001b[0;34m(self, text, dest, src)\u001b[0m\n\u001b[1;32m    192\u001b[0m \u001b[0;34m\u001b[0m\u001b[0m\n\u001b[1;32m    193\u001b[0m         \u001b[0morigin\u001b[0m \u001b[0;34m=\u001b[0m \u001b[0mtext\u001b[0m\u001b[0;34m\u001b[0m\u001b[0;34m\u001b[0m\u001b[0m\n\u001b[0;32m--> 194\u001b[0;31m         \u001b[0mdata\u001b[0m\u001b[0;34m,\u001b[0m \u001b[0mresponse\u001b[0m \u001b[0;34m=\u001b[0m \u001b[0mself\u001b[0m\u001b[0;34m.\u001b[0m\u001b[0m_translate\u001b[0m\u001b[0;34m(\u001b[0m\u001b[0mtext\u001b[0m\u001b[0;34m,\u001b[0m \u001b[0mdest\u001b[0m\u001b[0;34m,\u001b[0m \u001b[0msrc\u001b[0m\u001b[0;34m)\u001b[0m\u001b[0;34m\u001b[0m\u001b[0;34m\u001b[0m\u001b[0m\n\u001b[0m\u001b[1;32m    195\u001b[0m \u001b[0;34m\u001b[0m\u001b[0m\n\u001b[1;32m    196\u001b[0m         \u001b[0mtoken_found\u001b[0m \u001b[0;34m=\u001b[0m \u001b[0;32mFalse\u001b[0m\u001b[0;34m\u001b[0m\u001b[0;34m\u001b[0m\u001b[0m\n",
                        "\u001b[0;32m~/anaconda3/lib/python3.7/site-packages/googletrans/client.py\u001b[0m in \u001b[0;36m_translate\u001b[0;34m(self, text, dest, src)\u001b[0m\n\u001b[1;32m    120\u001b[0m         \u001b[0mr\u001b[0m \u001b[0;34m=\u001b[0m \u001b[0mself\u001b[0m\u001b[0;34m.\u001b[0m\u001b[0mclient\u001b[0m\u001b[0;34m.\u001b[0m\u001b[0mpost\u001b[0m\u001b[0;34m(\u001b[0m\u001b[0murl\u001b[0m\u001b[0;34m,\u001b[0m \u001b[0mparams\u001b[0m\u001b[0;34m=\u001b[0m\u001b[0mparams\u001b[0m\u001b[0;34m,\u001b[0m \u001b[0mdata\u001b[0m\u001b[0;34m=\u001b[0m\u001b[0mdata\u001b[0m\u001b[0;34m)\u001b[0m\u001b[0;34m\u001b[0m\u001b[0;34m\u001b[0m\u001b[0m\n\u001b[1;32m    121\u001b[0m \u001b[0;34m\u001b[0m\u001b[0m\n\u001b[0;32m--> 122\u001b[0;31m         \u001b[0;32mif\u001b[0m \u001b[0mr\u001b[0m\u001b[0;34m.\u001b[0m\u001b[0mstatus_code\u001b[0m \u001b[0;34m!=\u001b[0m \u001b[0;36m200\u001b[0m \u001b[0;32mand\u001b[0m \u001b[0mself\u001b[0m\u001b[0;34m.\u001b[0m\u001b[0mraise_Exception\u001b[0m\u001b[0;34m:\u001b[0m\u001b[0;34m\u001b[0m\u001b[0;34m\u001b[0m\u001b[0m\n\u001b[0m\u001b[1;32m    123\u001b[0m             raise Exception('Unexpected status code \"{}\" from {}'.format(\n\u001b[1;32m    124\u001b[0m                 r.status_code, self.service_urls))\n",
                        "\u001b[0;31mAttributeError\u001b[0m: 'Translator' object has no attribute 'raise_Exception'"
                    ]
                }
            ],
            "metadata": {}
        },
        {
            "cell_type": "markdown",
            "source": [
                "# Split the Data into Train/Test"
            ],
            "metadata": {}
        },
        {
            "cell_type": "code",
            "execution_count": 3,
            "source": [
                "user_group = dict()\n",
                "for rvw_data in whole_review:\n",
                "    user_id = rvw_data[1]\n",
                "    if user_id not in user_group:\n",
                "        user_group[user_id] = list()\n",
                "    user_group[user_id].append(rvw_data)"
            ],
            "outputs": [],
            "metadata": {}
        },
        {
            "cell_type": "code",
            "execution_count": 4,
            "source": [
                "len(user_group)"
            ],
            "outputs": [
                {
                    "output_type": "execute_result",
                    "data": {
                        "text/plain": [
                            "6080"
                        ]
                    },
                    "metadata": {},
                    "execution_count": 4
                }
            ],
            "metadata": {}
        },
        {
            "cell_type": "code",
            "execution_count": 6,
            "source": [
                "user_group = {u: v for u, v in user_group.items()}"
            ],
            "outputs": [],
            "metadata": {}
        },
        {
            "cell_type": "code",
            "execution_count": 7,
            "source": [
                "TRAIN_FILE = os.path.join(dir_path, 'train_filtered.json')\n",
                "VALID_FILE = os.path.join(dir_path, 'valid_filtered.json')\n",
                "TEST_FILE = os.path.join(dir_path, 'test_filtered.json')"
            ],
            "outputs": [],
            "metadata": {}
        },
        {
            "cell_type": "code",
            "execution_count": 19,
            "source": [
                "import random\n",
                "import math\n",
                "from collections import Counter\n",
                "\n",
                "VALID_RATIO = 0.00\n",
                "TEST_RATIO = 0.20\n",
                "\n",
                "train_lines, valid_lines, test_lines = [], [], []\n",
                "\n",
                "train_item_counter = Counter()\n",
                "valid_item_counter = Counter()\n",
                "test_item_counter = Counter()\n",
                "\n",
                "cnt_user_num = 0\n",
                "\n",
                "for uid, lines in user_group.items():\n",
                "    random.shuffle(lines)\n",
                "\n",
                "    leng = len(lines)\n",
                "    valid_num = math.floor(leng * VALID_RATIO)\n",
                "    test_num = math.floor(leng * TEST_RATIO)\n",
                "\n",
                "    valid_lines += lines[:valid_num]\n",
                "    test_lines += lines[-test_num:]\n",
                "    train_lines += lines[valid_num:-test_num]\n",
                "\n",
                "    for rvw_data in lines[:valid_num]:\n",
                "        iid = rvw_data[0]\n",
                "        valid_item_counter.update([iid])\n",
                "    for rvw_data in lines[-test_num:]:\n",
                "        iid = rvw_data[0]\n",
                "        test_item_counter.update([iid])\n",
                "    for rvw_data in lines[valid_num:-test_num]:\n",
                "        iid = rvw_data[0]\n",
                "        train_item_counter.update([iid])\n",
                "\n",
                "    cnt_user_num += 1\n",
                "    if cnt_user_num % 1000 == 0:\n",
                "        print(\"{} users\".format(cnt_user_num))"
            ],
            "outputs": [
                {
                    "output_type": "stream",
                    "name": "stdout",
                    "text": [
                        "1000 users\n",
                        "2000 users\n",
                        "3000 users\n",
                        "4000 users\n",
                        "5000 users\n",
                        "6000 users\n"
                    ]
                }
            ],
            "metadata": {}
        },
        {
            "cell_type": "code",
            "execution_count": 20,
            "source": [
                "print(\"Number of review instance in train: {0}\\nNumber of review instance in valid: {1}\\nNumber of review instance in test: {2}\".format(len(train_lines), len(valid_lines), len(test_lines)))"
            ],
            "outputs": [
                {
                    "output_type": "stream",
                    "name": "stdout",
                    "text": [
                        "Number of review instance in train: 248452\n",
                        "Number of review instance in valid: 0\n",
                        "Number of review instance in test: 59294\n"
                    ]
                }
            ],
            "metadata": {}
        },
        {
            "cell_type": "code",
            "execution_count": 21,
            "source": [
                "train_item_set = set(train_item_counter.keys())\n",
                "valid_item_set = set(valid_item_counter.keys())\n",
                "test_item_set = set(test_item_counter.keys())"
            ],
            "outputs": [],
            "metadata": {}
        },
        {
            "cell_type": "code",
            "execution_count": 23,
            "source": [
                "for iid in test_item_set:\n",
                "    if iid not in train_item_set:\n",
                "        print(iid)\n",
                "    else:\n",
                "        if train_item_counter[iid] <= test_item_counter[iid]:\n",
                "            print(\"iid: {}\\tnum on train: {}\\tnum on test: {}\".format(\n",
                "                iid, train_item_counter[iid], test_item_counter[iid]\n",
                "            ))"
            ],
            "outputs": [
                {
                    "output_type": "stream",
                    "name": "stdout",
                    "text": [
                        "iid: 224285\tnum on train: 4\tnum on test: 6\n",
                        "iid: 230214\tnum on train: 5\tnum on test: 6\n",
                        "iid: 239273\tnum on train: 6\tnum on test: 6\n",
                        "iid: 939626\tnum on train: 5\tnum on test: 5\n",
                        "iid: 872107\tnum on train: 5\tnum on test: 6\n",
                        "iid: 114304\tnum on train: 4\tnum on test: 6\n",
                        "iid: 958566\tnum on train: 5\tnum on test: 5\n",
                        "iid: 40294\tnum on train: 5\tnum on test: 5\n",
                        "iid: 927388\tnum on train: 8\tnum on test: 8\n",
                        "iid: 21771\tnum on train: 7\tnum on test: 8\n",
                        "iid: 105531\tnum on train: 8\tnum on test: 8\n",
                        "iid: 93074\tnum on train: 5\tnum on test: 5\n",
                        "iid: 279789\tnum on train: 5\tnum on test: 5\n",
                        "iid: 695611\tnum on train: 5\tnum on test: 5\n",
                        "iid: 1145618\tnum on train: 7\tnum on test: 7\n",
                        "iid: 523499\tnum on train: 5\tnum on test: 5\n",
                        "iid: 774881\tnum on train: 6\tnum on test: 6\n",
                        "iid: 670612\tnum on train: 5\tnum on test: 5\n",
                        "iid: 12379\tnum on train: 6\tnum on test: 6\n",
                        "iid: 528484\tnum on train: 8\tnum on test: 9\n",
                        "iid: 462952\tnum on train: 5\tnum on test: 5\n",
                        "iid: 691653\tnum on train: 7\tnum on test: 7\n",
                        "iid: 403389\tnum on train: 4\tnum on test: 7\n",
                        "iid: 443792\tnum on train: 4\tnum on test: 8\n",
                        "iid: 33458\tnum on train: 5\tnum on test: 5\n",
                        "iid: 282068\tnum on train: 4\tnum on test: 6\n",
                        "iid: 16186\tnum on train: 6\tnum on test: 7\n",
                        "iid: 7912\tnum on train: 7\tnum on test: 7\n",
                        "iid: 136458\tnum on train: 7\tnum on test: 7\n",
                        "iid: 80469\tnum on train: 5\tnum on test: 5\n",
                        "iid: 86029\tnum on train: 5\tnum on test: 5\n",
                        "iid: 30769\tnum on train: 5\tnum on test: 6\n",
                        "iid: 5145\tnum on train: 5\tnum on test: 5\n",
                        "iid: 20659\tnum on train: 7\tnum on test: 8\n",
                        "iid: 594259\tnum on train: 5\tnum on test: 5\n",
                        "iid: 554665\tnum on train: 5\tnum on test: 5\n",
                        "iid: 141818\tnum on train: 5\tnum on test: 5\n",
                        "iid: 328955\tnum on train: 9\tnum on test: 9\n",
                        "iid: 7799\tnum on train: 7\tnum on test: 7\n",
                        "iid: 97069\tnum on train: 5\tnum on test: 5\n",
                        "iid: 403383\tnum on train: 5\tnum on test: 5\n",
                        "iid: 370032\tnum on train: 4\tnum on test: 6\n",
                        "iid: 465857\tnum on train: 5\tnum on test: 5\n",
                        "iid: 860470\tnum on train: 7\tnum on test: 7\n",
                        "iid: 740501\tnum on train: 4\tnum on test: 9\n",
                        "iid: 760203\tnum on train: 5\tnum on test: 5\n",
                        "iid: 541590\tnum on train: 5\tnum on test: 5\n",
                        "iid: 351024\tnum on train: 6\tnum on test: 6\n",
                        "iid: 15935\tnum on train: 6\tnum on test: 6\n",
                        "iid: 476472\tnum on train: 5\tnum on test: 5\n",
                        "iid: 422645\tnum on train: 5\tnum on test: 5\n",
                        "iid: 374015\tnum on train: 5\tnum on test: 5\n",
                        "iid: 170799\tnum on train: 4\tnum on test: 6\n",
                        "iid: 12987\tnum on train: 4\tnum on test: 6\n",
                        "iid: 27641\tnum on train: 6\tnum on test: 6\n",
                        "iid: 30177\tnum on train: 5\tnum on test: 5\n",
                        "iid: 566071\tnum on train: 5\tnum on test: 6\n",
                        "iid: 13327\tnum on train: 4\tnum on test: 6\n",
                        "iid: 383688\tnum on train: 9\tnum on test: 11\n",
                        "iid: 96764\tnum on train: 5\tnum on test: 5\n",
                        "iid: 20740\tnum on train: 6\tnum on test: 7\n",
                        "iid: 533056\tnum on train: 4\tnum on test: 6\n",
                        "iid: 402632\tnum on train: 5\tnum on test: 5\n",
                        "iid: 90843\tnum on train: 7\tnum on test: 8\n",
                        "iid: 17009\tnum on train: 7\tnum on test: 8\n",
                        "iid: 23954\tnum on train: 5\tnum on test: 5\n",
                        "iid: 173287\tnum on train: 5\tnum on test: 6\n",
                        "iid: 14643\tnum on train: 6\tnum on test: 7\n",
                        "iid: 1076995\tnum on train: 7\tnum on test: 7\n",
                        "iid: 484649\tnum on train: 6\tnum on test: 7\n",
                        "iid: 882386\tnum on train: 5\tnum on test: 6\n",
                        "iid: 66107\tnum on train: 7\tnum on test: 7\n",
                        "iid: 47370\tnum on train: 4\tnum on test: 6\n",
                        "iid: 683343\tnum on train: 5\tnum on test: 6\n",
                        "iid: 687677\tnum on train: 5\tnum on test: 5\n",
                        "iid: 7193\tnum on train: 5\tnum on test: 5\n",
                        "iid: 260677\tnum on train: 7\tnum on test: 8\n",
                        "iid: 427544\tnum on train: 4\tnum on test: 6\n",
                        "iid: 374044\tnum on train: 8\tnum on test: 8\n",
                        "iid: 7599\tnum on train: 5\tnum on test: 6\n",
                        "iid: 15555\tnum on train: 5\tnum on test: 5\n",
                        "iid: 14206\tnum on train: 5\tnum on test: 7\n",
                        "iid: 21881\tnum on train: 5\tnum on test: 5\n",
                        "iid: 65131\tnum on train: 5\tnum on test: 5\n",
                        "iid: 3481\tnum on train: 5\tnum on test: 5\n",
                        "iid: 714421\tnum on train: 4\tnum on test: 7\n",
                        "iid: 428612\tnum on train: 8\tnum on test: 8\n",
                        "iid: 519388\tnum on train: 5\tnum on test: 6\n",
                        "iid: 530360\tnum on train: 5\tnum on test: 6\n",
                        "iid: 746689\tnum on train: 5\tnum on test: 5\n",
                        "iid: 241761\tnum on train: 5\tnum on test: 5\n",
                        "iid: 757545\tnum on train: 8\tnum on test: 8\n",
                        "iid: 427643\tnum on train: 5\tnum on test: 5\n",
                        "iid: 699862\tnum on train: 5\tnum on test: 6\n",
                        "iid: 78280\tnum on train: 5\tnum on test: 5\n",
                        "iid: 408414\tnum on train: 5\tnum on test: 7\n",
                        "iid: 536745\tnum on train: 5\tnum on test: 5\n",
                        "iid: 503131\tnum on train: 4\tnum on test: 6\n",
                        "iid: 679520\tnum on train: 5\tnum on test: 6\n",
                        "iid: 10957\tnum on train: 5\tnum on test: 5\n",
                        "iid: 586717\tnum on train: 7\tnum on test: 7\n",
                        "iid: 23509\tnum on train: 5\tnum on test: 5\n",
                        "iid: 538903\tnum on train: 6\tnum on test: 6\n",
                        "iid: 389702\tnum on train: 6\tnum on test: 6\n",
                        "iid: 366224\tnum on train: 5\tnum on test: 7\n",
                        "iid: 389943\tnum on train: 5\tnum on test: 5\n",
                        "iid: 647551\tnum on train: 6\tnum on test: 6\n",
                        "iid: 53007\tnum on train: 5\tnum on test: 5\n",
                        "iid: 164394\tnum on train: 7\tnum on test: 7\n",
                        "iid: 139199\tnum on train: 5\tnum on test: 5\n",
                        "iid: 798925\tnum on train: 7\tnum on test: 9\n",
                        "iid: 171869\tnum on train: 4\tnum on test: 7\n",
                        "iid: 460691\tnum on train: 5\tnum on test: 5\n",
                        "iid: 161636\tnum on train: 5\tnum on test: 6\n",
                        "iid: 774938\tnum on train: 5\tnum on test: 5\n",
                        "iid: 316739\tnum on train: 5\tnum on test: 5\n",
                        "iid: 844885\tnum on train: 5\tnum on test: 5\n",
                        "iid: 62651\tnum on train: 4\tnum on test: 6\n",
                        "iid: 53521\tnum on train: 5\tnum on test: 5\n",
                        "iid: 1087692\tnum on train: 5\tnum on test: 5\n",
                        "iid: 189942\tnum on train: 5\tnum on test: 5\n",
                        "iid: 888052\tnum on train: 6\tnum on test: 8\n",
                        "iid: 367632\tnum on train: 7\tnum on test: 7\n",
                        "iid: 12239\tnum on train: 6\tnum on test: 8\n",
                        "iid: 636192\tnum on train: 5\tnum on test: 5\n",
                        "iid: 212671\tnum on train: 4\tnum on test: 6\n",
                        "iid: 735818\tnum on train: 6\tnum on test: 6\n",
                        "iid: 176504\tnum on train: 5\tnum on test: 5\n"
                    ]
                }
            ],
            "metadata": {}
        },
        {
            "cell_type": "code",
            "execution_count": null,
            "source": [
                "with open(TRAIN_FILE, 'w') as train_file, open(VALID_FILE, 'w') as valid_file, open(TEST_FILE, 'w') as test_file:\n",
                "    for rvw_data in train_lines:\n",
                "        row_iid = rvw_data[0]\n",
                "        row_uid = rvw_data[1]\n",
                "        row_rating = rvw_data[2]\n",
                "        row_review = rvw_data[3]\n",
                "        row_dict = {\n",
                "            'user': row_uid,\n",
                "            'item': row_iid,\n",
                "            'rating': row_rating,\n",
                "            'review': row_review\n",
                "        }\n",
                "        # dump this into file\n",
                "        json.dump(row_dict, train_file)\n",
                "        train_file.write(\"\\n\")\n",
                "    for rvw_data in test_lines:\n",
                "        row_iid = rvw_data[0]\n",
                "        row_uid = rvw_data[1]\n",
                "        row_rating = rvw_data[2]\n",
                "        row_review = rvw_data[3]\n",
                "        row_dict = {\n",
                "            'user': row_uid,\n",
                "            'item': row_iid,\n",
                "            'rating': row_rating,\n",
                "            'review': row_review\n",
                "        }\n",
                "        # dump this into file\n",
                "        json.dump(row_dict, test_file)\n",
                "        test_file.write(\"\\n\")"
            ],
            "outputs": [],
            "metadata": {}
        },
        {
            "cell_type": "code",
            "execution_count": 24,
            "source": [
                "train_lines[0]"
            ],
            "outputs": [
                {
                    "output_type": "execute_result",
                    "data": {
                        "text/plain": [
                            "['1015705',\n",
                            " '131074',\n",
                            " 93,\n",
                            " 'this wine is simply outstanding . the nose has concentrated , ripe black cherry , some dark fruits and beautiful french oak aromas of espresso and cocoa . some perfume and violets . a pleasing spice . already beginning to show a little integration and stewy complexity even at 3 years . the palate is perfectly balanced , with spice and a little jam ( not overdone ) on the backside . medium , velvety tannins , medium plus alcohol , good acidity . very balanced . long length . what an outstanding value . purchased for about $ 25 but this wine drinks like it is double that price . needless to say , outstanding qpr . its food pairing versatility alone makes it worth keeping a few bottles in the cellar . paired perfectly today with a simple mothers day barbecue , but you can match it with haute cuisine as well . outstanding .']"
                        ]
                    },
                    "metadata": {},
                    "execution_count": 24
                }
            ],
            "metadata": {}
        },
        {
            "cell_type": "code",
            "execution_count": null,
            "source": [],
            "outputs": [],
            "metadata": {}
        }
    ],
    "metadata": {
        "orig_nbformat": 4,
        "language_info": {
            "name": "python",
            "version": "3.7.3",
            "mimetype": "text/x-python",
            "codemirror_mode": {
                "name": "ipython",
                "version": 3
            },
            "pygments_lexer": "ipython3",
            "nbconvert_exporter": "python",
            "file_extension": ".py"
        },
        "kernelspec": {
            "name": "python3",
            "display_name": "Python 3.7.3 64-bit ('base': conda)"
        },
        "interpreter": {
            "hash": "73d0647c863cb9ce92fb50b3911519dc6558e38bcfd5798aa86981c2dac43fdf"
        }
    },
    "nbformat": 4,
    "nbformat_minor": 2
}