{
    "cells": [
        {
            "cell_type": "code",
            "execution_count": 1,
            "source": [
                "!which python"
            ],
            "outputs": [
                {
                    "output_type": "stream",
                    "name": "stdout",
                    "text": [
                        "/u/pw7nc/anaconda3/bin/python\n"
                    ]
                }
            ],
            "metadata": {}
        },
        {
            "cell_type": "code",
            "execution_count": 2,
            "source": [
                "import nltk\n",
                "import re\n",
                "import json\n",
                "import pandas as pd\n",
                "import os\n",
                "import numpy as np\n",
                "from nltk.tokenize import sent_tokenize"
            ],
            "outputs": [],
            "metadata": {}
        },
        {
            "cell_type": "markdown",
            "source": [
                "# Load Data"
            ],
            "metadata": {}
        },
        {
            "cell_type": "code",
            "execution_count": 55,
            "source": [
                "# Load Data from the original dataset\n",
                "dir_path = '../Dataset/tripadvisor/ta_output/split/'\n",
                "output_dir_path = '../Dataset/tripadvisor/'\n",
                "# Load train dataset\n",
                "train_review = []\n",
                "cnt = 0\n",
                "file_path = os.path.join(dir_path, 'train.txt')\n",
                "output_file_path = os.path.join(output_dir_path, 'train.json')\n",
                "with open(file_path) as f:\n",
                "    with open(output_file_path, 'w') as f_out:\n",
                "        print(\"Load file: {}\".format(file_path))\n",
                "        for line in f:\n",
                "            line_data = json.loads(line)\n",
                "            item_id = str(line_data[0])\n",
                "            user_id = str(line_data[1])\n",
                "            try:\n",
                "                rating = line_data[2]['overall']\n",
                "            except KeyError:\n",
                "                print(\"No overall score at: \", line_data)\n",
                "            review_feat_sent = line_data[3]\n",
                "            review_text_list = list()\n",
                "            for feat_sent in review_feat_sent:\n",
                "                review_text_list.append(feat_sent[1])\n",
                "            review_text = \" \".join(review_text_list)\n",
                "            combined_line_data = {\n",
                "                'user': user_id,\n",
                "                'item': item_id,\n",
                "                'rating': rating,\n",
                "                'review': review_text\n",
                "            }\n",
                "            train_review.append([item_id, user_id, rating, review_text])\n",
                "            json.dump(combined_line_data, f_out)\n",
                "            f_out.write('\\n')\n",
                "            cnt += 1\n",
                "            if cnt % 100000 == 0:\n",
                "                print('{} lines loaded.'.format(cnt))\n",
                "print('Finish loading train dataset, totally {} lines.'.format(len(train_review)))\n"
            ],
            "outputs": [
                {
                    "output_type": "stream",
                    "name": "stdout",
                    "text": [
                        "Load file: ../Dataset/tripadvisor/ta_output/split/train.txt\n",
                        "100000 lines loaded.\n",
                        "200000 lines loaded.\n",
                        "Finish loading train dataset, totally 261214 lines.\n"
                    ]
                }
            ],
            "metadata": {}
        },
        {
            "cell_type": "code",
            "execution_count": 56,
            "source": [
                "# Load test dataset\n",
                "test_review = []\n",
                "cnt = 0\n",
                "file_path = os.path.join(dir_path, 'test.txt')\n",
                "output_file_path = os.path.join(output_dir_path, 'test.json')\n",
                "with open(file_path) as f:\n",
                "    with open(output_file_path, 'w') as f_out:\n",
                "        print(\"Load file: {}\".format(file_path))\n",
                "        for line in f:\n",
                "            line_data = json.loads(line)\n",
                "            item_id = str(line_data[0])\n",
                "            user_id = str(line_data[1])\n",
                "            try:\n",
                "                rating = line_data[2]['overall']\n",
                "            except KeyError:\n",
                "                print(\"No overall score at: \", line_data)\n",
                "            review_feat_sent = line_data[3]\n",
                "            review_text_list = list()\n",
                "            for feat_sent in review_feat_sent:\n",
                "                review_text_list.append(feat_sent[1])\n",
                "            review_text = \" \".join(review_text_list)\n",
                "            combined_line_data = {\n",
                "                'user': user_id,\n",
                "                'item': item_id,\n",
                "                'rating': rating,\n",
                "                'review': review_text\n",
                "            }\n",
                "            test_review.append([item_id, user_id, rating, review_text])\n",
                "            json.dump(combined_line_data, f_out)\n",
                "            f_out.write('\\n')\n",
                "            cnt += 1\n",
                "            if cnt % 10000 == 0:\n",
                "                print('{} lines loaded.'.format(cnt))\n",
                "print('Finish loading test dataset, totally {} lines.'.format(len(test_review)))"
            ],
            "outputs": [
                {
                    "output_type": "stream",
                    "name": "stdout",
                    "text": [
                        "Load file: ../Dataset/tripadvisor/ta_output/split/test.txt\n",
                        "10000 lines loaded.\n",
                        "20000 lines loaded.\n",
                        "Finish loading test dataset, totally 26665 lines.\n"
                    ]
                }
            ],
            "metadata": {}
        },
        {
            "cell_type": "markdown",
            "source": [
                "# Check Review with 0 sentences"
            ],
            "metadata": {}
        },
        {
            "cell_type": "code",
            "execution_count": 57,
            "source": [
                "cnt = 0\n",
                "for train_data_instance in train_review:\n",
                "    review_text = train_data_instance[-1]\n",
                "    review_sents = sent_tokenize(review_text)\n",
                "    if len(review_sents) == 0:\n",
                "        assert review_text == ''\n",
                "        cnt += 1\n",
                "print(\"Number of reviews on train with 0 sentences: {}\".format(cnt))\n",
                "\n",
                "cnt = 0\n",
                "for test_data_instance in test_review:\n",
                "    review_text = test_data_instance[-1]\n",
                "    review_sents = sent_tokenize(review_text)\n",
                "    if len(review_sents) == 0:\n",
                "        assert review_text == ''\n",
                "        cnt += 1\n",
                "print(\"Number of reviews on test with 0 sentences: {}\".format(cnt))"
            ],
            "outputs": [
                {
                    "output_type": "stream",
                    "name": "stdout",
                    "text": [
                        "Number of reviews on train with 0 sentences: 0\n",
                        "Number of reviews on test with 0 sentences: 0\n"
                    ]
                }
            ],
            "metadata": {}
        },
        {
            "cell_type": "markdown",
            "source": [
                "# Check Duplicate Reviews"
            ],
            "metadata": {}
        },
        {
            "cell_type": "code",
            "execution_count": 58,
            "source": [
                "# in train set\n",
                "trainset_user_item_set = set()\n",
                "cnt_duplicate_review = 0\n",
                "\n",
                "for train_data_chunk in train_review:\n",
                "    item_id = str(train_data_chunk[0])\n",
                "    user_id = str(train_data_chunk[1])\n",
                "    if (user_id, item_id) in trainset_user_item_set:\n",
                "        cnt_duplicate_review += 1\n",
                "    else:\n",
                "        trainset_user_item_set.add((user_id, item_id))\n",
                "\n",
                "print(\"[Train] Number of duplicate reviews: {}\".format(cnt_duplicate_review))\n",
                "print(\"[Train] Number of unique reviews: {}\".format(len(trainset_user_item_set)))"
            ],
            "outputs": [
                {
                    "output_type": "stream",
                    "name": "stdout",
                    "text": [
                        "[Train] Number of duplicate reviews: 55619\n",
                        "[Train] Number of unique reviews: 205595\n"
                    ]
                }
            ],
            "metadata": {}
        },
        {
            "cell_type": "code",
            "execution_count": 59,
            "source": [
                "# in test set\n",
                "testset_user_item_set = set()\n",
                "cnt_duplicate_review = 0\n",
                "\n",
                "for test_data_chunk in test_review:\n",
                "    item_id = str(test_data_chunk[0])\n",
                "    user_id = str(test_data_chunk[1])\n",
                "    if (user_id, item_id) in testset_user_item_set:\n",
                "        cnt_duplicate_review += 1\n",
                "    else:\n",
                "        testset_user_item_set.add((user_id, item_id))\n",
                "\n",
                "print(\"[Test] Number of duplicate reviews: {}\".format(cnt_duplicate_review))\n",
                "print(\"[Test] Number of unique reviews: {}\".format(len(testset_user_item_set)))"
            ],
            "outputs": [
                {
                    "output_type": "stream",
                    "name": "stdout",
                    "text": [
                        "[Test] Number of duplicate reviews: 3963\n",
                        "[Test] Number of unique reviews: 22702\n"
                    ]
                }
            ],
            "metadata": {}
        },
        {
            "cell_type": "code",
            "execution_count": 60,
            "source": [
                "df_train_data = pd.DataFrame(train_review, columns=['item', 'user', 'rating', 'review'])\n",
                "df_test_data = pd.DataFrame(test_review, columns=['item', 'user', 'rating', 'review'])"
            ],
            "outputs": [],
            "metadata": {}
        },
        {
            "cell_type": "code",
            "execution_count": 61,
            "source": [
                "df_test_data"
            ],
            "outputs": [
                {
                    "output_type": "execute_result",
                    "data": {
                        "text/plain": [
                            "       item  user  rating                                             review\n",
                            "0        52   997       3  the price ( with the fees ) is still okay , bu...\n",
                            "1       636   997       5  they have the food bars organized so you can e...\n",
                            "2      1379   997       1  i fell from the shower onto the floor as there...\n",
                            "3       645   997       3  talked to sara at main desk twice about this s...\n",
                            "4      1606   997       5  the hotel was very clean and nice and the staf...\n",
                            "...     ...   ...     ...                                                ...\n",
                            "26660  1409  4612       4  very very nice hotel - need a free continental...\n",
                            "26661  1111  4880       5  no complaints food was good cocktails were goo...\n",
                            "26662  1134  3907       4  i nice hotel that would have gotten 5 stars if...\n",
                            "26663   504  3907       5  an excellent hotel , rooms are very nice . we ...\n",
                            "26664   493  3918       5  beautiful hotel , excellent service , clean , ...\n",
                            "\n",
                            "[26665 rows x 4 columns]"
                        ],
                        "text/html": [
                            "<div>\n",
                            "<style scoped>\n",
                            "    .dataframe tbody tr th:only-of-type {\n",
                            "        vertical-align: middle;\n",
                            "    }\n",
                            "\n",
                            "    .dataframe tbody tr th {\n",
                            "        vertical-align: top;\n",
                            "    }\n",
                            "\n",
                            "    .dataframe thead th {\n",
                            "        text-align: right;\n",
                            "    }\n",
                            "</style>\n",
                            "<table border=\"1\" class=\"dataframe\">\n",
                            "  <thead>\n",
                            "    <tr style=\"text-align: right;\">\n",
                            "      <th></th>\n",
                            "      <th>item</th>\n",
                            "      <th>user</th>\n",
                            "      <th>rating</th>\n",
                            "      <th>review</th>\n",
                            "    </tr>\n",
                            "  </thead>\n",
                            "  <tbody>\n",
                            "    <tr>\n",
                            "      <th>0</th>\n",
                            "      <td>52</td>\n",
                            "      <td>997</td>\n",
                            "      <td>3</td>\n",
                            "      <td>the price ( with the fees ) is still okay , bu...</td>\n",
                            "    </tr>\n",
                            "    <tr>\n",
                            "      <th>1</th>\n",
                            "      <td>636</td>\n",
                            "      <td>997</td>\n",
                            "      <td>5</td>\n",
                            "      <td>they have the food bars organized so you can e...</td>\n",
                            "    </tr>\n",
                            "    <tr>\n",
                            "      <th>2</th>\n",
                            "      <td>1379</td>\n",
                            "      <td>997</td>\n",
                            "      <td>1</td>\n",
                            "      <td>i fell from the shower onto the floor as there...</td>\n",
                            "    </tr>\n",
                            "    <tr>\n",
                            "      <th>3</th>\n",
                            "      <td>645</td>\n",
                            "      <td>997</td>\n",
                            "      <td>3</td>\n",
                            "      <td>talked to sara at main desk twice about this s...</td>\n",
                            "    </tr>\n",
                            "    <tr>\n",
                            "      <th>4</th>\n",
                            "      <td>1606</td>\n",
                            "      <td>997</td>\n",
                            "      <td>5</td>\n",
                            "      <td>the hotel was very clean and nice and the staf...</td>\n",
                            "    </tr>\n",
                            "    <tr>\n",
                            "      <th>...</th>\n",
                            "      <td>...</td>\n",
                            "      <td>...</td>\n",
                            "      <td>...</td>\n",
                            "      <td>...</td>\n",
                            "    </tr>\n",
                            "    <tr>\n",
                            "      <th>26660</th>\n",
                            "      <td>1409</td>\n",
                            "      <td>4612</td>\n",
                            "      <td>4</td>\n",
                            "      <td>very very nice hotel - need a free continental...</td>\n",
                            "    </tr>\n",
                            "    <tr>\n",
                            "      <th>26661</th>\n",
                            "      <td>1111</td>\n",
                            "      <td>4880</td>\n",
                            "      <td>5</td>\n",
                            "      <td>no complaints food was good cocktails were goo...</td>\n",
                            "    </tr>\n",
                            "    <tr>\n",
                            "      <th>26662</th>\n",
                            "      <td>1134</td>\n",
                            "      <td>3907</td>\n",
                            "      <td>4</td>\n",
                            "      <td>i nice hotel that would have gotten 5 stars if...</td>\n",
                            "    </tr>\n",
                            "    <tr>\n",
                            "      <th>26663</th>\n",
                            "      <td>504</td>\n",
                            "      <td>3907</td>\n",
                            "      <td>5</td>\n",
                            "      <td>an excellent hotel , rooms are very nice . we ...</td>\n",
                            "    </tr>\n",
                            "    <tr>\n",
                            "      <th>26664</th>\n",
                            "      <td>493</td>\n",
                            "      <td>3918</td>\n",
                            "      <td>5</td>\n",
                            "      <td>beautiful hotel , excellent service , clean , ...</td>\n",
                            "    </tr>\n",
                            "  </tbody>\n",
                            "</table>\n",
                            "<p>26665 rows × 4 columns</p>\n",
                            "</div>"
                        ]
                    },
                    "metadata": {},
                    "execution_count": 61
                }
            ],
            "metadata": {}
        },
        {
            "cell_type": "code",
            "execution_count": 62,
            "source": [
                "# make sure that duplicate reviews has the same rating and review text\n",
                "# goupby multiple columns (user and item)\n",
                "groupby_user_item = df_train_data.groupby(['user', 'item'])\n",
                "cnt_duplicate_review = 0\n",
                "cnt_user_item_pair = 0\n",
                "filterd_user_item_pair = []\n",
                "differ_user_item_pair = []\n",
                "for key, item in groupby_user_item:\n",
                "    cur_df_user_item = groupby_user_item.get_group(key)\n",
                "    cnt_user_item_pair += 1\n",
                "    if len(cur_df_user_item) > 1:\n",
                "        sampled_cur_df_user_item = cur_df_user_item.sample(n=1)\n",
                "        filterd_user_item_pair.append(sampled_cur_df_user_item)\n",
                "        rating_list = list(cur_df_user_item['rating'])\n",
                "        review_text_list = list(cur_df_user_item['review'])\n",
                "        cnt_duplicate_review += len(cur_df_user_item) - 1\n",
                "        differ_data_flag = False\n",
                "        for i in range(len(cur_df_user_item)):\n",
                "            if rating_list[i] != rating_list[0]:\n",
                "                differ_data_flag = True\n",
                "                break\n",
                "            if review_text_list[i] != review_text_list[0]:\n",
                "                differ_data_flag = True\n",
                "                break\n",
                "        if differ_data_flag:\n",
                "            differ_user_item_pair.append(cur_df_user_item)\n",
                "    else:\n",
                "        filterd_user_item_pair.append(cur_df_user_item)\n",
                "print(\"Total unique user-item pair: {}\".format(cnt_user_item_pair))\n",
                "print(\"Total duplicate reviews: {}\".format(cnt_duplicate_review))\n",
                "print(\"Total duplicate user-item pair with different reviews: {}\".format(\n",
                "    len(differ_user_item_pair))\n",
                ")\n",
                "print(\"Total saved unique user-item reviews: {}\".format(\n",
                "    len(filterd_user_item_pair))\n",
                ")"
            ],
            "outputs": [
                {
                    "output_type": "stream",
                    "name": "stdout",
                    "text": [
                        "Total unique user-item pair: 205595\n",
                        "Total duplicate reviews: 55619\n",
                        "Total duplicate user-item pair with different reviews: 9332\n",
                        "Total saved unique user-item reviews: 205595\n"
                    ]
                }
            ],
            "metadata": {}
        },
        {
            "cell_type": "code",
            "execution_count": 89,
            "source": [
                "differ_user_item_pair[10]"
            ],
            "outputs": [
                {
                    "output_type": "execute_result",
                    "data": {
                        "text/plain": [
                            "       item user  rating                                             review\n",
                            "7179   1006    0       2  it is more like a skilled nursing facility tha...\n",
                            "9931   1006    0       4  we got a steal of a deal using priceline for t...\n",
                            "11212  1006    0       3  the downtown is basically a ghost town at nigh...\n",
                            "21547  1006    0       1  on the second day housekeeping wanted to clean...\n",
                            "25278  1006    0       2  valet parking is your only option , ( there is...\n",
                            "31215  1006    0       2  we arrived early and were told rooms would not...\n",
                            "31955  1006    0       4  the rooms were beautiful . the decor , as soon...\n",
                            "34555  1006    0       1  it seems to be becoming clear that this is a f...\n",
                            "35066  1006    0       5  i had to cut my trip short and cancel my room ...\n",
                            "42688  1006    0       5  we pulled up and the valet was quick to help u..."
                        ],
                        "text/html": [
                            "<div>\n",
                            "<style scoped>\n",
                            "    .dataframe tbody tr th:only-of-type {\n",
                            "        vertical-align: middle;\n",
                            "    }\n",
                            "\n",
                            "    .dataframe tbody tr th {\n",
                            "        vertical-align: top;\n",
                            "    }\n",
                            "\n",
                            "    .dataframe thead th {\n",
                            "        text-align: right;\n",
                            "    }\n",
                            "</style>\n",
                            "<table border=\"1\" class=\"dataframe\">\n",
                            "  <thead>\n",
                            "    <tr style=\"text-align: right;\">\n",
                            "      <th></th>\n",
                            "      <th>item</th>\n",
                            "      <th>user</th>\n",
                            "      <th>rating</th>\n",
                            "      <th>review</th>\n",
                            "    </tr>\n",
                            "  </thead>\n",
                            "  <tbody>\n",
                            "    <tr>\n",
                            "      <th>7179</th>\n",
                            "      <td>1006</td>\n",
                            "      <td>0</td>\n",
                            "      <td>2</td>\n",
                            "      <td>it is more like a skilled nursing facility tha...</td>\n",
                            "    </tr>\n",
                            "    <tr>\n",
                            "      <th>9931</th>\n",
                            "      <td>1006</td>\n",
                            "      <td>0</td>\n",
                            "      <td>4</td>\n",
                            "      <td>we got a steal of a deal using priceline for t...</td>\n",
                            "    </tr>\n",
                            "    <tr>\n",
                            "      <th>11212</th>\n",
                            "      <td>1006</td>\n",
                            "      <td>0</td>\n",
                            "      <td>3</td>\n",
                            "      <td>the downtown is basically a ghost town at nigh...</td>\n",
                            "    </tr>\n",
                            "    <tr>\n",
                            "      <th>21547</th>\n",
                            "      <td>1006</td>\n",
                            "      <td>0</td>\n",
                            "      <td>1</td>\n",
                            "      <td>on the second day housekeeping wanted to clean...</td>\n",
                            "    </tr>\n",
                            "    <tr>\n",
                            "      <th>25278</th>\n",
                            "      <td>1006</td>\n",
                            "      <td>0</td>\n",
                            "      <td>2</td>\n",
                            "      <td>valet parking is your only option , ( there is...</td>\n",
                            "    </tr>\n",
                            "    <tr>\n",
                            "      <th>31215</th>\n",
                            "      <td>1006</td>\n",
                            "      <td>0</td>\n",
                            "      <td>2</td>\n",
                            "      <td>we arrived early and were told rooms would not...</td>\n",
                            "    </tr>\n",
                            "    <tr>\n",
                            "      <th>31955</th>\n",
                            "      <td>1006</td>\n",
                            "      <td>0</td>\n",
                            "      <td>4</td>\n",
                            "      <td>the rooms were beautiful . the decor , as soon...</td>\n",
                            "    </tr>\n",
                            "    <tr>\n",
                            "      <th>34555</th>\n",
                            "      <td>1006</td>\n",
                            "      <td>0</td>\n",
                            "      <td>1</td>\n",
                            "      <td>it seems to be becoming clear that this is a f...</td>\n",
                            "    </tr>\n",
                            "    <tr>\n",
                            "      <th>35066</th>\n",
                            "      <td>1006</td>\n",
                            "      <td>0</td>\n",
                            "      <td>5</td>\n",
                            "      <td>i had to cut my trip short and cancel my room ...</td>\n",
                            "    </tr>\n",
                            "    <tr>\n",
                            "      <th>42688</th>\n",
                            "      <td>1006</td>\n",
                            "      <td>0</td>\n",
                            "      <td>5</td>\n",
                            "      <td>we pulled up and the valet was quick to help u...</td>\n",
                            "    </tr>\n",
                            "  </tbody>\n",
                            "</table>\n",
                            "</div>"
                        ]
                    },
                    "metadata": {},
                    "execution_count": 89
                }
            ],
            "metadata": {}
        },
        {
            "cell_type": "code",
            "execution_count": 63,
            "source": [
                "filterd_user_item_pair[0]"
            ],
            "outputs": [
                {
                    "output_type": "execute_result",
                    "data": {
                        "text/plain": [
                            "      item user  rating                                             review\n",
                            "11284    0    0       5  having done some research , i requested a room..."
                        ],
                        "text/html": [
                            "<div>\n",
                            "<style scoped>\n",
                            "    .dataframe tbody tr th:only-of-type {\n",
                            "        vertical-align: middle;\n",
                            "    }\n",
                            "\n",
                            "    .dataframe tbody tr th {\n",
                            "        vertical-align: top;\n",
                            "    }\n",
                            "\n",
                            "    .dataframe thead th {\n",
                            "        text-align: right;\n",
                            "    }\n",
                            "</style>\n",
                            "<table border=\"1\" class=\"dataframe\">\n",
                            "  <thead>\n",
                            "    <tr style=\"text-align: right;\">\n",
                            "      <th></th>\n",
                            "      <th>item</th>\n",
                            "      <th>user</th>\n",
                            "      <th>rating</th>\n",
                            "      <th>review</th>\n",
                            "    </tr>\n",
                            "  </thead>\n",
                            "  <tbody>\n",
                            "    <tr>\n",
                            "      <th>11284</th>\n",
                            "      <td>0</td>\n",
                            "      <td>0</td>\n",
                            "      <td>5</td>\n",
                            "      <td>having done some research , i requested a room...</td>\n",
                            "    </tr>\n",
                            "  </tbody>\n",
                            "</table>\n",
                            "</div>"
                        ]
                    },
                    "metadata": {},
                    "execution_count": 63
                }
            ],
            "metadata": {}
        },
        {
            "cell_type": "code",
            "execution_count": 64,
            "source": [
                "combined_filterd_user_item_pair = pd.concat(filterd_user_item_pair).reset_index(drop=True)"
            ],
            "outputs": [],
            "metadata": {}
        },
        {
            "cell_type": "code",
            "execution_count": 65,
            "source": [
                "combined_filterd_user_item_pair"
            ],
            "outputs": [
                {
                    "output_type": "execute_result",
                    "data": {
                        "text/plain": [
                            "        item user  rating                                             review\n",
                            "0          0    0       5  having done some research , i requested a room...\n",
                            "1          1    0       1                         will not stay here again .\n",
                            "2         10    0       2  the hotel reception was very willing to try an...\n",
                            "3        100    0       3  this was older but clean . the breakfast was t...\n",
                            "4       1000    0       5  the food was exceptional - we really enjoyed t...\n",
                            "...      ...  ...     ...                                                ...\n",
                            "205590   752  999       5  the rooms are spacious , quiet , and clean . m...\n",
                            "205591   819  999       5  room was very nice . bed was comfortable , had...\n",
                            "205592   827  999       3  not really the best stay i ever had . room was...\n",
                            "205593   852  999       3  our room was not as nice as i had hoped . the ...\n",
                            "205594   898  999       5  villas are very confortable , spacy and clean ...\n",
                            "\n",
                            "[205595 rows x 4 columns]"
                        ],
                        "text/html": [
                            "<div>\n",
                            "<style scoped>\n",
                            "    .dataframe tbody tr th:only-of-type {\n",
                            "        vertical-align: middle;\n",
                            "    }\n",
                            "\n",
                            "    .dataframe tbody tr th {\n",
                            "        vertical-align: top;\n",
                            "    }\n",
                            "\n",
                            "    .dataframe thead th {\n",
                            "        text-align: right;\n",
                            "    }\n",
                            "</style>\n",
                            "<table border=\"1\" class=\"dataframe\">\n",
                            "  <thead>\n",
                            "    <tr style=\"text-align: right;\">\n",
                            "      <th></th>\n",
                            "      <th>item</th>\n",
                            "      <th>user</th>\n",
                            "      <th>rating</th>\n",
                            "      <th>review</th>\n",
                            "    </tr>\n",
                            "  </thead>\n",
                            "  <tbody>\n",
                            "    <tr>\n",
                            "      <th>0</th>\n",
                            "      <td>0</td>\n",
                            "      <td>0</td>\n",
                            "      <td>5</td>\n",
                            "      <td>having done some research , i requested a room...</td>\n",
                            "    </tr>\n",
                            "    <tr>\n",
                            "      <th>1</th>\n",
                            "      <td>1</td>\n",
                            "      <td>0</td>\n",
                            "      <td>1</td>\n",
                            "      <td>will not stay here again .</td>\n",
                            "    </tr>\n",
                            "    <tr>\n",
                            "      <th>2</th>\n",
                            "      <td>10</td>\n",
                            "      <td>0</td>\n",
                            "      <td>2</td>\n",
                            "      <td>the hotel reception was very willing to try an...</td>\n",
                            "    </tr>\n",
                            "    <tr>\n",
                            "      <th>3</th>\n",
                            "      <td>100</td>\n",
                            "      <td>0</td>\n",
                            "      <td>3</td>\n",
                            "      <td>this was older but clean . the breakfast was t...</td>\n",
                            "    </tr>\n",
                            "    <tr>\n",
                            "      <th>4</th>\n",
                            "      <td>1000</td>\n",
                            "      <td>0</td>\n",
                            "      <td>5</td>\n",
                            "      <td>the food was exceptional - we really enjoyed t...</td>\n",
                            "    </tr>\n",
                            "    <tr>\n",
                            "      <th>...</th>\n",
                            "      <td>...</td>\n",
                            "      <td>...</td>\n",
                            "      <td>...</td>\n",
                            "      <td>...</td>\n",
                            "    </tr>\n",
                            "    <tr>\n",
                            "      <th>205590</th>\n",
                            "      <td>752</td>\n",
                            "      <td>999</td>\n",
                            "      <td>5</td>\n",
                            "      <td>the rooms are spacious , quiet , and clean . m...</td>\n",
                            "    </tr>\n",
                            "    <tr>\n",
                            "      <th>205591</th>\n",
                            "      <td>819</td>\n",
                            "      <td>999</td>\n",
                            "      <td>5</td>\n",
                            "      <td>room was very nice . bed was comfortable , had...</td>\n",
                            "    </tr>\n",
                            "    <tr>\n",
                            "      <th>205592</th>\n",
                            "      <td>827</td>\n",
                            "      <td>999</td>\n",
                            "      <td>3</td>\n",
                            "      <td>not really the best stay i ever had . room was...</td>\n",
                            "    </tr>\n",
                            "    <tr>\n",
                            "      <th>205593</th>\n",
                            "      <td>852</td>\n",
                            "      <td>999</td>\n",
                            "      <td>3</td>\n",
                            "      <td>our room was not as nice as i had hoped . the ...</td>\n",
                            "    </tr>\n",
                            "    <tr>\n",
                            "      <th>205594</th>\n",
                            "      <td>898</td>\n",
                            "      <td>999</td>\n",
                            "      <td>5</td>\n",
                            "      <td>villas are very confortable , spacy and clean ...</td>\n",
                            "    </tr>\n",
                            "  </tbody>\n",
                            "</table>\n",
                            "<p>205595 rows × 4 columns</p>\n",
                            "</div>"
                        ]
                    },
                    "metadata": {},
                    "execution_count": 65
                }
            ],
            "metadata": {}
        },
        {
            "cell_type": "code",
            "execution_count": 66,
            "source": [
                "# Write the filtered result into json\n",
                "output_file_path = os.path.join(output_dir_path, 'train_review_filtered.json')\n",
                "with open(output_file_path, 'w') as f_out:\n",
                "    for row in combined_filterd_user_item_pair.iterrows():\n",
                "        row[1].to_json(f_out)\n",
                "        f_out.write('\\n')"
            ],
            "outputs": [],
            "metadata": {}
        },
        {
            "cell_type": "code",
            "execution_count": 67,
            "source": [
                "# make sure that duplicate reviews has the same rating and review text\n",
                "# goupby multiple columns (user and item)\n",
                "groupby_user_item = df_test_data.groupby(['user', 'item'])\n",
                "cnt_duplicate_review_test = 0\n",
                "cnt_user_item_pair_test = 0\n",
                "filterd_user_item_pair_test = []\n",
                "differ_user_item_pair_test = []\n",
                "for key, item in groupby_user_item:\n",
                "    cur_df_user_item = groupby_user_item.get_group(key)\n",
                "    cnt_user_item_pair_test += 1\n",
                "    if len(cur_df_user_item) > 1:\n",
                "        sampled_cur_df_user_item = cur_df_user_item.sample(n=1)\n",
                "        filterd_user_item_pair_test.append(sampled_cur_df_user_item)\n",
                "        rating_list = list(cur_df_user_item['rating'])\n",
                "        review_text_list = list(cur_df_user_item['review'])\n",
                "        cnt_duplicate_review_test += len(cur_df_user_item) - 1\n",
                "        differ_data_flag = False\n",
                "        for i in range(len(cur_df_user_item)):\n",
                "            if rating_list[i] != rating_list[0]:\n",
                "                differ_data_flag = True\n",
                "                break\n",
                "            if review_text_list[i] != review_text_list[0]:\n",
                "                differ_data_flag = True\n",
                "                break\n",
                "        if differ_data_flag:\n",
                "            differ_user_item_pair_test.append(cur_df_user_item)\n",
                "    else:\n",
                "        filterd_user_item_pair_test.append(cur_df_user_item)\n",
                "print(\"Total unique user-item pair: {}\".format(cnt_user_item_pair_test))\n",
                "print(\"Total duplicate reviews: {}\".format(cnt_duplicate_review_test))\n",
                "print(\"Total duplicate user-item pair with different reviews: {}\".format(\n",
                "    len(differ_user_item_pair_test))\n",
                ")\n",
                "print(\"Total saved unique user-item reviews: {}\".format(\n",
                "    len(filterd_user_item_pair_test))\n",
                ")"
            ],
            "outputs": [
                {
                    "output_type": "stream",
                    "name": "stdout",
                    "text": [
                        "Total unique user-item pair: 22702\n",
                        "Total duplicate reviews: 3963\n",
                        "Total duplicate user-item pair with different reviews: 1090\n",
                        "Total saved unique user-item reviews: 22702\n"
                    ]
                }
            ],
            "metadata": {}
        },
        {
            "cell_type": "code",
            "execution_count": 68,
            "source": [
                "combined_filterd_user_item_pair_test = pd.concat(\n",
                "    filterd_user_item_pair_test).reset_index(drop=True)"
            ],
            "outputs": [],
            "metadata": {}
        },
        {
            "cell_type": "code",
            "execution_count": 69,
            "source": [
                "combined_filterd_user_item_pair_test"
            ],
            "outputs": [
                {
                    "output_type": "execute_result",
                    "data": {
                        "text/plain": [
                            "       item user  rating                                             review\n",
                            "0         0    0       5  our family had adjoining rooms at the howard j...\n",
                            "1       100    0       3  rooms were of average content , but convenient...\n",
                            "2      1002    0       4  the room itself was exteremely neat and clean ...\n",
                            "3      1006    0       2  i only wanted to find a hotel close to the por...\n",
                            "4      1007    0       5  it would be my first choice anytime i 'm in au...\n",
                            "...     ...  ...     ...                                                ...\n",
                            "22697     0  999       5  this was a pleasant place , and with our annua...\n",
                            "22698   128  999       5  we enjoyed our stay at the hilton very much ! ...\n",
                            "22699   429  999       5  from the moment we arrived at the front desk u...\n",
                            "22700   816  999       4  wifi gratuit , nous n avons pas essayé le brea...\n",
                            "22701   916  999       4  hot - tub was perfect for relaxing after a lon...\n",
                            "\n",
                            "[22702 rows x 4 columns]"
                        ],
                        "text/html": [
                            "<div>\n",
                            "<style scoped>\n",
                            "    .dataframe tbody tr th:only-of-type {\n",
                            "        vertical-align: middle;\n",
                            "    }\n",
                            "\n",
                            "    .dataframe tbody tr th {\n",
                            "        vertical-align: top;\n",
                            "    }\n",
                            "\n",
                            "    .dataframe thead th {\n",
                            "        text-align: right;\n",
                            "    }\n",
                            "</style>\n",
                            "<table border=\"1\" class=\"dataframe\">\n",
                            "  <thead>\n",
                            "    <tr style=\"text-align: right;\">\n",
                            "      <th></th>\n",
                            "      <th>item</th>\n",
                            "      <th>user</th>\n",
                            "      <th>rating</th>\n",
                            "      <th>review</th>\n",
                            "    </tr>\n",
                            "  </thead>\n",
                            "  <tbody>\n",
                            "    <tr>\n",
                            "      <th>0</th>\n",
                            "      <td>0</td>\n",
                            "      <td>0</td>\n",
                            "      <td>5</td>\n",
                            "      <td>our family had adjoining rooms at the howard j...</td>\n",
                            "    </tr>\n",
                            "    <tr>\n",
                            "      <th>1</th>\n",
                            "      <td>100</td>\n",
                            "      <td>0</td>\n",
                            "      <td>3</td>\n",
                            "      <td>rooms were of average content , but convenient...</td>\n",
                            "    </tr>\n",
                            "    <tr>\n",
                            "      <th>2</th>\n",
                            "      <td>1002</td>\n",
                            "      <td>0</td>\n",
                            "      <td>4</td>\n",
                            "      <td>the room itself was exteremely neat and clean ...</td>\n",
                            "    </tr>\n",
                            "    <tr>\n",
                            "      <th>3</th>\n",
                            "      <td>1006</td>\n",
                            "      <td>0</td>\n",
                            "      <td>2</td>\n",
                            "      <td>i only wanted to find a hotel close to the por...</td>\n",
                            "    </tr>\n",
                            "    <tr>\n",
                            "      <th>4</th>\n",
                            "      <td>1007</td>\n",
                            "      <td>0</td>\n",
                            "      <td>5</td>\n",
                            "      <td>it would be my first choice anytime i 'm in au...</td>\n",
                            "    </tr>\n",
                            "    <tr>\n",
                            "      <th>...</th>\n",
                            "      <td>...</td>\n",
                            "      <td>...</td>\n",
                            "      <td>...</td>\n",
                            "      <td>...</td>\n",
                            "    </tr>\n",
                            "    <tr>\n",
                            "      <th>22697</th>\n",
                            "      <td>0</td>\n",
                            "      <td>999</td>\n",
                            "      <td>5</td>\n",
                            "      <td>this was a pleasant place , and with our annua...</td>\n",
                            "    </tr>\n",
                            "    <tr>\n",
                            "      <th>22698</th>\n",
                            "      <td>128</td>\n",
                            "      <td>999</td>\n",
                            "      <td>5</td>\n",
                            "      <td>we enjoyed our stay at the hilton very much ! ...</td>\n",
                            "    </tr>\n",
                            "    <tr>\n",
                            "      <th>22699</th>\n",
                            "      <td>429</td>\n",
                            "      <td>999</td>\n",
                            "      <td>5</td>\n",
                            "      <td>from the moment we arrived at the front desk u...</td>\n",
                            "    </tr>\n",
                            "    <tr>\n",
                            "      <th>22700</th>\n",
                            "      <td>816</td>\n",
                            "      <td>999</td>\n",
                            "      <td>4</td>\n",
                            "      <td>wifi gratuit , nous n avons pas essayé le brea...</td>\n",
                            "    </tr>\n",
                            "    <tr>\n",
                            "      <th>22701</th>\n",
                            "      <td>916</td>\n",
                            "      <td>999</td>\n",
                            "      <td>4</td>\n",
                            "      <td>hot - tub was perfect for relaxing after a lon...</td>\n",
                            "    </tr>\n",
                            "  </tbody>\n",
                            "</table>\n",
                            "<p>22702 rows × 4 columns</p>\n",
                            "</div>"
                        ]
                    },
                    "metadata": {},
                    "execution_count": 69
                }
            ],
            "metadata": {}
        },
        {
            "cell_type": "code",
            "execution_count": 70,
            "source": [
                "# Write the filtered result into json\n",
                "output_file_path = os.path.join(output_dir_path, 'test_review_filtered.json')\n",
                "with open(output_file_path, 'w') as f_out:\n",
                "    for row in combined_filterd_user_item_pair_test.iterrows():\n",
                "        row[1].to_json(f_out)\n",
                "        f_out.write('\\n')"
            ],
            "outputs": [],
            "metadata": {}
        },
        {
            "cell_type": "code",
            "execution_count": 71,
            "source": [
                "# for test-set, remove the user-item pair that appears in train-set\n",
                "# Write the filtered result into json\n",
                "output_file_path = os.path.join(output_dir_path, 'test_review_filtered_clean.json')\n",
                "cnt_test_useritem_appears_in_train = 0\n",
                "cnt_test_unique_useritem = 0\n",
                "with open(output_file_path, 'w') as f_out:\n",
                "    for row in combined_filterd_user_item_pair_test.iterrows():\n",
                "        item_id = row[1]['item']\n",
                "        user_id = row[1]['user']\n",
                "        current_user_item_id = (str(user_id), str(item_id))\n",
                "        if current_user_item_id in trainset_user_item_set:\n",
                "            cnt_test_useritem_appears_in_train += 1\n",
                "        else:\n",
                "            cnt_test_unique_useritem += 1\n",
                "            row[1].to_json(f_out)\n",
                "            f_out.write('\\n')\n",
                "print(\"Number of user-item pairs appear on test and train: {}\".format(\n",
                "    cnt_test_useritem_appears_in_train))\n",
                "print(\"Number of user-item pairs only appear on test: {}\".format(cnt_test_unique_useritem))"
            ],
            "outputs": [
                {
                    "output_type": "stream",
                    "name": "stdout",
                    "text": [
                        "Number of user-item pairs appear on test and train: 3243\n",
                        "Number of user-item pairs only appear on test: 19459\n"
                    ]
                }
            ],
            "metadata": {}
        },
        {
            "cell_type": "markdown",
            "source": [
                "# Load Clean Train/Test Data"
            ],
            "metadata": {}
        },
        {
            "cell_type": "code",
            "execution_count": 72,
            "source": [
                "# Load cleaned train\n",
                "train_clean_file = os.path.join(output_dir_path, 'train_review_filtered.json')\n",
                "train_clean_review = []\n",
                "with open(train_clean_file, 'r') as f:\n",
                "    for line in f:\n",
                "        line_data = json.loads(line)\n",
                "        item_id = line_data['item']\n",
                "        user_id = line_data['user']\n",
                "        rating = line_data['rating']\n",
                "        review = line_data['review']\n",
                "        train_clean_review.append([item_id, user_id, rating, review])\n",
                "print(\"Number of reviews on trainset: {}\".format(len(train_clean_review)))"
            ],
            "outputs": [
                {
                    "output_type": "stream",
                    "name": "stdout",
                    "text": [
                        "Number of reviews on trainset: 205595\n"
                    ]
                }
            ],
            "metadata": {}
        },
        {
            "cell_type": "code",
            "execution_count": 73,
            "source": [
                "df_train_clean_data = pd.DataFrame(train_clean_review, columns=['item', 'user', 'rating', 'review'])"
            ],
            "outputs": [],
            "metadata": {}
        },
        {
            "cell_type": "code",
            "execution_count": 74,
            "source": [
                "df_train_clean_data"
            ],
            "outputs": [
                {
                    "output_type": "execute_result",
                    "data": {
                        "text/plain": [
                            "        item user  rating                                             review\n",
                            "0          0    0       5  having done some research , i requested a room...\n",
                            "1          1    0       1                         will not stay here again .\n",
                            "2         10    0       2  the hotel reception was very willing to try an...\n",
                            "3        100    0       3  this was older but clean . the breakfast was t...\n",
                            "4       1000    0       5  the food was exceptional - we really enjoyed t...\n",
                            "...      ...  ...     ...                                                ...\n",
                            "205590   752  999       5  the rooms are spacious , quiet , and clean . m...\n",
                            "205591   819  999       5  room was very nice . bed was comfortable , had...\n",
                            "205592   827  999       3  not really the best stay i ever had . room was...\n",
                            "205593   852  999       3  our room was not as nice as i had hoped . the ...\n",
                            "205594   898  999       5  villas are very confortable , spacy and clean ...\n",
                            "\n",
                            "[205595 rows x 4 columns]"
                        ],
                        "text/html": [
                            "<div>\n",
                            "<style scoped>\n",
                            "    .dataframe tbody tr th:only-of-type {\n",
                            "        vertical-align: middle;\n",
                            "    }\n",
                            "\n",
                            "    .dataframe tbody tr th {\n",
                            "        vertical-align: top;\n",
                            "    }\n",
                            "\n",
                            "    .dataframe thead th {\n",
                            "        text-align: right;\n",
                            "    }\n",
                            "</style>\n",
                            "<table border=\"1\" class=\"dataframe\">\n",
                            "  <thead>\n",
                            "    <tr style=\"text-align: right;\">\n",
                            "      <th></th>\n",
                            "      <th>item</th>\n",
                            "      <th>user</th>\n",
                            "      <th>rating</th>\n",
                            "      <th>review</th>\n",
                            "    </tr>\n",
                            "  </thead>\n",
                            "  <tbody>\n",
                            "    <tr>\n",
                            "      <th>0</th>\n",
                            "      <td>0</td>\n",
                            "      <td>0</td>\n",
                            "      <td>5</td>\n",
                            "      <td>having done some research , i requested a room...</td>\n",
                            "    </tr>\n",
                            "    <tr>\n",
                            "      <th>1</th>\n",
                            "      <td>1</td>\n",
                            "      <td>0</td>\n",
                            "      <td>1</td>\n",
                            "      <td>will not stay here again .</td>\n",
                            "    </tr>\n",
                            "    <tr>\n",
                            "      <th>2</th>\n",
                            "      <td>10</td>\n",
                            "      <td>0</td>\n",
                            "      <td>2</td>\n",
                            "      <td>the hotel reception was very willing to try an...</td>\n",
                            "    </tr>\n",
                            "    <tr>\n",
                            "      <th>3</th>\n",
                            "      <td>100</td>\n",
                            "      <td>0</td>\n",
                            "      <td>3</td>\n",
                            "      <td>this was older but clean . the breakfast was t...</td>\n",
                            "    </tr>\n",
                            "    <tr>\n",
                            "      <th>4</th>\n",
                            "      <td>1000</td>\n",
                            "      <td>0</td>\n",
                            "      <td>5</td>\n",
                            "      <td>the food was exceptional - we really enjoyed t...</td>\n",
                            "    </tr>\n",
                            "    <tr>\n",
                            "      <th>...</th>\n",
                            "      <td>...</td>\n",
                            "      <td>...</td>\n",
                            "      <td>...</td>\n",
                            "      <td>...</td>\n",
                            "    </tr>\n",
                            "    <tr>\n",
                            "      <th>205590</th>\n",
                            "      <td>752</td>\n",
                            "      <td>999</td>\n",
                            "      <td>5</td>\n",
                            "      <td>the rooms are spacious , quiet , and clean . m...</td>\n",
                            "    </tr>\n",
                            "    <tr>\n",
                            "      <th>205591</th>\n",
                            "      <td>819</td>\n",
                            "      <td>999</td>\n",
                            "      <td>5</td>\n",
                            "      <td>room was very nice . bed was comfortable , had...</td>\n",
                            "    </tr>\n",
                            "    <tr>\n",
                            "      <th>205592</th>\n",
                            "      <td>827</td>\n",
                            "      <td>999</td>\n",
                            "      <td>3</td>\n",
                            "      <td>not really the best stay i ever had . room was...</td>\n",
                            "    </tr>\n",
                            "    <tr>\n",
                            "      <th>205593</th>\n",
                            "      <td>852</td>\n",
                            "      <td>999</td>\n",
                            "      <td>3</td>\n",
                            "      <td>our room was not as nice as i had hoped . the ...</td>\n",
                            "    </tr>\n",
                            "    <tr>\n",
                            "      <th>205594</th>\n",
                            "      <td>898</td>\n",
                            "      <td>999</td>\n",
                            "      <td>5</td>\n",
                            "      <td>villas are very confortable , spacy and clean ...</td>\n",
                            "    </tr>\n",
                            "  </tbody>\n",
                            "</table>\n",
                            "<p>205595 rows × 4 columns</p>\n",
                            "</div>"
                        ]
                    },
                    "metadata": {},
                    "execution_count": 74
                }
            ],
            "metadata": {}
        },
        {
            "cell_type": "code",
            "execution_count": 75,
            "source": [
                "# Load cleaned test\n",
                "test_clean_file = os.path.join(output_dir_path, 'test_review_filtered_clean.json')\n",
                "test_clean_review = []\n",
                "with open(test_clean_file, 'r') as f:\n",
                "    for line in f:\n",
                "        line_data = json.loads(line)\n",
                "        item_id = line_data['item']\n",
                "        user_id = line_data['user']\n",
                "        rating = line_data['rating']\n",
                "        review = line_data['review']\n",
                "        test_clean_review.append([item_id, user_id, rating, review])\n",
                "print(\"Number of reviews on testset: {}\".format(len(test_clean_review)))"
            ],
            "outputs": [
                {
                    "output_type": "stream",
                    "name": "stdout",
                    "text": [
                        "Number of reviews on testset: 19459\n"
                    ]
                }
            ],
            "metadata": {}
        },
        {
            "cell_type": "code",
            "execution_count": 76,
            "source": [
                "df_test_clean_data = pd.DataFrame(test_clean_review, columns=['item', 'user', 'rating', 'review'])"
            ],
            "outputs": [],
            "metadata": {}
        },
        {
            "cell_type": "code",
            "execution_count": 77,
            "source": [
                "df_test_clean_data"
            ],
            "outputs": [
                {
                    "output_type": "execute_result",
                    "data": {
                        "text/plain": [
                            "       item user  rating                                             review\n",
                            "0      1111    0       2  when i mentioned this to the front desk they d...\n",
                            "1      1379    0       2  i guess for a highway stop this motel is fine ...\n",
                            "2      1391    0       5  we stayed at the signature for four days to ce...\n",
                            "3      1579    0       4  the lake buena vista is a perfect place to sta...\n",
                            "4      1689    0       5  summer ( at the front desk ) was perfect ! she...\n",
                            "...     ...  ...     ...                                                ...\n",
                            "19454     0  999       5  this was a pleasant place , and with our annua...\n",
                            "19455   128  999       5  we enjoyed our stay at the hilton very much ! ...\n",
                            "19456   429  999       5  from the moment we arrived at the front desk u...\n",
                            "19457   816  999       4  wifi gratuit , nous n avons pas essayé le brea...\n",
                            "19458   916  999       4  hot - tub was perfect for relaxing after a lon...\n",
                            "\n",
                            "[19459 rows x 4 columns]"
                        ],
                        "text/html": [
                            "<div>\n",
                            "<style scoped>\n",
                            "    .dataframe tbody tr th:only-of-type {\n",
                            "        vertical-align: middle;\n",
                            "    }\n",
                            "\n",
                            "    .dataframe tbody tr th {\n",
                            "        vertical-align: top;\n",
                            "    }\n",
                            "\n",
                            "    .dataframe thead th {\n",
                            "        text-align: right;\n",
                            "    }\n",
                            "</style>\n",
                            "<table border=\"1\" class=\"dataframe\">\n",
                            "  <thead>\n",
                            "    <tr style=\"text-align: right;\">\n",
                            "      <th></th>\n",
                            "      <th>item</th>\n",
                            "      <th>user</th>\n",
                            "      <th>rating</th>\n",
                            "      <th>review</th>\n",
                            "    </tr>\n",
                            "  </thead>\n",
                            "  <tbody>\n",
                            "    <tr>\n",
                            "      <th>0</th>\n",
                            "      <td>1111</td>\n",
                            "      <td>0</td>\n",
                            "      <td>2</td>\n",
                            "      <td>when i mentioned this to the front desk they d...</td>\n",
                            "    </tr>\n",
                            "    <tr>\n",
                            "      <th>1</th>\n",
                            "      <td>1379</td>\n",
                            "      <td>0</td>\n",
                            "      <td>2</td>\n",
                            "      <td>i guess for a highway stop this motel is fine ...</td>\n",
                            "    </tr>\n",
                            "    <tr>\n",
                            "      <th>2</th>\n",
                            "      <td>1391</td>\n",
                            "      <td>0</td>\n",
                            "      <td>5</td>\n",
                            "      <td>we stayed at the signature for four days to ce...</td>\n",
                            "    </tr>\n",
                            "    <tr>\n",
                            "      <th>3</th>\n",
                            "      <td>1579</td>\n",
                            "      <td>0</td>\n",
                            "      <td>4</td>\n",
                            "      <td>the lake buena vista is a perfect place to sta...</td>\n",
                            "    </tr>\n",
                            "    <tr>\n",
                            "      <th>4</th>\n",
                            "      <td>1689</td>\n",
                            "      <td>0</td>\n",
                            "      <td>5</td>\n",
                            "      <td>summer ( at the front desk ) was perfect ! she...</td>\n",
                            "    </tr>\n",
                            "    <tr>\n",
                            "      <th>...</th>\n",
                            "      <td>...</td>\n",
                            "      <td>...</td>\n",
                            "      <td>...</td>\n",
                            "      <td>...</td>\n",
                            "    </tr>\n",
                            "    <tr>\n",
                            "      <th>19454</th>\n",
                            "      <td>0</td>\n",
                            "      <td>999</td>\n",
                            "      <td>5</td>\n",
                            "      <td>this was a pleasant place , and with our annua...</td>\n",
                            "    </tr>\n",
                            "    <tr>\n",
                            "      <th>19455</th>\n",
                            "      <td>128</td>\n",
                            "      <td>999</td>\n",
                            "      <td>5</td>\n",
                            "      <td>we enjoyed our stay at the hilton very much ! ...</td>\n",
                            "    </tr>\n",
                            "    <tr>\n",
                            "      <th>19456</th>\n",
                            "      <td>429</td>\n",
                            "      <td>999</td>\n",
                            "      <td>5</td>\n",
                            "      <td>from the moment we arrived at the front desk u...</td>\n",
                            "    </tr>\n",
                            "    <tr>\n",
                            "      <th>19457</th>\n",
                            "      <td>816</td>\n",
                            "      <td>999</td>\n",
                            "      <td>4</td>\n",
                            "      <td>wifi gratuit , nous n avons pas essayé le brea...</td>\n",
                            "    </tr>\n",
                            "    <tr>\n",
                            "      <th>19458</th>\n",
                            "      <td>916</td>\n",
                            "      <td>999</td>\n",
                            "      <td>4</td>\n",
                            "      <td>hot - tub was perfect for relaxing after a lon...</td>\n",
                            "    </tr>\n",
                            "  </tbody>\n",
                            "</table>\n",
                            "<p>19459 rows × 4 columns</p>\n",
                            "</div>"
                        ]
                    },
                    "metadata": {},
                    "execution_count": 77
                }
            ],
            "metadata": {}
        },
        {
            "cell_type": "markdown",
            "source": [
                "# Get User/Item Statistics on Train"
            ],
            "metadata": {}
        },
        {
            "cell_type": "markdown",
            "source": [
                "## Train - User"
            ],
            "metadata": {}
        },
        {
            "cell_type": "code",
            "execution_count": 78,
            "source": [
                "groupby_user_train = df_train_clean_data.groupby(['user'])"
            ],
            "outputs": [],
            "metadata": {}
        },
        {
            "cell_type": "code",
            "execution_count": 79,
            "source": [
                "len(groupby_user_train)"
            ],
            "outputs": [
                {
                    "output_type": "execute_result",
                    "data": {
                        "text/plain": [
                            "4950"
                        ]
                    },
                    "metadata": {},
                    "execution_count": 79
                }
            ],
            "metadata": {}
        },
        {
            "cell_type": "code",
            "execution_count": 80,
            "source": [
                "user_num_review_list = list()\n",
                "user_num_review_dict = dict()\n",
                "for key, item in groupby_user_train:\n",
                "    user_num_review_dict[key] = len(item)\n",
                "    user_num_review_list.append(len(item))"
            ],
            "outputs": [],
            "metadata": {}
        },
        {
            "cell_type": "code",
            "execution_count": 81,
            "source": [
                "import numpy as np\n",
                "print(\"Mean number of review per user: {}\".format(\n",
                "    np.mean(user_num_review_list)\n",
                "))\n",
                "print(\"Min number of review per user: {}\".format(\n",
                "    np.min(user_num_review_list)\n",
                "))\n",
                "print(\"Max number of review per user: {}\".format(\n",
                "    np.max(user_num_review_list)\n",
                "))"
            ],
            "outputs": [
                {
                    "output_type": "stream",
                    "name": "stdout",
                    "text": [
                        "Mean number of review per user: 41.534343434343434\n",
                        "Min number of review per user: 9\n",
                        "Max number of review per user: 3407\n"
                    ]
                }
            ],
            "metadata": {}
        },
        {
            "cell_type": "code",
            "execution_count": 82,
            "source": [
                "print(\"Top-10 least numbber of review per user: {}\".format(\n",
                "    sorted(user_num_review_list)[:10]\n",
                "))\n",
                "print(\"Top-10 most numbber of review per user: {}\".format(\n",
                "    sorted(user_num_review_list)[-10:]\n",
                "))"
            ],
            "outputs": [
                {
                    "output_type": "stream",
                    "name": "stdout",
                    "text": [
                        "Top-10 least numbber of review per user: [9, 9, 10, 10, 10, 10, 10, 10, 11, 11]\n",
                        "Top-10 most numbber of review per user: [299, 304, 306, 324, 356, 364, 385, 471, 673, 3407]\n"
                    ]
                }
            ],
            "metadata": {}
        },
        {
            "cell_type": "markdown",
            "source": [
                "## Train - Item"
            ],
            "metadata": {}
        },
        {
            "cell_type": "code",
            "execution_count": 83,
            "source": [
                "groupby_item_train = df_train_clean_data.groupby(['item'])"
            ],
            "outputs": [],
            "metadata": {}
        },
        {
            "cell_type": "code",
            "execution_count": 84,
            "source": [
                "len(groupby_item_train)"
            ],
            "outputs": [
                {
                    "output_type": "execute_result",
                    "data": {
                        "text/plain": [
                            "4493"
                        ]
                    },
                    "metadata": {},
                    "execution_count": 84
                }
            ],
            "metadata": {}
        },
        {
            "cell_type": "code",
            "execution_count": 85,
            "source": [
                "item_num_review_list = list()\n",
                "item_num_review_dict = dict()\n",
                "for key, item in groupby_item_train:\n",
                "    item_num_review_dict[key] = len(item)\n",
                "    item_num_review_list.append(len(item))"
            ],
            "outputs": [],
            "metadata": {}
        },
        {
            "cell_type": "code",
            "execution_count": 86,
            "source": [
                "print(\"Mean number of review per item: {}\".format(\n",
                "    np.mean(item_num_review_list)\n",
                "))\n",
                "print(\"Min number of review per item: {}\".format(\n",
                "    np.min(item_num_review_list)\n",
                "))\n",
                "print(\"Max number of review per item: {}\".format(\n",
                "    np.max(item_num_review_list)\n",
                "))"
            ],
            "outputs": [
                {
                    "output_type": "stream",
                    "name": "stdout",
                    "text": [
                        "Mean number of review per item: 45.75895837970176\n",
                        "Min number of review per item: 7\n",
                        "Max number of review per item: 585\n"
                    ]
                }
            ],
            "metadata": {}
        },
        {
            "cell_type": "code",
            "execution_count": 87,
            "source": [
                "print(\"Top-10 least numbber of review per item: {}\".format(\n",
                "    sorted(item_num_review_list)[:10]\n",
                "))\n",
                "print(\"Top-10 most numbber of review per item: {}\".format(\n",
                "    sorted(item_num_review_list)[-10:]\n",
                "))"
            ],
            "outputs": [
                {
                    "output_type": "stream",
                    "name": "stdout",
                    "text": [
                        "Top-10 least numbber of review per item: [7, 8, 8, 9, 9, 9, 9, 9, 9, 10]\n",
                        "Top-10 most numbber of review per item: [362, 375, 381, 392, 410, 411, 447, 461, 464, 585]\n"
                    ]
                }
            ],
            "metadata": {}
        },
        {
            "cell_type": "code",
            "execution_count": null,
            "source": [],
            "outputs": [],
            "metadata": {}
        }
    ],
    "metadata": {
        "orig_nbformat": 4,
        "language_info": {
            "name": "python",
            "version": "3.7.3",
            "mimetype": "text/x-python",
            "codemirror_mode": {
                "name": "ipython",
                "version": 3
            },
            "pygments_lexer": "ipython3",
            "nbconvert_exporter": "python",
            "file_extension": ".py"
        },
        "kernelspec": {
            "name": "python3",
            "display_name": "Python 3.7.3 64-bit ('base': conda)"
        },
        "interpreter": {
            "hash": "73d0647c863cb9ce92fb50b3911519dc6558e38bcfd5798aa86981c2dac43fdf"
        }
    },
    "nbformat": 4,
    "nbformat_minor": 2
}