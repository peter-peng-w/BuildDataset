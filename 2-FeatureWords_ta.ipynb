{
    "cells": [
        {
            "cell_type": "code",
            "execution_count": 27,
            "source": [
                "!which python"
            ],
            "outputs": [
                {
                    "output_type": "stream",
                    "name": "stdout",
                    "text": [
                        "/u/pw7nc/anaconda3/bin/python\n"
                    ]
                }
            ],
            "metadata": {}
        },
        {
            "cell_type": "code",
            "execution_count": 38,
            "source": [
                "import spacy\n",
                "import nltk\n",
                "import re\n",
                "import json\n",
                "import pandas as pd\n",
                "import os\n",
                "import numpy as np\n",
                "from sklearn.feature_extraction.text import CountVectorizer,TfidfTransformer\n",
                "from nltk.tokenize import sent_tokenize, word_tokenize\n",
                "import string\n",
                "punct = string.punctuation"
            ],
            "outputs": [],
            "metadata": {}
        },
        {
            "cell_type": "code",
            "execution_count": 29,
            "source": [
                "dataset_name = \"tripadvisor\""
            ],
            "outputs": [],
            "metadata": {}
        },
        {
            "cell_type": "markdown",
            "source": [
                "# Load Dataset"
            ],
            "metadata": {}
        },
        {
            "cell_type": "code",
            "execution_count": 30,
            "source": [
                "dir_path = '../Dataset/tripadvisor/'\n",
                "# Load cleaned train\n",
                "train_clean_file = os.path.join(dir_path, 'train_review_filtered.json')\n",
                "train_review = []\n",
                "with open(train_clean_file, 'r') as f:\n",
                "    for line in f:\n",
                "        line_data = json.loads(line)\n",
                "        item_id = line_data['item']\n",
                "        user_id = line_data['user']\n",
                "        rating = line_data['rating']\n",
                "        review = line_data['review']\n",
                "        feature = line_data['feature']\n",
                "        train_review.append([item_id, user_id, rating, review, feature])\n",
                "print(\"Number of reviews on trainset: {}\".format(len(train_review)))"
            ],
            "outputs": [
                {
                    "output_type": "stream",
                    "name": "stdout",
                    "text": [
                        "Number of reviews on trainset: 205595\n"
                    ]
                }
            ],
            "metadata": {}
        },
        {
            "cell_type": "code",
            "execution_count": 31,
            "source": [
                "# Load cleaned test\n",
                "test_clean_file = os.path.join(dir_path, 'test_review_filtered_clean.json')\n",
                "test_review = []\n",
                "with open(test_clean_file, 'r') as f:\n",
                "    for line in f:\n",
                "        line_data = json.loads(line)\n",
                "        item_id = line_data['item']\n",
                "        user_id = line_data['user']\n",
                "        rating = line_data['rating']\n",
                "        review = line_data['review']\n",
                "        feature = line_data['feature']\n",
                "        test_review.append([item_id, user_id, rating, review, feature])\n",
                "print(\"Number of reviews on testset: {}\".format(len(test_review)))"
            ],
            "outputs": [
                {
                    "output_type": "stream",
                    "name": "stdout",
                    "text": [
                        "Number of reviews on testset: 19444\n"
                    ]
                }
            ],
            "metadata": {}
        },
        {
            "cell_type": "markdown",
            "source": [
                "## Convert List Data to Pandas Dataframe"
            ],
            "metadata": {}
        },
        {
            "cell_type": "code",
            "execution_count": 32,
            "source": [
                "df_train_data = pd.DataFrame(train_review, columns=['item', 'user', 'rating', 'review', 'feature'])\n",
                "df_test_data = pd.DataFrame(test_review, columns=['item', 'user', 'rating', 'review', 'feature'])"
            ],
            "outputs": [],
            "metadata": {}
        },
        {
            "cell_type": "code",
            "execution_count": 33,
            "source": [
                "df_train_data"
            ],
            "outputs": [
                {
                    "output_type": "execute_result",
                    "data": {
                        "text/plain": [
                            "        item user  rating                                             review  \\\n",
                            "0          0    0       5  this is our second stay at this hotel ; we sta...   \n",
                            "1          1    0       3  small , cramped rooms , moldy grout in shower ...   \n",
                            "2         10    0       3  the room doors would slam when guests leave , ...   \n",
                            "3        100    0       2  first , the old style tv was on top of the clo...   \n",
                            "4       1000    0       5  the food was exceptional - we really enjoyed t...   \n",
                            "...      ...  ...     ...                                                ...   \n",
                            "205590   752  999       5  the rooms are spacious , quiet , and clean . m...   \n",
                            "205591   819  999       5  room was very nice . bed was comfortable , had...   \n",
                            "205592   827  999       3  not really the best stay i ever had . room was...   \n",
                            "205593   852  999       3  our room was not as nice as i had hoped . the ...   \n",
                            "205594   898  999       5  villas are very confortable , spacy and clean ...   \n",
                            "\n",
                            "                                                  feature  \n",
                            "0       [[location, rooms], [rooms, cleanliness], [roo...  \n",
                            "1                          [[rooms], [location, service]]  \n",
                            "2                             [[rooms, value], [service]]  \n",
                            "3       [[rooms, location], [value], [service], [locat...  \n",
                            "4       [[service, location], [service], [rooms, servi...  \n",
                            "...                                                   ...  \n",
                            "205590  [[rooms], [service], [service], [service], [lo...  \n",
                            "205591  [[rooms], [rooms], [rooms], [rooms], [rooms], ...  \n",
                            "205592          [[location], [rooms, cleanliness, value]]  \n",
                            "205593                           [[rooms], [cleanliness]]  \n",
                            "205594                     [[cleanliness], [cleanliness]]  \n",
                            "\n",
                            "[205595 rows x 5 columns]"
                        ],
                        "text/html": [
                            "<div>\n",
                            "<style scoped>\n",
                            "    .dataframe tbody tr th:only-of-type {\n",
                            "        vertical-align: middle;\n",
                            "    }\n",
                            "\n",
                            "    .dataframe tbody tr th {\n",
                            "        vertical-align: top;\n",
                            "    }\n",
                            "\n",
                            "    .dataframe thead th {\n",
                            "        text-align: right;\n",
                            "    }\n",
                            "</style>\n",
                            "<table border=\"1\" class=\"dataframe\">\n",
                            "  <thead>\n",
                            "    <tr style=\"text-align: right;\">\n",
                            "      <th></th>\n",
                            "      <th>item</th>\n",
                            "      <th>user</th>\n",
                            "      <th>rating</th>\n",
                            "      <th>review</th>\n",
                            "      <th>feature</th>\n",
                            "    </tr>\n",
                            "  </thead>\n",
                            "  <tbody>\n",
                            "    <tr>\n",
                            "      <th>0</th>\n",
                            "      <td>0</td>\n",
                            "      <td>0</td>\n",
                            "      <td>5</td>\n",
                            "      <td>this is our second stay at this hotel ; we sta...</td>\n",
                            "      <td>[[location, rooms], [rooms, cleanliness], [roo...</td>\n",
                            "    </tr>\n",
                            "    <tr>\n",
                            "      <th>1</th>\n",
                            "      <td>1</td>\n",
                            "      <td>0</td>\n",
                            "      <td>3</td>\n",
                            "      <td>small , cramped rooms , moldy grout in shower ...</td>\n",
                            "      <td>[[rooms], [location, service]]</td>\n",
                            "    </tr>\n",
                            "    <tr>\n",
                            "      <th>2</th>\n",
                            "      <td>10</td>\n",
                            "      <td>0</td>\n",
                            "      <td>3</td>\n",
                            "      <td>the room doors would slam when guests leave , ...</td>\n",
                            "      <td>[[rooms, value], [service]]</td>\n",
                            "    </tr>\n",
                            "    <tr>\n",
                            "      <th>3</th>\n",
                            "      <td>100</td>\n",
                            "      <td>0</td>\n",
                            "      <td>2</td>\n",
                            "      <td>first , the old style tv was on top of the clo...</td>\n",
                            "      <td>[[rooms, location], [value], [service], [locat...</td>\n",
                            "    </tr>\n",
                            "    <tr>\n",
                            "      <th>4</th>\n",
                            "      <td>1000</td>\n",
                            "      <td>0</td>\n",
                            "      <td>5</td>\n",
                            "      <td>the food was exceptional - we really enjoyed t...</td>\n",
                            "      <td>[[service, location], [service], [rooms, servi...</td>\n",
                            "    </tr>\n",
                            "    <tr>\n",
                            "      <th>...</th>\n",
                            "      <td>...</td>\n",
                            "      <td>...</td>\n",
                            "      <td>...</td>\n",
                            "      <td>...</td>\n",
                            "      <td>...</td>\n",
                            "    </tr>\n",
                            "    <tr>\n",
                            "      <th>205590</th>\n",
                            "      <td>752</td>\n",
                            "      <td>999</td>\n",
                            "      <td>5</td>\n",
                            "      <td>the rooms are spacious , quiet , and clean . m...</td>\n",
                            "      <td>[[rooms], [service], [service], [service], [lo...</td>\n",
                            "    </tr>\n",
                            "    <tr>\n",
                            "      <th>205591</th>\n",
                            "      <td>819</td>\n",
                            "      <td>999</td>\n",
                            "      <td>5</td>\n",
                            "      <td>room was very nice . bed was comfortable , had...</td>\n",
                            "      <td>[[rooms], [rooms], [rooms], [rooms], [rooms], ...</td>\n",
                            "    </tr>\n",
                            "    <tr>\n",
                            "      <th>205592</th>\n",
                            "      <td>827</td>\n",
                            "      <td>999</td>\n",
                            "      <td>3</td>\n",
                            "      <td>not really the best stay i ever had . room was...</td>\n",
                            "      <td>[[location], [rooms, cleanliness, value]]</td>\n",
                            "    </tr>\n",
                            "    <tr>\n",
                            "      <th>205593</th>\n",
                            "      <td>852</td>\n",
                            "      <td>999</td>\n",
                            "      <td>3</td>\n",
                            "      <td>our room was not as nice as i had hoped . the ...</td>\n",
                            "      <td>[[rooms], [cleanliness]]</td>\n",
                            "    </tr>\n",
                            "    <tr>\n",
                            "      <th>205594</th>\n",
                            "      <td>898</td>\n",
                            "      <td>999</td>\n",
                            "      <td>5</td>\n",
                            "      <td>villas are very confortable , spacy and clean ...</td>\n",
                            "      <td>[[cleanliness], [cleanliness]]</td>\n",
                            "    </tr>\n",
                            "  </tbody>\n",
                            "</table>\n",
                            "<p>205595 rows × 5 columns</p>\n",
                            "</div>"
                        ]
                    },
                    "metadata": {},
                    "execution_count": 33
                }
            ],
            "metadata": {}
        },
        {
            "cell_type": "code",
            "execution_count": 34,
            "source": [
                "df_test_data"
            ],
            "outputs": [
                {
                    "output_type": "execute_result",
                    "data": {
                        "text/plain": [
                            "       item user  rating                                             review  \\\n",
                            "0      1111    0       2  when i mentioned this to the front desk they d...   \n",
                            "1      1379    0       3  the service was good . our room , was not the ...   \n",
                            "2      1391    0       5  we stayed at the signature for four days to ce...   \n",
                            "3      1579    0       4  the lake buena vista is a perfect place to sta...   \n",
                            "4      1689    0       5  summer ( at the front desk ) was perfect ! she...   \n",
                            "...     ...  ...     ...                                                ...   \n",
                            "19439     0  999       5  this was a pleasant place , and with our annua...   \n",
                            "19440   128  999       5  we enjoyed our stay at the hilton very much ! ...   \n",
                            "19441   429  999       5  from the moment we arrived at the front desk u...   \n",
                            "19442   816  999       4  wifi gratuit , nous n avons pas essayé le brea...   \n",
                            "19443   916  999       4  hot - tub was perfect for relaxing after a lon...   \n",
                            "\n",
                            "                                                 feature  \n",
                            "0                                            [[service]]  \n",
                            "1      [[service], [rooms], [cleanliness], [cleanline...  \n",
                            "2                                   [[value], [service]]  \n",
                            "3                                           [[location]]  \n",
                            "4       [[service], [value, location], [service, rooms]]  \n",
                            "...                                                  ...  \n",
                            "19439                        [[value], [rooms], [rooms]]  \n",
                            "19440                   [[location], [service], [rooms]]  \n",
                            "19441                                        [[service]]  \n",
                            "19442                                        [[service]]  \n",
                            "19443   [[rooms], [rooms], [location, service], [value]]  \n",
                            "\n",
                            "[19444 rows x 5 columns]"
                        ],
                        "text/html": [
                            "<div>\n",
                            "<style scoped>\n",
                            "    .dataframe tbody tr th:only-of-type {\n",
                            "        vertical-align: middle;\n",
                            "    }\n",
                            "\n",
                            "    .dataframe tbody tr th {\n",
                            "        vertical-align: top;\n",
                            "    }\n",
                            "\n",
                            "    .dataframe thead th {\n",
                            "        text-align: right;\n",
                            "    }\n",
                            "</style>\n",
                            "<table border=\"1\" class=\"dataframe\">\n",
                            "  <thead>\n",
                            "    <tr style=\"text-align: right;\">\n",
                            "      <th></th>\n",
                            "      <th>item</th>\n",
                            "      <th>user</th>\n",
                            "      <th>rating</th>\n",
                            "      <th>review</th>\n",
                            "      <th>feature</th>\n",
                            "    </tr>\n",
                            "  </thead>\n",
                            "  <tbody>\n",
                            "    <tr>\n",
                            "      <th>0</th>\n",
                            "      <td>1111</td>\n",
                            "      <td>0</td>\n",
                            "      <td>2</td>\n",
                            "      <td>when i mentioned this to the front desk they d...</td>\n",
                            "      <td>[[service]]</td>\n",
                            "    </tr>\n",
                            "    <tr>\n",
                            "      <th>1</th>\n",
                            "      <td>1379</td>\n",
                            "      <td>0</td>\n",
                            "      <td>3</td>\n",
                            "      <td>the service was good . our room , was not the ...</td>\n",
                            "      <td>[[service], [rooms], [cleanliness], [cleanline...</td>\n",
                            "    </tr>\n",
                            "    <tr>\n",
                            "      <th>2</th>\n",
                            "      <td>1391</td>\n",
                            "      <td>0</td>\n",
                            "      <td>5</td>\n",
                            "      <td>we stayed at the signature for four days to ce...</td>\n",
                            "      <td>[[value], [service]]</td>\n",
                            "    </tr>\n",
                            "    <tr>\n",
                            "      <th>3</th>\n",
                            "      <td>1579</td>\n",
                            "      <td>0</td>\n",
                            "      <td>4</td>\n",
                            "      <td>the lake buena vista is a perfect place to sta...</td>\n",
                            "      <td>[[location]]</td>\n",
                            "    </tr>\n",
                            "    <tr>\n",
                            "      <th>4</th>\n",
                            "      <td>1689</td>\n",
                            "      <td>0</td>\n",
                            "      <td>5</td>\n",
                            "      <td>summer ( at the front desk ) was perfect ! she...</td>\n",
                            "      <td>[[service], [value, location], [service, rooms]]</td>\n",
                            "    </tr>\n",
                            "    <tr>\n",
                            "      <th>...</th>\n",
                            "      <td>...</td>\n",
                            "      <td>...</td>\n",
                            "      <td>...</td>\n",
                            "      <td>...</td>\n",
                            "      <td>...</td>\n",
                            "    </tr>\n",
                            "    <tr>\n",
                            "      <th>19439</th>\n",
                            "      <td>0</td>\n",
                            "      <td>999</td>\n",
                            "      <td>5</td>\n",
                            "      <td>this was a pleasant place , and with our annua...</td>\n",
                            "      <td>[[value], [rooms], [rooms]]</td>\n",
                            "    </tr>\n",
                            "    <tr>\n",
                            "      <th>19440</th>\n",
                            "      <td>128</td>\n",
                            "      <td>999</td>\n",
                            "      <td>5</td>\n",
                            "      <td>we enjoyed our stay at the hilton very much ! ...</td>\n",
                            "      <td>[[location], [service], [rooms]]</td>\n",
                            "    </tr>\n",
                            "    <tr>\n",
                            "      <th>19441</th>\n",
                            "      <td>429</td>\n",
                            "      <td>999</td>\n",
                            "      <td>5</td>\n",
                            "      <td>from the moment we arrived at the front desk u...</td>\n",
                            "      <td>[[service]]</td>\n",
                            "    </tr>\n",
                            "    <tr>\n",
                            "      <th>19442</th>\n",
                            "      <td>816</td>\n",
                            "      <td>999</td>\n",
                            "      <td>4</td>\n",
                            "      <td>wifi gratuit , nous n avons pas essayé le brea...</td>\n",
                            "      <td>[[service]]</td>\n",
                            "    </tr>\n",
                            "    <tr>\n",
                            "      <th>19443</th>\n",
                            "      <td>916</td>\n",
                            "      <td>999</td>\n",
                            "      <td>4</td>\n",
                            "      <td>hot - tub was perfect for relaxing after a lon...</td>\n",
                            "      <td>[[rooms], [rooms], [location, service], [value]]</td>\n",
                            "    </tr>\n",
                            "  </tbody>\n",
                            "</table>\n",
                            "<p>19444 rows × 5 columns</p>\n",
                            "</div>"
                        ]
                    },
                    "metadata": {},
                    "execution_count": 34
                }
            ],
            "metadata": {}
        },
        {
            "cell_type": "code",
            "execution_count": 35,
            "source": [
                "print(\"number of user in trainset: {}\".format(len(list(df_train_data['user'].unique()))))\n",
                "print(\"number of item in trainset: {}\".format(len(list(df_train_data['item'].unique()))))"
            ],
            "outputs": [
                {
                    "output_type": "stream",
                    "name": "stdout",
                    "text": [
                        "number of user in trainset: 4950\n",
                        "number of item in trainset: 4493\n"
                    ]
                }
            ],
            "metadata": {}
        },
        {
            "cell_type": "markdown",
            "source": [
                "## Check the already labeled features"
            ],
            "metadata": {}
        },
        {
            "cell_type": "code",
            "execution_count": 36,
            "source": [
                "# Load attributes\n",
                "attribute_file = os.path.join(dir_path, 'ta_output/attributes.json')\n",
                "with open(attribute_file, 'r') as f:\n",
                "    print(\"Load file: {}\".format(attribute_file))\n",
                "    attributes_vocab = json.load(f)"
            ],
            "outputs": [
                {
                    "output_type": "stream",
                    "name": "stdout",
                    "text": [
                        "Load file: ../Dataset/tripadvisor/ta_output/attributes.json\n"
                    ]
                }
            ],
            "metadata": {}
        },
        {
            "cell_type": "code",
            "execution_count": 37,
            "source": [
                "# Load aspects\n",
                "aspect_file = os.path.join(dir_path, 'ta_output/aspects.json')\n",
                "with open(aspect_file, 'r') as f:\n",
                "    print(\"Load file: {}\".format(aspect_file))\n",
                "    aspect_dict = json.load(f)"
            ],
            "outputs": [
                {
                    "output_type": "stream",
                    "name": "stdout",
                    "text": [
                        "Load file: ../Dataset/tripadvisor/ta_output/aspects.json\n"
                    ]
                }
            ],
            "metadata": {}
        },
        {
            "cell_type": "code",
            "execution_count": 39,
            "source": [
                "feature_set = set()\n",
                "for attr in attributes_vocab:\n",
                "    if attr in punct:\n",
                "        print(\"Remove: \", attr)\n",
                "    else:\n",
                "        feature_set.add(attr)\n",
                "for aspect in aspect_dict:\n",
                "    if aspect in punct:\n",
                "        print(\"Remove: \", aspect)\n",
                "    else:\n",
                "        feature_set.add(aspect)\n",
                "print(\"Number of attributes: {}\".format(len(attributes_vocab)))\n",
                "print(\"Number of aspects: {}\".format(len(aspect_dict)))\n",
                "print(\"--\"*10+\"Features are a combination of attributes and aspects\"+\"--\"*10)\n",
                "print(\"Number of features: {}\".format(len(feature_set)))"
            ],
            "outputs": [
                {
                    "output_type": "stream",
                    "name": "stdout",
                    "text": [
                        "Remove:  $\n",
                        "Remove:  %\n",
                        "Number of attributes: 440\n",
                        "Number of aspects: 159\n",
                        "--------------------Features are a combination of attributes and aspects--------------------\n",
                        "Number of features: 505\n"
                    ]
                }
            ],
            "metadata": {}
        },
        {
            "cell_type": "code",
            "execution_count": 13,
            "source": [
                "# from spacy.lang.en import English\n",
                "\n",
                "# nlp = English()\n",
                "# nlp.add_pipe(nlp.create_pipe('sentencizer'))\n",
                "# doc = nlp(\"the pork chop itself is moist and tender . everything was great .\")\n",
                "# assert len(list(doc.sents)) == 2\n",
                "# print(list(doc.sents))\n",
                "# print(list(doc.sents)[0].text)"
            ],
            "outputs": [],
            "metadata": {}
        },
        {
            "cell_type": "code",
            "execution_count": 14,
            "source": [
                "cnt_line_without_features = 0\n",
                "cnt_rvw_features = list()\n",
                "for row in df_train_data.iterrows():\n",
                "    item_id = row[1]['item']\n",
                "    user_id = row[1]['user']\n",
                "    rating = row[1]['rating']\n",
                "    rvw_text = row[1]['review']\n",
                "    rvw_features = row[1]['feature']\n",
                "    # rvw_sents = sent_tokenize(rvw_text)\n",
                "    rvw_tokens = word_tokenize(rvw_text)\n",
                "    num_rvw_features = 0\n",
                "    for feat_word in feature_set:\n",
                "        if feat_word in rvw_tokens:\n",
                "            num_rvw_features += 1\n",
                "    if num_rvw_features == 0:\n",
                "        cnt_line_without_features += 1\n",
                "    else:\n",
                "        cnt_rvw_features.append(num_rvw_features)\n",
                "\n",
                "    if (row[0]+1) % 50000 == 0:\n",
                "        print(\"{} lines\".format(row[0]+1))\n",
                "\n",
                "print(\"Number of reviews that has no feature words: {}\".format(cnt_line_without_features))\n",
                "print(\"Avg number of features per review: {}\".format(np.mean(cnt_rvw_features)))\n"
            ],
            "outputs": [
                {
                    "output_type": "stream",
                    "name": "stdout",
                    "text": [
                        "50000 lines\n",
                        "100000 lines\n",
                        "150000 lines\n",
                        "200000 lines\n",
                        "Number of reviews that has no feature words: 0\n",
                        "Avg number of features per review: 9.114409397115688\n"
                    ]
                }
            ],
            "metadata": {}
        },
        {
            "cell_type": "code",
            "execution_count": 24,
            "source": [
                "len(cnt_rvw_features)"
            ],
            "outputs": [
                {
                    "output_type": "execute_result",
                    "data": {
                        "text/plain": [
                            "205595"
                        ]
                    },
                    "metadata": {},
                    "execution_count": 24
                }
            ],
            "metadata": {}
        },
        {
            "cell_type": "code",
            "execution_count": 15,
            "source": [
                "# Extract Features\n",
                "feature_count = dict()\n",
                "cnt_features = 0\n",
                "for row in df_train_data.iterrows():\n",
                "    row_sentences = row[1]['review']\n",
                "    row_tokens = word_tokenize(row_sentences)\n",
                "    for row_token in row_tokens:\n",
                "        if row_token in feature_set:\n",
                "            if row_token not in feature_count:\n",
                "                feature_count[row_token] = 1\n",
                "                cnt_features += 1\n",
                "            else:\n",
                "                feature_count[row_token] += 1\n",
                "# assert cnt_features == len(feature_count)\n",
                "print(\"Totally {} features appear in train-set reviews.\".format(cnt_features))\n"
            ],
            "outputs": [
                {
                    "output_type": "stream",
                    "name": "stdout",
                    "text": [
                        "Totally 505 features appear in train-set reviews.\n"
                    ]
                }
            ],
            "metadata": {}
        },
        {
            "cell_type": "code",
            "execution_count": 16,
            "source": [
                "# sort the feature based on counts\n",
                "sorted_feat_counts = sorted(feature_count.items(), key = lambda x: -x[1])\n",
                "# build feature word to feature ids mappings\n",
                "feature2id_vocab = {entry[0]: str(id) for (id, entry) in enumerate(sorted_feat_counts)}\n",
                "id2feature_vocab = {v: u for u, v in feature2id_vocab.items()}"
            ],
            "outputs": [],
            "metadata": {}
        },
        {
            "cell_type": "code",
            "execution_count": 17,
            "source": [
                "feature2id_file = \"../Dataset/tripadvisor/train/feature/feature2id.json\"\n",
                "with open(feature2id_file, 'w') as f:\n",
                "    print(\"Write file: {}\".format(feature2id_file))\n",
                "    json.dump(feature2id_vocab, f)\n",
                "\n",
                "id2feature_file = \"../Dataset/tripadvisor/train/feature/id2feature.json\"\n",
                "with open(id2feature_file, 'w') as f:\n",
                "    print(\"Write file: {}\".format(id2feature_file))\n",
                "    json.dump(id2feature_vocab, f)\n"
            ],
            "outputs": [
                {
                    "output_type": "stream",
                    "name": "stdout",
                    "text": [
                        "Write file: ../Dataset/tripadvisor/train/feature/feature2id.json\n",
                        "Write file: ../Dataset/tripadvisor/train/feature/id2feature.json\n"
                    ]
                }
            ],
            "metadata": {}
        },
        {
            "cell_type": "code",
            "execution_count": 19,
            "source": [
                "feature2df = dict()\n",
                "last_df = -1\n",
                "for feat_df in sorted_feat_counts:\n",
                "    assert feat_df[0] not in feature2df\n",
                "    if last_df > 0:\n",
                "        assert last_df >= feat_df[1]\n",
                "    last_df = feat_df[1]\n",
                "    feature2df[feat_df[0]] = feat_df[1]"
            ],
            "outputs": [],
            "metadata": {}
        },
        {
            "cell_type": "code",
            "execution_count": 20,
            "source": [
                "feature2df_file = \"../Dataset/tripadvisor/train/feature/feature2df.json\"\n",
                "with open(feature2df_file, 'w') as f:\n",
                "    print(\"Write file: {}\".format(feature2df_file))\n",
                "    json.dump(feature2df, f)"
            ],
            "outputs": [
                {
                    "output_type": "stream",
                    "name": "stdout",
                    "text": [
                        "Write file: ../Dataset/tripadvisor/train/feature/feature2df.json\n"
                    ]
                }
            ],
            "metadata": {}
        },
        {
            "cell_type": "markdown",
            "source": [
                "# Check Whether Test Features All Appears in Train Feature Set"
            ],
            "metadata": {}
        },
        {
            "cell_type": "code",
            "execution_count": 25,
            "source": [
                "cnt_line_without_features_testset = 0\n",
                "cnt_rvw_features_testset = list()\n",
                "for row in df_test_data.iterrows():\n",
                "    item_id = row[1]['item']\n",
                "    user_id = row[1]['user']\n",
                "    rating = row[1]['rating']\n",
                "    rvw_text = row[1]['review']\n",
                "    # rvw_features = row[1]['feature']\n",
                "    rvw_tokens = word_tokenize(rvw_text)\n",
                "    num_rvw_features = 0\n",
                "    for feat_word in feature2id_vocab.keys():\n",
                "        if feat_word in rvw_tokens:\n",
                "            num_rvw_features += 1\n",
                "    if num_rvw_features == 0:\n",
                "        cnt_line_without_features_testset += 1\n",
                "    else:\n",
                "        cnt_rvw_features_testset.append(num_rvw_features)\n",
                "    if (row[0]+1) % 10000 == 0:\n",
                "        print(\"{} lines\".format(row[0]+1))\n",
                "print(\"Finish! Totally {} lines.\".format(row[0]+1))\n",
                "print(\"Number of reviews that has no feature words: {}\".format(cnt_line_without_features_testset))\n",
                "print(\"Avg number of features per review: {}\".format(np.mean(cnt_rvw_features_testset)))"
            ],
            "outputs": [
                {
                    "output_type": "stream",
                    "name": "stdout",
                    "text": [
                        "10000 lines\n",
                        "Finish! Totally 19444 lines.\n",
                        "Number of reviews that has no feature words: 0\n",
                        "Avg number of features per review: 9.11335116231228\n"
                    ]
                }
            ],
            "metadata": {}
        },
        {
            "cell_type": "code",
            "execution_count": 26,
            "source": [
                "len(cnt_rvw_features_testset)"
            ],
            "outputs": [
                {
                    "output_type": "execute_result",
                    "data": {
                        "text/plain": [
                            "19444"
                        ]
                    },
                    "metadata": {},
                    "execution_count": 26
                }
            ],
            "metadata": {}
        },
        {
            "cell_type": "code",
            "execution_count": null,
            "source": [],
            "outputs": [],
            "metadata": {}
        }
    ],
    "metadata": {
        "orig_nbformat": 4,
        "language_info": {
            "name": "python",
            "version": "3.7.3",
            "mimetype": "text/x-python",
            "codemirror_mode": {
                "name": "ipython",
                "version": 3
            },
            "pygments_lexer": "ipython3",
            "nbconvert_exporter": "python",
            "file_extension": ".py"
        },
        "kernelspec": {
            "name": "python3",
            "display_name": "Python 3.7.3 64-bit ('base': conda)"
        },
        "interpreter": {
            "hash": "73d0647c863cb9ce92fb50b3911519dc6558e38bcfd5798aa86981c2dac43fdf"
        }
    },
    "nbformat": 4,
    "nbformat_minor": 2
}