{
    "cells": [
        {
            "cell_type": "code",
            "execution_count": 1,
            "source": [
                "!which python"
            ],
            "outputs": [
                {
                    "output_type": "stream",
                    "name": "stdout",
                    "text": [
                        "/u/pw7nc/anaconda3/bin/python\n"
                    ]
                }
            ],
            "metadata": {}
        },
        {
            "cell_type": "code",
            "execution_count": 2,
            "source": [
                "import spacy\n",
                "import nltk\n",
                "import re\n",
                "import json\n",
                "import pandas as pd\n",
                "import os\n",
                "import numpy as np\n",
                "from sklearn.feature_extraction.text import CountVectorizer,TfidfTransformer\n",
                "from nltk.tokenize import sent_tokenize, word_tokenize"
            ],
            "outputs": [],
            "metadata": {}
        },
        {
            "cell_type": "markdown",
            "source": [
                "# Load Dataset"
            ],
            "metadata": {}
        },
        {
            "cell_type": "code",
            "execution_count": 3,
            "source": [
                "dir_path = '../Dataset/yelp/'\n",
                "# Load cleaned train\n",
                "train_clean_file = os.path.join(dir_path, 'train_review_filtered.json')\n",
                "train_review = []\n",
                "with open(train_clean_file, 'r') as f:\n",
                "    for line in f:\n",
                "        line_data = json.loads(line)\n",
                "        item_id = line_data['item']\n",
                "        user_id = line_data['user']\n",
                "        rating = line_data['rating']\n",
                "        review = line_data['review']\n",
                "        features = line_data['features']\n",
                "        train_review.append([item_id, user_id, rating, review, features])\n",
                "print(\"Number of reviews on trainset: {}\".format(len(train_review)))"
            ],
            "outputs": [
                {
                    "output_type": "stream",
                    "name": "stdout",
                    "text": [
                        "Number of reviews on trainset: 191227\n"
                    ]
                }
            ],
            "metadata": {}
        },
        {
            "cell_type": "code",
            "execution_count": 4,
            "source": [
                "# Load cleaned test\n",
                "test_clean_file = os.path.join(dir_path, 'test_review_filtered_clean.json')\n",
                "test_review = []\n",
                "with open(test_clean_file, 'r') as f:\n",
                "    for line in f:\n",
                "        line_data = json.loads(line)\n",
                "        item_id = line_data['item']\n",
                "        user_id = line_data['user']\n",
                "        rating = line_data['rating']\n",
                "        review = line_data['review']\n",
                "        features = line_data['features']\n",
                "        test_review.append([item_id, user_id, rating, review, features])\n",
                "print(\"Number of reviews on testset: {}\".format(len(test_review)))"
            ],
            "outputs": [
                {
                    "output_type": "stream",
                    "name": "stdout",
                    "text": [
                        "Number of reviews on testset: 42702\n"
                    ]
                }
            ],
            "metadata": {}
        },
        {
            "cell_type": "markdown",
            "source": [
                "## Convert List Data to Pandas Dataframe"
            ],
            "metadata": {}
        },
        {
            "cell_type": "code",
            "execution_count": 5,
            "source": [
                "df_train_data = pd.DataFrame(train_review, columns=['item', 'user', 'rating', 'review', 'features'])\n",
                "df_test_data = pd.DataFrame(test_review, columns=['item', 'user', 'rating', 'review', 'features'])"
            ],
            "outputs": [],
            "metadata": {}
        },
        {
            "cell_type": "code",
            "execution_count": 6,
            "source": [
                "df_train_data"
            ],
            "outputs": [
                {
                    "output_type": "execute_result",
                    "data": {
                        "text/plain": [
                            "         item  user  rating  \\\n",
                            "0        1071  1001       4   \n",
                            "1       10877  1001       3   \n",
                            "2        1114  1001       3   \n",
                            "3         120  1001       5   \n",
                            "4        1278  1001       4   \n",
                            "...       ...   ...     ...   \n",
                            "191222   4993  9999       5   \n",
                            "191223    704  9999       4   \n",
                            "191224   7379  9999       5   \n",
                            "191225   8530  9999       4   \n",
                            "191226   8682  9999       5   \n",
                            "\n",
                            "                                                   review  \\\n",
                            "0       place was well lit , very clean , and staff ve...   \n",
                            "1       the price was great and so was the subs ... th...   \n",
                            "2       previous i was bundled into a takeout work ord...   \n",
                            "3       this is my favorite restaurant by far . food o...   \n",
                            "4       nice little gem right here . ok , staff were v...   \n",
                            "...                                                   ...   \n",
                            "191222  my two favorites are the carne asada and barba...   \n",
                            "191223  the tacos themselves were a mixed bag . in par...   \n",
                            "191224                             everything was great .   \n",
                            "191225  our last experience here went pretty well and ...   \n",
                            "191226  the surf and turf burrito ( carne asada and sh...   \n",
                            "\n",
                            "                                                 features  \n",
                            "0       [[food, staff], [tomato, sauce, aioli], [chees...  \n",
                            "1                              [[subs, price], [parking]]  \n",
                            "2                         [[rice, takeout, food], [food]]  \n",
                            "3       [[restaurant], [food], [service], [dish, lobst...  \n",
                            "4       [[gem], [staff, drinks, drink, tasting], [lunc...  \n",
                            "...                                                   ...  \n",
                            "191222  [[juicy, favorites], [combo, taco, tacos, meal...  \n",
                            "191223  [[tacos], [taco], [flavor, vegan], [pork, taco...  \n",
                            "191224                                     [[everything]]  \n",
                            "191225  [[food], [menu], [wait, chicken], [juicy], [me...  \n",
                            "191226  [[burrito, shrimp], [burrito, cheese, steak, s...  \n",
                            "\n",
                            "[191227 rows x 5 columns]"
                        ],
                        "text/html": [
                            "<div>\n",
                            "<style scoped>\n",
                            "    .dataframe tbody tr th:only-of-type {\n",
                            "        vertical-align: middle;\n",
                            "    }\n",
                            "\n",
                            "    .dataframe tbody tr th {\n",
                            "        vertical-align: top;\n",
                            "    }\n",
                            "\n",
                            "    .dataframe thead th {\n",
                            "        text-align: right;\n",
                            "    }\n",
                            "</style>\n",
                            "<table border=\"1\" class=\"dataframe\">\n",
                            "  <thead>\n",
                            "    <tr style=\"text-align: right;\">\n",
                            "      <th></th>\n",
                            "      <th>item</th>\n",
                            "      <th>user</th>\n",
                            "      <th>rating</th>\n",
                            "      <th>review</th>\n",
                            "      <th>features</th>\n",
                            "    </tr>\n",
                            "  </thead>\n",
                            "  <tbody>\n",
                            "    <tr>\n",
                            "      <th>0</th>\n",
                            "      <td>1071</td>\n",
                            "      <td>1001</td>\n",
                            "      <td>4</td>\n",
                            "      <td>place was well lit , very clean , and staff ve...</td>\n",
                            "      <td>[[food, staff], [tomato, sauce, aioli], [chees...</td>\n",
                            "    </tr>\n",
                            "    <tr>\n",
                            "      <th>1</th>\n",
                            "      <td>10877</td>\n",
                            "      <td>1001</td>\n",
                            "      <td>3</td>\n",
                            "      <td>the price was great and so was the subs ... th...</td>\n",
                            "      <td>[[subs, price], [parking]]</td>\n",
                            "    </tr>\n",
                            "    <tr>\n",
                            "      <th>2</th>\n",
                            "      <td>1114</td>\n",
                            "      <td>1001</td>\n",
                            "      <td>3</td>\n",
                            "      <td>previous i was bundled into a takeout work ord...</td>\n",
                            "      <td>[[rice, takeout, food], [food]]</td>\n",
                            "    </tr>\n",
                            "    <tr>\n",
                            "      <th>3</th>\n",
                            "      <td>120</td>\n",
                            "      <td>1001</td>\n",
                            "      <td>5</td>\n",
                            "      <td>this is my favorite restaurant by far . food o...</td>\n",
                            "      <td>[[restaurant], [food], [service], [dish, lobst...</td>\n",
                            "    </tr>\n",
                            "    <tr>\n",
                            "      <th>4</th>\n",
                            "      <td>1278</td>\n",
                            "      <td>1001</td>\n",
                            "      <td>4</td>\n",
                            "      <td>nice little gem right here . ok , staff were v...</td>\n",
                            "      <td>[[gem], [staff, drinks, drink, tasting], [lunc...</td>\n",
                            "    </tr>\n",
                            "    <tr>\n",
                            "      <th>...</th>\n",
                            "      <td>...</td>\n",
                            "      <td>...</td>\n",
                            "      <td>...</td>\n",
                            "      <td>...</td>\n",
                            "      <td>...</td>\n",
                            "    </tr>\n",
                            "    <tr>\n",
                            "      <th>191222</th>\n",
                            "      <td>4993</td>\n",
                            "      <td>9999</td>\n",
                            "      <td>5</td>\n",
                            "      <td>my two favorites are the carne asada and barba...</td>\n",
                            "      <td>[[juicy, favorites], [combo, taco, tacos, meal...</td>\n",
                            "    </tr>\n",
                            "    <tr>\n",
                            "      <th>191223</th>\n",
                            "      <td>704</td>\n",
                            "      <td>9999</td>\n",
                            "      <td>4</td>\n",
                            "      <td>the tacos themselves were a mixed bag . in par...</td>\n",
                            "      <td>[[tacos], [taco], [flavor, vegan], [pork, taco...</td>\n",
                            "    </tr>\n",
                            "    <tr>\n",
                            "      <th>191224</th>\n",
                            "      <td>7379</td>\n",
                            "      <td>9999</td>\n",
                            "      <td>5</td>\n",
                            "      <td>everything was great .</td>\n",
                            "      <td>[[everything]]</td>\n",
                            "    </tr>\n",
                            "    <tr>\n",
                            "      <th>191225</th>\n",
                            "      <td>8530</td>\n",
                            "      <td>9999</td>\n",
                            "      <td>4</td>\n",
                            "      <td>our last experience here went pretty well and ...</td>\n",
                            "      <td>[[food], [menu], [wait, chicken], [juicy], [me...</td>\n",
                            "    </tr>\n",
                            "    <tr>\n",
                            "      <th>191226</th>\n",
                            "      <td>8682</td>\n",
                            "      <td>9999</td>\n",
                            "      <td>5</td>\n",
                            "      <td>the surf and turf burrito ( carne asada and sh...</td>\n",
                            "      <td>[[burrito, shrimp], [burrito, cheese, steak, s...</td>\n",
                            "    </tr>\n",
                            "  </tbody>\n",
                            "</table>\n",
                            "<p>191227 rows × 5 columns</p>\n",
                            "</div>"
                        ]
                    },
                    "metadata": {},
                    "execution_count": 6
                }
            ],
            "metadata": {}
        },
        {
            "cell_type": "code",
            "execution_count": 7,
            "source": [
                "df_test_data"
            ],
            "outputs": [
                {
                    "output_type": "execute_result",
                    "data": {
                        "text/plain": [
                            "       item  user  rating                                             review  \\\n",
                            "0      1098  1001       4  great food , great price , great atmosphere .....   \n",
                            "1      1473  1001       4  the bbq pork also was way different this time ...   \n",
                            "2       157  1001       4  but that dumb naan , or pita bread stuff was a...   \n",
                            "3      1707  1001       4  _ price - average - please recognize fresh veg...   \n",
                            "4      2911  1001       4  pizza was very good , fresh ingredients , , no...   \n",
                            "...     ...   ...     ...                                                ...   \n",
                            "42697  3933  9999       4  they do n't have a matinee price , but then ag...   \n",
                            "42698  4154  9999       3  the main draw to this casinos over the others ...   \n",
                            "42699  4565  9999       5  it 's not like normal stouts and the flavor is...   \n",
                            "42700   624  9999       5  my two favorite meats for tacos are carne asad...   \n",
                            "42701   758  9999       5  the chicken and dumplings is probably the best...   \n",
                            "\n",
                            "                                                features  \n",
                            "0      [[atmosphere, price, food], [lunch, size, pric...  \n",
                            "1        [[bbq, pork, staff], [noodles, broccoli, rice]]  \n",
                            "2                                  [[pita, bread, naan]]  \n",
                            "3      [[dish, veggies, price], [shrimp, meats], [fla...  \n",
                            "4        [[dining, pasta, ingredients, pizza, mushroom]]  \n",
                            "...                                                  ...  \n",
                            "42697                                          [[price]]  \n",
                            "42698                                     [[restaurant]]  \n",
                            "42699               [[flavor], [taste, staff], [prices]]  \n",
                            "42700  [[meats, tacos], [salsa, bar], [salsas, beans,...  \n",
                            "42701  [[juicy, dumplings, items, chicken, gravy], [t...  \n",
                            "\n",
                            "[42702 rows x 5 columns]"
                        ],
                        "text/html": [
                            "<div>\n",
                            "<style scoped>\n",
                            "    .dataframe tbody tr th:only-of-type {\n",
                            "        vertical-align: middle;\n",
                            "    }\n",
                            "\n",
                            "    .dataframe tbody tr th {\n",
                            "        vertical-align: top;\n",
                            "    }\n",
                            "\n",
                            "    .dataframe thead th {\n",
                            "        text-align: right;\n",
                            "    }\n",
                            "</style>\n",
                            "<table border=\"1\" class=\"dataframe\">\n",
                            "  <thead>\n",
                            "    <tr style=\"text-align: right;\">\n",
                            "      <th></th>\n",
                            "      <th>item</th>\n",
                            "      <th>user</th>\n",
                            "      <th>rating</th>\n",
                            "      <th>review</th>\n",
                            "      <th>features</th>\n",
                            "    </tr>\n",
                            "  </thead>\n",
                            "  <tbody>\n",
                            "    <tr>\n",
                            "      <th>0</th>\n",
                            "      <td>1098</td>\n",
                            "      <td>1001</td>\n",
                            "      <td>4</td>\n",
                            "      <td>great food , great price , great atmosphere .....</td>\n",
                            "      <td>[[atmosphere, price, food], [lunch, size, pric...</td>\n",
                            "    </tr>\n",
                            "    <tr>\n",
                            "      <th>1</th>\n",
                            "      <td>1473</td>\n",
                            "      <td>1001</td>\n",
                            "      <td>4</td>\n",
                            "      <td>the bbq pork also was way different this time ...</td>\n",
                            "      <td>[[bbq, pork, staff], [noodles, broccoli, rice]]</td>\n",
                            "    </tr>\n",
                            "    <tr>\n",
                            "      <th>2</th>\n",
                            "      <td>157</td>\n",
                            "      <td>1001</td>\n",
                            "      <td>4</td>\n",
                            "      <td>but that dumb naan , or pita bread stuff was a...</td>\n",
                            "      <td>[[pita, bread, naan]]</td>\n",
                            "    </tr>\n",
                            "    <tr>\n",
                            "      <th>3</th>\n",
                            "      <td>1707</td>\n",
                            "      <td>1001</td>\n",
                            "      <td>4</td>\n",
                            "      <td>_ price - average - please recognize fresh veg...</td>\n",
                            "      <td>[[dish, veggies, price], [shrimp, meats], [fla...</td>\n",
                            "    </tr>\n",
                            "    <tr>\n",
                            "      <th>4</th>\n",
                            "      <td>2911</td>\n",
                            "      <td>1001</td>\n",
                            "      <td>4</td>\n",
                            "      <td>pizza was very good , fresh ingredients , , no...</td>\n",
                            "      <td>[[dining, pasta, ingredients, pizza, mushroom]]</td>\n",
                            "    </tr>\n",
                            "    <tr>\n",
                            "      <th>...</th>\n",
                            "      <td>...</td>\n",
                            "      <td>...</td>\n",
                            "      <td>...</td>\n",
                            "      <td>...</td>\n",
                            "      <td>...</td>\n",
                            "    </tr>\n",
                            "    <tr>\n",
                            "      <th>42697</th>\n",
                            "      <td>3933</td>\n",
                            "      <td>9999</td>\n",
                            "      <td>4</td>\n",
                            "      <td>they do n't have a matinee price , but then ag...</td>\n",
                            "      <td>[[price]]</td>\n",
                            "    </tr>\n",
                            "    <tr>\n",
                            "      <th>42698</th>\n",
                            "      <td>4154</td>\n",
                            "      <td>9999</td>\n",
                            "      <td>3</td>\n",
                            "      <td>the main draw to this casinos over the others ...</td>\n",
                            "      <td>[[restaurant]]</td>\n",
                            "    </tr>\n",
                            "    <tr>\n",
                            "      <th>42699</th>\n",
                            "      <td>4565</td>\n",
                            "      <td>9999</td>\n",
                            "      <td>5</td>\n",
                            "      <td>it 's not like normal stouts and the flavor is...</td>\n",
                            "      <td>[[flavor], [taste, staff], [prices]]</td>\n",
                            "    </tr>\n",
                            "    <tr>\n",
                            "      <th>42700</th>\n",
                            "      <td>624</td>\n",
                            "      <td>9999</td>\n",
                            "      <td>5</td>\n",
                            "      <td>my two favorite meats for tacos are carne asad...</td>\n",
                            "      <td>[[meats, tacos], [salsa, bar], [salsas, beans,...</td>\n",
                            "    </tr>\n",
                            "    <tr>\n",
                            "      <th>42701</th>\n",
                            "      <td>758</td>\n",
                            "      <td>9999</td>\n",
                            "      <td>5</td>\n",
                            "      <td>the chicken and dumplings is probably the best...</td>\n",
                            "      <td>[[juicy, dumplings, items, chicken, gravy], [t...</td>\n",
                            "    </tr>\n",
                            "  </tbody>\n",
                            "</table>\n",
                            "<p>42702 rows × 5 columns</p>\n",
                            "</div>"
                        ]
                    },
                    "metadata": {},
                    "execution_count": 7
                }
            ],
            "metadata": {}
        },
        {
            "cell_type": "code",
            "execution_count": 8,
            "source": [
                "print(\"number of user in trainset: {}\".format(len(list(df_train_data['user'].unique()))))\n",
                "print(\"number of item in trainset: {}\".format(len(list(df_train_data['item'].unique()))))"
            ],
            "outputs": [
                {
                    "output_type": "stream",
                    "name": "stdout",
                    "text": [
                        "number of user in trainset: 4604\n",
                        "number of item in trainset: 7837\n"
                    ]
                }
            ],
            "metadata": {}
        },
        {
            "cell_type": "markdown",
            "source": [
                "## Check the already labeled features"
            ],
            "metadata": {}
        },
        {
            "cell_type": "code",
            "execution_count": 34,
            "source": [
                "# from spacy.lang.en import English\n",
                "\n",
                "# nlp = English()\n",
                "# nlp.add_pipe(nlp.create_pipe('sentencizer'))\n",
                "# doc = nlp(\"the pork chop itself is moist and tender . everything was great .\")\n",
                "# assert len(list(doc.sents)) == 2\n",
                "# print(list(doc.sents))\n",
                "# print(list(doc.sents)[0].text)"
            ],
            "outputs": [],
            "metadata": {}
        },
        {
            "cell_type": "code",
            "execution_count": 9,
            "source": [
                "num_rows_differ_sents_features_list = 0\n",
                "for row in df_train_data.iterrows():\n",
                "    item_id = row[1]['item']\n",
                "    user_id = row[1]['user']\n",
                "    rating = row[1]['rating']\n",
                "    rvw_text = row[1]['review']\n",
                "    rvw_features = row[1]['features']\n",
                "    rvw_sents = sent_tokenize(rvw_text)\n",
                "    rvw_tokens = word_tokenize(rvw_text)\n",
                "    rvw_features_concat = []\n",
                "    for rvw_sent_feats in rvw_features:\n",
                "        rvw_features_concat.extend(rvw_sent_feats)\n",
                "\n",
                "    try:\n",
                "        assert len(rvw_sents) == len(rvw_features)\n",
                "    except:\n",
                "        num_rows_differ_sents_features_list += 1\n",
                "\n",
                "    for rvw_feat in rvw_features_concat:\n",
                "        assert rvw_feat in rvw_tokens\n",
                "\n",
                "    if (row[0]+1) % 50000 == 0:\n",
                "        print(\"{} lines\".format(row[0]+1))"
            ],
            "outputs": [
                {
                    "output_type": "stream",
                    "name": "stdout",
                    "text": [
                        "50000 lines\n",
                        "100000 lines\n",
                        "150000 lines\n"
                    ]
                }
            ],
            "metadata": {}
        },
        {
            "cell_type": "code",
            "execution_count": 10,
            "source": [
                "# TODO: The current sentence tokenizer is not aligned with the provided feature chunks in the data\n",
                "# Maybe we should preserve the input structure of list of sentences as review\n",
                "print(\"Number of reviews with different number of tokenized sentences and list of sentence features: {}\".format(\n",
                "    num_rows_differ_sents_features_list\n",
                "))\n",
                "# At least we know that each review's feature words all appear in the corresponding review text."
            ],
            "outputs": [
                {
                    "output_type": "stream",
                    "name": "stdout",
                    "text": [
                        "Number of reviews with different number of tokenized sentences and list of sentence features: 12474\n"
                    ]
                }
            ],
            "metadata": {}
        },
        {
            "cell_type": "code",
            "execution_count": 13,
            "source": [
                "# Extract Features\n",
                "feature_count = dict()\n",
                "cnt_features = 0\n",
                "for row in df_train_data.iterrows():\n",
                "    rvw_features = row[1]['features']\n",
                "    for rvw_sent_feats in rvw_features:\n",
                "        for rvw_feat in rvw_sent_feats:\n",
                "            if rvw_feat not in feature_count:\n",
                "                feature_count[rvw_feat] = 1\n",
                "                cnt_features += 1\n",
                "            else:\n",
                "                feature_count[rvw_feat] += 1\n",
                "assert cnt_features == len(feature_count)\n",
                "print(\"Totally {} features\".format(cnt_features))"
            ],
            "outputs": [
                {
                    "output_type": "stream",
                    "name": "stdout",
                    "text": [
                        "Totally 498 features\n"
                    ]
                }
            ],
            "metadata": {}
        },
        {
            "cell_type": "code",
            "execution_count": 14,
            "source": [
                "# sort the feature based on counts\n",
                "sorted_feat_counts = sorted(feature_count.items(), key = lambda x: -x[1])\n",
                "# build feature word to feature ids mappings\n",
                "feature2id_vocab = {entry[0]: str(id) for (id, entry) in enumerate(sorted_feat_counts)}\n",
                "id2feature_vocab = {v: u for u, v in feature2id_vocab.items()}"
            ],
            "outputs": [],
            "metadata": {}
        },
        {
            "cell_type": "code",
            "execution_count": 17,
            "source": [
                "feature2id_file = \"../Dataset/yelp/train/feature/feature2id.json\"\n",
                "with open(feature2id_file, 'w') as f:\n",
                "    print(\"Write file: {}\".format(feature2id_file))\n",
                "    json.dump(feature2id_vocab, f)\n",
                "\n",
                "id2feature_file = \"../Dataset/yelp/train/feature/id2feature.json\"\n",
                "with open(id2feature_file, 'w') as f:\n",
                "    print(\"Write file: {}\".format(id2feature_file))\n",
                "    json.dump(id2feature_vocab, f)\n"
            ],
            "outputs": [
                {
                    "output_type": "stream",
                    "name": "stdout",
                    "text": [
                        "Write file: ../Dataset/yelp/train/feature/feature2id.json\n",
                        "Write file: ../Dataset/yelp/train/feature/id2feature.json\n"
                    ]
                }
            ],
            "metadata": {}
        },
        {
            "cell_type": "markdown",
            "source": [
                "# Check Whether Test Features All Appears in Train Feature Set"
            ],
            "metadata": {}
        },
        {
            "cell_type": "code",
            "execution_count": 18,
            "source": [
                "num_rows_differ_sents_features_list = 0\n",
                "for row in df_test_data.iterrows():\n",
                "    item_id = row[1]['item']\n",
                "    user_id = row[1]['user']\n",
                "    rating = row[1]['rating']\n",
                "    rvw_text = row[1]['review']\n",
                "    rvw_features = row[1]['features']\n",
                "    rvw_sents = sent_tokenize(rvw_text)\n",
                "    rvw_tokens = word_tokenize(rvw_text)\n",
                "    rvw_features_concat = []\n",
                "    for rvw_sent_feats in rvw_features:\n",
                "        rvw_features_concat.extend(rvw_sent_feats)\n",
                "    # Align Sentences with Feature Lists\n",
                "    try:\n",
                "        assert len(rvw_sents) == len(rvw_features)\n",
                "    except:\n",
                "        num_rows_differ_sents_features_list += 1\n",
                "    # Check Features Indeed Appears in the Review Text\n",
                "    for rvw_feat in rvw_features_concat:\n",
                "        assert rvw_feat in rvw_tokens\n",
                "\n",
                "    if (row[0]+1) % 50000 == 0:\n",
                "        print(\"{} lines\".format(row[0]+1))"
            ],
            "outputs": [],
            "metadata": {}
        },
        {
            "cell_type": "code",
            "execution_count": 19,
            "source": [
                "print(\"Number of reviews with different number of tokenized sentences and list of sentence features: {}\".format(\n",
                "    num_rows_differ_sents_features_list\n",
                "))"
            ],
            "outputs": [
                {
                    "output_type": "stream",
                    "name": "stdout",
                    "text": [
                        "Number of reviews with different number of tokenized sentences and list of sentence features: 2582\n"
                    ]
                }
            ],
            "metadata": {}
        },
        {
            "cell_type": "code",
            "execution_count": 20,
            "source": [
                "test_new_feature_num = 0\n",
                "for row in df_test_data.iterrows():\n",
                "    rvw_features = row[1]['features']\n",
                "    for rvw_sent_feats in rvw_features:\n",
                "        for rvw_feat in rvw_sent_feats:\n",
                "            try:\n",
                "                assert rvw_feat in feature2id_vocab\n",
                "            except:\n",
                "                print(rvw_feat)\n",
                "                test_new_feature_num += 1\n",
                "\n",
                "print(\"Totally {} features on test but not on train\".format(test_new_feature_num))"
            ],
            "outputs": [
                {
                    "output_type": "stream",
                    "name": "stdout",
                    "text": [
                        "Totally 0 features on test but not on train\n"
                    ]
                }
            ],
            "metadata": {}
        },
        {
            "cell_type": "code",
            "execution_count": null,
            "source": [],
            "outputs": [],
            "metadata": {}
        }
    ],
    "metadata": {
        "orig_nbformat": 4,
        "language_info": {
            "name": "python",
            "version": "3.7.3",
            "mimetype": "text/x-python",
            "codemirror_mode": {
                "name": "ipython",
                "version": 3
            },
            "pygments_lexer": "ipython3",
            "nbconvert_exporter": "python",
            "file_extension": ".py"
        },
        "kernelspec": {
            "name": "python3",
            "display_name": "Python 3.7.3 64-bit ('base': conda)"
        },
        "interpreter": {
            "hash": "73d0647c863cb9ce92fb50b3911519dc6558e38bcfd5798aa86981c2dac43fdf"
        }
    },
    "nbformat": 4,
    "nbformat_minor": 2
}