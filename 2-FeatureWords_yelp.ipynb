{
    "cells": [
        {
            "cell_type": "code",
            "execution_count": 1,
            "source": [
                "!which python"
            ],
            "outputs": [
                {
                    "output_type": "stream",
                    "name": "stdout",
                    "text": [
                        "/u/pw7nc/anaconda3/bin/python\n"
                    ]
                }
            ],
            "metadata": {}
        },
        {
            "cell_type": "code",
            "execution_count": 2,
            "source": [
                "import spacy\n",
                "import nltk\n",
                "import re\n",
                "import json\n",
                "import pandas as pd\n",
                "import os\n",
                "import numpy as np\n",
                "from sklearn.feature_extraction.text import CountVectorizer,TfidfTransformer\n",
                "from nltk.tokenize import sent_tokenize, word_tokenize"
            ],
            "outputs": [],
            "metadata": {}
        },
        {
            "cell_type": "markdown",
            "source": [
                "# Load Dataset"
            ],
            "metadata": {}
        },
        {
            "cell_type": "code",
            "execution_count": 3,
            "source": [
                "dir_path = '../Dataset/yelp/'\n",
                "# Load cleaned train\n",
                "train_clean_file = os.path.join(dir_path, 'train_review_filtered.json')\n",
                "train_review = []\n",
                "with open(train_clean_file, 'r') as f:\n",
                "    for line in f:\n",
                "        line_data = json.loads(line)\n",
                "        item_id = line_data['item']\n",
                "        user_id = line_data['user']\n",
                "        rating = line_data['rating']\n",
                "        review = line_data['review']\n",
                "        features = line_data['features']\n",
                "        train_review.append([item_id, user_id, rating, review, features])\n",
                "print(\"Number of reviews on trainset: {}\".format(len(train_review)))"
            ],
            "outputs": [
                {
                    "output_type": "stream",
                    "name": "stdout",
                    "text": [
                        "Number of reviews on trainset: 668245\n"
                    ]
                }
            ],
            "metadata": {}
        },
        {
            "cell_type": "code",
            "execution_count": 4,
            "source": [
                "# Load cleaned test\n",
                "test_clean_file = os.path.join(dir_path, 'test_review_filtered_clean.json')\n",
                "test_review = []\n",
                "with open(test_clean_file, 'r') as f:\n",
                "    for line in f:\n",
                "        line_data = json.loads(line)\n",
                "        item_id = line_data['item']\n",
                "        user_id = line_data['user']\n",
                "        rating = line_data['rating']\n",
                "        review = line_data['review']\n",
                "        features = line_data['features']\n",
                "        test_review.append([item_id, user_id, rating, review, features])\n",
                "print(\"Number of reviews on testset: {}\".format(len(test_review)))"
            ],
            "outputs": [
                {
                    "output_type": "stream",
                    "name": "stdout",
                    "text": [
                        "Number of reviews on testset: 183650\n"
                    ]
                }
            ],
            "metadata": {}
        },
        {
            "cell_type": "markdown",
            "source": [
                "## Convert List Data to Pandas Dataframe"
            ],
            "metadata": {}
        },
        {
            "cell_type": "code",
            "execution_count": 5,
            "source": [
                "df_train_data = pd.DataFrame(train_review, columns=['item', 'user', 'rating', 'review', 'features'])\n",
                "df_test_data = pd.DataFrame(test_review, columns=['item', 'user', 'rating', 'review', 'features'])"
            ],
            "outputs": [],
            "metadata": {}
        },
        {
            "cell_type": "code",
            "execution_count": 6,
            "source": [
                "df_train_data"
            ],
            "outputs": [
                {
                    "output_type": "execute_result",
                    "data": {
                        "text/plain": [
                            "         item  user  rating  \\\n",
                            "0       10000     0       4   \n",
                            "1       10019     0       3   \n",
                            "2        1002     0       3   \n",
                            "3       10020     0       3   \n",
                            "4       10039     0       4   \n",
                            "...       ...   ...     ...   \n",
                            "668240   4993  9999       5   \n",
                            "668241    704  9999       4   \n",
                            "668242   7379  9999       5   \n",
                            "668243   8530  9999       4   \n",
                            "668244   8682  9999       5   \n",
                            "\n",
                            "                                                   review  \\\n",
                            "0       recommendations are right on and always fun to...   \n",
                            "1       just the same pricing but with less item selec...   \n",
                            "2       taste much better than ayce sushi ! the sushi ...   \n",
                            "3       this is a brand new location of ruelo that rec...   \n",
                            "4       medium rare is a little dry ... since the stea...   \n",
                            "...                                                   ...   \n",
                            "668240  my two favorites are the carne asada and barba...   \n",
                            "668241  the tacos themselves were a mixed bag . in par...   \n",
                            "668242                             everything was great .   \n",
                            "668243  our last experience here went pretty well and ...   \n",
                            "668244  the surf and turf burrito ( carne asada and sh...   \n",
                            "\n",
                            "                                                 features  \n",
                            "0         [[beer, recommendations], [beers, drink, food]]  \n",
                            "1                                 [[selections, pricing]]  \n",
                            "2              [[sushi, taste], [sushi, bite], [service]]  \n",
                            "3       [[location, plaza], [location, customer, tea, ...  \n",
                            "4               [[steak, medium], [food, patrons, cheap]]  \n",
                            "...                                                   ...  \n",
                            "668240  [[juicy, favorites], [combo, taco, tacos, meal...  \n",
                            "668241  [[tacos], [taco], [flavor, vegan], [pork, taco...  \n",
                            "668242                                     [[everything]]  \n",
                            "668243  [[food], [menu], [wait, chicken], [juicy], [me...  \n",
                            "668244  [[burrito, shrimp], [burrito, cheese, steak, s...  \n",
                            "\n",
                            "[668245 rows x 5 columns]"
                        ],
                        "text/html": [
                            "<div>\n",
                            "<style scoped>\n",
                            "    .dataframe tbody tr th:only-of-type {\n",
                            "        vertical-align: middle;\n",
                            "    }\n",
                            "\n",
                            "    .dataframe tbody tr th {\n",
                            "        vertical-align: top;\n",
                            "    }\n",
                            "\n",
                            "    .dataframe thead th {\n",
                            "        text-align: right;\n",
                            "    }\n",
                            "</style>\n",
                            "<table border=\"1\" class=\"dataframe\">\n",
                            "  <thead>\n",
                            "    <tr style=\"text-align: right;\">\n",
                            "      <th></th>\n",
                            "      <th>item</th>\n",
                            "      <th>user</th>\n",
                            "      <th>rating</th>\n",
                            "      <th>review</th>\n",
                            "      <th>features</th>\n",
                            "    </tr>\n",
                            "  </thead>\n",
                            "  <tbody>\n",
                            "    <tr>\n",
                            "      <th>0</th>\n",
                            "      <td>10000</td>\n",
                            "      <td>0</td>\n",
                            "      <td>4</td>\n",
                            "      <td>recommendations are right on and always fun to...</td>\n",
                            "      <td>[[beer, recommendations], [beers, drink, food]]</td>\n",
                            "    </tr>\n",
                            "    <tr>\n",
                            "      <th>1</th>\n",
                            "      <td>10019</td>\n",
                            "      <td>0</td>\n",
                            "      <td>3</td>\n",
                            "      <td>just the same pricing but with less item selec...</td>\n",
                            "      <td>[[selections, pricing]]</td>\n",
                            "    </tr>\n",
                            "    <tr>\n",
                            "      <th>2</th>\n",
                            "      <td>1002</td>\n",
                            "      <td>0</td>\n",
                            "      <td>3</td>\n",
                            "      <td>taste much better than ayce sushi ! the sushi ...</td>\n",
                            "      <td>[[sushi, taste], [sushi, bite], [service]]</td>\n",
                            "    </tr>\n",
                            "    <tr>\n",
                            "      <th>3</th>\n",
                            "      <td>10020</td>\n",
                            "      <td>0</td>\n",
                            "      <td>3</td>\n",
                            "      <td>this is a brand new location of ruelo that rec...</td>\n",
                            "      <td>[[location, plaza], [location, customer, tea, ...</td>\n",
                            "    </tr>\n",
                            "    <tr>\n",
                            "      <th>4</th>\n",
                            "      <td>10039</td>\n",
                            "      <td>0</td>\n",
                            "      <td>4</td>\n",
                            "      <td>medium rare is a little dry ... since the stea...</td>\n",
                            "      <td>[[steak, medium], [food, patrons, cheap]]</td>\n",
                            "    </tr>\n",
                            "    <tr>\n",
                            "      <th>...</th>\n",
                            "      <td>...</td>\n",
                            "      <td>...</td>\n",
                            "      <td>...</td>\n",
                            "      <td>...</td>\n",
                            "      <td>...</td>\n",
                            "    </tr>\n",
                            "    <tr>\n",
                            "      <th>668240</th>\n",
                            "      <td>4993</td>\n",
                            "      <td>9999</td>\n",
                            "      <td>5</td>\n",
                            "      <td>my two favorites are the carne asada and barba...</td>\n",
                            "      <td>[[juicy, favorites], [combo, taco, tacos, meal...</td>\n",
                            "    </tr>\n",
                            "    <tr>\n",
                            "      <th>668241</th>\n",
                            "      <td>704</td>\n",
                            "      <td>9999</td>\n",
                            "      <td>4</td>\n",
                            "      <td>the tacos themselves were a mixed bag . in par...</td>\n",
                            "      <td>[[tacos], [taco], [flavor, vegan], [pork, taco...</td>\n",
                            "    </tr>\n",
                            "    <tr>\n",
                            "      <th>668242</th>\n",
                            "      <td>7379</td>\n",
                            "      <td>9999</td>\n",
                            "      <td>5</td>\n",
                            "      <td>everything was great .</td>\n",
                            "      <td>[[everything]]</td>\n",
                            "    </tr>\n",
                            "    <tr>\n",
                            "      <th>668243</th>\n",
                            "      <td>8530</td>\n",
                            "      <td>9999</td>\n",
                            "      <td>4</td>\n",
                            "      <td>our last experience here went pretty well and ...</td>\n",
                            "      <td>[[food], [menu], [wait, chicken], [juicy], [me...</td>\n",
                            "    </tr>\n",
                            "    <tr>\n",
                            "      <th>668244</th>\n",
                            "      <td>8682</td>\n",
                            "      <td>9999</td>\n",
                            "      <td>5</td>\n",
                            "      <td>the surf and turf burrito ( carne asada and sh...</td>\n",
                            "      <td>[[burrito, shrimp], [burrito, cheese, steak, s...</td>\n",
                            "    </tr>\n",
                            "  </tbody>\n",
                            "</table>\n",
                            "<p>668245 rows × 5 columns</p>\n",
                            "</div>"
                        ]
                    },
                    "metadata": {},
                    "execution_count": 6
                }
            ],
            "metadata": {}
        },
        {
            "cell_type": "code",
            "execution_count": 7,
            "source": [
                "df_test_data"
            ],
            "outputs": [
                {
                    "output_type": "execute_result",
                    "data": {
                        "text/plain": [
                            "         item  user  rating  \\\n",
                            "0       10184     0       3   \n",
                            "1        1040     0       4   \n",
                            "2       10514     0       4   \n",
                            "3       10702     0       3   \n",
                            "4        1081     0       4   \n",
                            "...       ...   ...     ...   \n",
                            "183645   4154  9999       3   \n",
                            "183646   4565  9999       5   \n",
                            "183647      6  9999       3   \n",
                            "183648    624  9999       5   \n",
                            "183649    758  9999       5   \n",
                            "\n",
                            "                                                   review  \\\n",
                            "0              the pork chop itself is moist and tender .   \n",
                            "1       arrowshoot noodle were chewy and have great bi...   \n",
                            "2       as there are 5 dim sum chefs working in the ki...   \n",
                            "3       service is polite and since it was not busy th...   \n",
                            "4       ramen salad - refreshing daily specials , make...   \n",
                            "...                                                   ...   \n",
                            "183645  the main draw to this casinos over the others ...   \n",
                            "183646  it 's not like normal stouts and the flavor is...   \n",
                            "183647  the food here was very good . the prices were ...   \n",
                            "183648  my two favorite meats for tacos are carne asad...   \n",
                            "183649  the chicken and dumplings is probably the best...   \n",
                            "\n",
                            "                                                 features  \n",
                            "0                                        [[pork, tender]]  \n",
                            "1                                        [[bite, noodle]]  \n",
                            "2       [[kitchen, everything, chefs], [price], [tea],...  \n",
                            "3                                             [[service]]  \n",
                            "4                            [[salad, ramen], [specials]]  \n",
                            "...                                                   ...  \n",
                            "183645                                     [[restaurant]]  \n",
                            "183646               [[flavor], [taste, staff], [prices]]  \n",
                            "183647  [[food], [prices, fries, burger], [burgers], [...  \n",
                            "183648  [[meats, tacos], [salsa, bar], [salsas, beans,...  \n",
                            "183649  [[juicy, dumplings, items, chicken, gravy], [t...  \n",
                            "\n",
                            "[183650 rows x 5 columns]"
                        ],
                        "text/html": [
                            "<div>\n",
                            "<style scoped>\n",
                            "    .dataframe tbody tr th:only-of-type {\n",
                            "        vertical-align: middle;\n",
                            "    }\n",
                            "\n",
                            "    .dataframe tbody tr th {\n",
                            "        vertical-align: top;\n",
                            "    }\n",
                            "\n",
                            "    .dataframe thead th {\n",
                            "        text-align: right;\n",
                            "    }\n",
                            "</style>\n",
                            "<table border=\"1\" class=\"dataframe\">\n",
                            "  <thead>\n",
                            "    <tr style=\"text-align: right;\">\n",
                            "      <th></th>\n",
                            "      <th>item</th>\n",
                            "      <th>user</th>\n",
                            "      <th>rating</th>\n",
                            "      <th>review</th>\n",
                            "      <th>features</th>\n",
                            "    </tr>\n",
                            "  </thead>\n",
                            "  <tbody>\n",
                            "    <tr>\n",
                            "      <th>0</th>\n",
                            "      <td>10184</td>\n",
                            "      <td>0</td>\n",
                            "      <td>3</td>\n",
                            "      <td>the pork chop itself is moist and tender .</td>\n",
                            "      <td>[[pork, tender]]</td>\n",
                            "    </tr>\n",
                            "    <tr>\n",
                            "      <th>1</th>\n",
                            "      <td>1040</td>\n",
                            "      <td>0</td>\n",
                            "      <td>4</td>\n",
                            "      <td>arrowshoot noodle were chewy and have great bi...</td>\n",
                            "      <td>[[bite, noodle]]</td>\n",
                            "    </tr>\n",
                            "    <tr>\n",
                            "      <th>2</th>\n",
                            "      <td>10514</td>\n",
                            "      <td>0</td>\n",
                            "      <td>4</td>\n",
                            "      <td>as there are 5 dim sum chefs working in the ki...</td>\n",
                            "      <td>[[kitchen, everything, chefs], [price], [tea],...</td>\n",
                            "    </tr>\n",
                            "    <tr>\n",
                            "      <th>3</th>\n",
                            "      <td>10702</td>\n",
                            "      <td>0</td>\n",
                            "      <td>3</td>\n",
                            "      <td>service is polite and since it was not busy th...</td>\n",
                            "      <td>[[service]]</td>\n",
                            "    </tr>\n",
                            "    <tr>\n",
                            "      <th>4</th>\n",
                            "      <td>1081</td>\n",
                            "      <td>0</td>\n",
                            "      <td>4</td>\n",
                            "      <td>ramen salad - refreshing daily specials , make...</td>\n",
                            "      <td>[[salad, ramen], [specials]]</td>\n",
                            "    </tr>\n",
                            "    <tr>\n",
                            "      <th>...</th>\n",
                            "      <td>...</td>\n",
                            "      <td>...</td>\n",
                            "      <td>...</td>\n",
                            "      <td>...</td>\n",
                            "      <td>...</td>\n",
                            "    </tr>\n",
                            "    <tr>\n",
                            "      <th>183645</th>\n",
                            "      <td>4154</td>\n",
                            "      <td>9999</td>\n",
                            "      <td>3</td>\n",
                            "      <td>the main draw to this casinos over the others ...</td>\n",
                            "      <td>[[restaurant]]</td>\n",
                            "    </tr>\n",
                            "    <tr>\n",
                            "      <th>183646</th>\n",
                            "      <td>4565</td>\n",
                            "      <td>9999</td>\n",
                            "      <td>5</td>\n",
                            "      <td>it 's not like normal stouts and the flavor is...</td>\n",
                            "      <td>[[flavor], [taste, staff], [prices]]</td>\n",
                            "    </tr>\n",
                            "    <tr>\n",
                            "      <th>183647</th>\n",
                            "      <td>6</td>\n",
                            "      <td>9999</td>\n",
                            "      <td>3</td>\n",
                            "      <td>the food here was very good . the prices were ...</td>\n",
                            "      <td>[[food], [prices, fries, burger], [burgers], [...</td>\n",
                            "    </tr>\n",
                            "    <tr>\n",
                            "      <th>183648</th>\n",
                            "      <td>624</td>\n",
                            "      <td>9999</td>\n",
                            "      <td>5</td>\n",
                            "      <td>my two favorite meats for tacos are carne asad...</td>\n",
                            "      <td>[[meats, tacos], [salsa, bar], [salsas, beans,...</td>\n",
                            "    </tr>\n",
                            "    <tr>\n",
                            "      <th>183649</th>\n",
                            "      <td>758</td>\n",
                            "      <td>9999</td>\n",
                            "      <td>5</td>\n",
                            "      <td>the chicken and dumplings is probably the best...</td>\n",
                            "      <td>[[juicy, dumplings, items, chicken, gravy], [t...</td>\n",
                            "    </tr>\n",
                            "  </tbody>\n",
                            "</table>\n",
                            "<p>183650 rows × 5 columns</p>\n",
                            "</div>"
                        ]
                    },
                    "metadata": {},
                    "execution_count": 7
                }
            ],
            "metadata": {}
        },
        {
            "cell_type": "code",
            "execution_count": 8,
            "source": [
                "print(\"number of user in trainset: {}\".format(len(list(df_train_data['user'].unique()))))\n",
                "print(\"number of item in trainset: {}\".format(len(list(df_train_data['item'].unique()))))"
            ],
            "outputs": [
                {
                    "output_type": "stream",
                    "name": "stdout",
                    "text": [
                        "number of user in trainset: 15639\n",
                        "number of item in trainset: 21515\n"
                    ]
                }
            ],
            "metadata": {}
        },
        {
            "cell_type": "markdown",
            "source": [
                "## Check the already labeled features"
            ],
            "metadata": {}
        },
        {
            "cell_type": "code",
            "execution_count": 34,
            "source": [
                "# from spacy.lang.en import English\n",
                "\n",
                "# nlp = English()\n",
                "# nlp.add_pipe(nlp.create_pipe('sentencizer'))\n",
                "# doc = nlp(\"the pork chop itself is moist and tender . everything was great .\")\n",
                "# assert len(list(doc.sents)) == 2\n",
                "# print(list(doc.sents))\n",
                "# print(list(doc.sents)[0].text)"
            ],
            "outputs": [],
            "metadata": {}
        },
        {
            "cell_type": "code",
            "execution_count": 35,
            "source": [
                "num_rows_differ_sents_features_list = 0\n",
                "for row in df_train_data.iterrows():\n",
                "    item_id = row[1]['item']\n",
                "    user_id = row[1]['user']\n",
                "    rating = row[1]['rating']\n",
                "    rvw_text = row[1]['review']\n",
                "    rvw_features = row[1]['features']\n",
                "    rvw_sents = sent_tokenize(rvw_text)\n",
                "    rvw_tokens = word_tokenize(rvw_text)\n",
                "    rvw_features_concat = []\n",
                "    for rvw_sent_feats in rvw_features:\n",
                "        rvw_features_concat.extend(rvw_sent_feats)\n",
                "\n",
                "    try:\n",
                "        assert len(rvw_sents) == len(rvw_features)\n",
                "    except:\n",
                "        num_rows_differ_sents_features_list += 1\n",
                "\n",
                "    for rvw_feat in rvw_features_concat:\n",
                "        assert rvw_feat in rvw_tokens\n",
                "\n",
                "    if (row[0]+1) % 50000 == 0:\n",
                "        print(\"{} lines\".format(row[0]+1))"
            ],
            "outputs": [
                {
                    "output_type": "stream",
                    "name": "stdout",
                    "text": [
                        "50000 lines\n",
                        "100000 lines\n",
                        "150000 lines\n",
                        "200000 lines\n",
                        "250000 lines\n",
                        "300000 lines\n",
                        "350000 lines\n",
                        "400000 lines\n",
                        "450000 lines\n",
                        "500000 lines\n",
                        "550000 lines\n",
                        "600000 lines\n",
                        "650000 lines\n"
                    ]
                }
            ],
            "metadata": {}
        },
        {
            "cell_type": "code",
            "execution_count": 36,
            "source": [
                "# TODO: The current sentence tokenizer is not aligned with the provided feature chunks in the data\n",
                "# Maybe we should preserve the input structure of list of sentences as review\n",
                "print(\"Number of reviews with different number of tokenized sentences and list of sentence features: {}\".format(\n",
                "    num_rows_differ_sents_features_list\n",
                "))\n",
                "# At least we know that each review's feature words all appear in the corresponding review text."
            ],
            "outputs": [
                {
                    "output_type": "stream",
                    "name": "stdout",
                    "text": [
                        "Number of reviews with different number of tokenized sentences and list of sentence features: 41484\n"
                    ]
                }
            ],
            "metadata": {}
        },
        {
            "cell_type": "code",
            "execution_count": 39,
            "source": [
                "# Extract Features\n",
                "feature2id_vocab = dict()\n",
                "cnt_features = 0\n",
                "for row in df_train_data.iterrows():\n",
                "    rvw_features = row[1]['features']\n",
                "    for rvw_sent_feats in rvw_features:\n",
                "        for rvw_feat in rvw_sent_feats:\n",
                "            if rvw_feat not in feature2id_vocab:\n",
                "                feature2id_vocab[rvw_feat] = str(cnt_features)\n",
                "                cnt_features += 1\n",
                "assert cnt_features == len(feature2id_vocab)\n",
                "print(\"Totally {} features\".format(cnt_features))"
            ],
            "outputs": [
                {
                    "output_type": "stream",
                    "name": "stdout",
                    "text": [
                        "Totally 498 features\n"
                    ]
                }
            ],
            "metadata": {}
        },
        {
            "cell_type": "code",
            "execution_count": 40,
            "source": [
                "id2feature_vocab = {v: u for u, v in feature2id_vocab.items()}"
            ],
            "outputs": [],
            "metadata": {}
        },
        {
            "cell_type": "code",
            "execution_count": 42,
            "source": [
                "feature2id_file = \"../Dataset/yelp/train/feature/feature2id.json\"\n",
                "with open(feature2id_file, 'w') as f:\n",
                "    print(\"Write file: {}\".format(feature2id_file))\n",
                "    json.dump(feature2id_vocab, f)\n",
                "\n",
                "id2feature_file = \"../Dataset/yelp/train/feature/id2feature.json\"\n",
                "with open(id2feature_file, 'w') as f:\n",
                "    print(\"Write file: {}\".format(id2feature_file))\n",
                "    json.dump(id2feature_vocab, f)\n"
            ],
            "outputs": [
                {
                    "output_type": "stream",
                    "name": "stdout",
                    "text": [
                        "Write file: ../Dataset/yelp/train/feature/feature2id.json\n",
                        "Write file: ../Dataset/yelp/train/feature/id2feature.json\n"
                    ]
                }
            ],
            "metadata": {}
        },
        {
            "cell_type": "markdown",
            "source": [
                "# Check Whether Test Features All Appears in Train Feature Set"
            ],
            "metadata": {}
        },
        {
            "cell_type": "code",
            "execution_count": 43,
            "source": [
                "num_rows_differ_sents_features_list = 0\n",
                "for row in df_test_data.iterrows():\n",
                "    item_id = row[1]['item']\n",
                "    user_id = row[1]['user']\n",
                "    rating = row[1]['rating']\n",
                "    rvw_text = row[1]['review']\n",
                "    rvw_features = row[1]['features']\n",
                "    rvw_sents = sent_tokenize(rvw_text)\n",
                "    rvw_tokens = word_tokenize(rvw_text)\n",
                "    rvw_features_concat = []\n",
                "    for rvw_sent_feats in rvw_features:\n",
                "        rvw_features_concat.extend(rvw_sent_feats)\n",
                "    # Align Sentences with Feature Lists\n",
                "    try:\n",
                "        assert len(rvw_sents) == len(rvw_features)\n",
                "    except:\n",
                "        num_rows_differ_sents_features_list += 1\n",
                "    # Check Features Indeed Appears in the Review Text\n",
                "    for rvw_feat in rvw_features_concat:\n",
                "        assert rvw_feat in rvw_tokens\n",
                "\n",
                "    if (row[0]+1) % 50000 == 0:\n",
                "        print(\"{} lines\".format(row[0]+1))"
            ],
            "outputs": [
                {
                    "output_type": "stream",
                    "name": "stdout",
                    "text": [
                        "50000 lines\n",
                        "100000 lines\n",
                        "150000 lines\n"
                    ]
                }
            ],
            "metadata": {}
        },
        {
            "cell_type": "code",
            "execution_count": 45,
            "source": [
                "print(\"Number of reviews with different number of tokenized sentences and list of sentence features: {}\".format(\n",
                "    num_rows_differ_sents_features_list\n",
                "))"
            ],
            "outputs": [
                {
                    "output_type": "stream",
                    "name": "stdout",
                    "text": [
                        "Number of reviews with different number of tokenized sentences and list of sentence features: 10823\n"
                    ]
                }
            ],
            "metadata": {}
        },
        {
            "cell_type": "code",
            "execution_count": 44,
            "source": [
                "test_new_feature_num = 0\n",
                "for row in df_test_data.iterrows():\n",
                "    rvw_features = row[1]['features']\n",
                "    for rvw_sent_feats in rvw_features:\n",
                "        for rvw_feat in rvw_sent_feats:\n",
                "            try:\n",
                "                assert rvw_feat in feature2id_vocab\n",
                "            except:\n",
                "                print(rvw_feat)\n",
                "                test_new_feature_num += 1\n",
                "\n",
                "print(\"Totally {} features on test but not on train\".format(test_new_feature_num))"
            ],
            "outputs": [
                {
                    "output_type": "stream",
                    "name": "stdout",
                    "text": [
                        "Totally 0 features on test but not on train\n"
                    ]
                }
            ],
            "metadata": {}
        },
        {
            "cell_type": "code",
            "execution_count": null,
            "source": [],
            "outputs": [],
            "metadata": {}
        }
    ],
    "metadata": {
        "orig_nbformat": 4,
        "language_info": {
            "name": "python",
            "version": "3.7.3",
            "mimetype": "text/x-python",
            "codemirror_mode": {
                "name": "ipython",
                "version": 3
            },
            "pygments_lexer": "ipython3",
            "nbconvert_exporter": "python",
            "file_extension": ".py"
        },
        "kernelspec": {
            "name": "python3",
            "display_name": "Python 3.7.3 64-bit ('base': conda)"
        },
        "interpreter": {
            "hash": "73d0647c863cb9ce92fb50b3911519dc6558e38bcfd5798aa86981c2dac43fdf"
        }
    },
    "nbformat": 4,
    "nbformat_minor": 2
}